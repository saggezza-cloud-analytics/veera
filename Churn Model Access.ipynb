{
    "nbformat_minor": 1, 
    "cells": [
        {
            "source": "## Access an ML model\n", 
            "cell_type": "markdown", 
            "metadata": {
                "collapsed": true
            }
        }, 
        {
            "execution_count": 1, 
            "cell_type": "code", 
            "metadata": {}, 
            "outputs": [], 
            "source": "import urllib3, requests, json\n\n# retrieve your wml_service_credentials_username, wml_service_credentials_password, and wml_service_credentials_url from the\n# Service credentials associated with your IBM Cloud Watson Machine Learning Service instance\n\nwml_credentials={\n  \"url\": \"https://ibm-watson-ml.mybluemix.net\",\n  \"username\": \"7da8141b-5179-4328-9ff6-db7269ba5965\",\n  \"password\": \"f9307508-9e3f-4abc-9842-4da7565183d4\",\n  \"instance_id\": \"6a19a250-0320-4fbf-86cb-7c07e52eca78\"\n}\n\nheaders = urllib3.util.make_headers(basic_auth='{username}:{password}'.format(username=wml_credentials['username'], \n                                                                              password=wml_credentials['password']))\nurl = '{}/v3/identity/token'.format(wml_credentials['url'])\nresponse = requests.get(url, headers=headers)\nmltoken = json.loads(response.text).get('token')\n\nheader = {'Content-Type': 'application/json', 'Authorization': 'Bearer ' + mltoken}"
        }, 
        {
            "execution_count": 2, 
            "cell_type": "code", 
            "metadata": {}, 
            "outputs": [], 
            "source": "# Customer 1: \"T\", Customer 6: \"F\"\ncust_1 = [1,\"F\",\"S\",1.000000,38000.000000,\"N\",24.393333,23.560000,0.000000,206.080000,0.000000,\"CC\",\"Budget\",\"Intnl_discount\",229.640000,3.000000]\ncust_6 = [6,\"M\",\"M\",2.000000,29616.000000,\"N\",49.426667,29.780000,0.000000,45.500000,0.000000,\"CH\",\"FreeLocal\",\"Standard\",75.290000,2.000000]"
        }, 
        {
            "execution_count": 3, 
            "cell_type": "code", 
            "metadata": {}, 
            "outputs": [
                {
                    "output_type": "stream", 
                    "name": "stdout", 
                    "text": "Scoring response\n{'values': [[1, 'F', 'S', 1.0, 38000.0, 'N', 24.393333, 23.56, 0.0, 206.08, 0.0, 'CC', 'Budget', 'Intnl_discount', 229.64, 3.0, [0.0008965500602917828, 0.0, 1.9442025196142205, 1.1827482157723472, 1.2361091397264845, 0.0, 1.6494419764192778, 2.341965204333487, 0.0, 3.5666282623658154, 0.0, 0.0, 0.0, 2.142145551480659, 3.8214707290305956, 2.6603044102272797], [2.575391046296903, 17.424608953703096], [0.12876955231484516, 0.8712304476851548], 1.0, 'T', ['F', 'T']], [6, 'M', 'M', 2.0, 29616.0, 'N', 49.426667, 29.78, 0.0, 45.5, 0.0, 'CH', 'FreeLocal', 'Standard', 75.29, 2.0, [0.005379300361750697, 2.0666867321858926, 0.0, 2.3654964315446945, 0.963384428477357, 0.0, 3.342159896898776, 2.960259922964824, 0.0, 0.7874688758620175, 0.0, 2.5503318274491784, 2.0120912183489357, 0.0, 1.252911214025055, 1.773536273484853], [15.668525567791935, 4.331474432208066], [0.7834262783895968, 0.21657372161040328], 0.0, 'F', ['F', 'T']]], 'fields': ['ID', 'Gender', 'Status', 'Children', 'Est Income', 'Car Owner', 'Age', 'LongDistance', 'International', 'Local', 'Dropped', 'Paymethod', 'LocalBilltype', 'LongDistanceBilltype', 'Usage', 'RatePlan', 'features', 'rawPrediction', 'probability', 'prediction', 'nodeADP_class', 'nodeADP_classes']}\n"
                }
            ], 
            "source": "# NOTE: manually define and pass the array(s) of values to be scored in the next line\npayload_scoring = {\"fields\": [\"ID\", \"Gender\", \"Status\", \"Children\", \"Est Income\", \"Car Owner\", \"Age\", \"LongDistance\", \"International\", \"Local\", \"Dropped\", \"Paymethod\", \"LocalBilltype\", \"LongDistanceBilltype\", \"Usage\", \"RatePlan\"], \"values\": [cust_1, cust_6]}\n\nresponse_scoring = requests.post('https://ibm-watson-ml.mybluemix.net/v3/wml_instances/6a19a250-0320-4fbf-86cb-7c07e52eca78/published_models/7b409c21-c23a-400d-b6e1-206a50025e44/deployments/fdfd29b0-55f1-445e-8cf4-d6d25d6d3743/online', json=payload_scoring, headers=header)\nprint(\"Scoring response\")\ndoc = json.loads(response_scoring.text)\nprint(doc)"
        }, 
        {
            "execution_count": 4, 
            "cell_type": "code", 
            "metadata": {}, 
            "outputs": [
                {
                    "output_type": "stream", 
                    "name": "stdout", 
                    "text": "['probability', 'prediction', 'nodeADP_class']\nID: 1\n[[0.12876955231484516, 0.8712304476851548], 1.0, 'T']\nID: 6\n[[0.7834262783895968, 0.21657372161040328], 0.0, 'F']\n"
                }
            ], 
            "source": "print(doc['fields'][18:21])\nprint(\"ID: \" + str(doc['values'][0][0]))\nprint(doc['values'][0][18:21])\nprint(\"ID: \" + str(doc['values'][1][0]))\nprint(doc['values'][1][18:21])"
        }, 
        {
            "execution_count": null, 
            "cell_type": "code", 
            "metadata": {}, 
            "outputs": [], 
            "source": ""
        }
    ], 
    "metadata": {
        "kernelspec": {
            "display_name": "Python 3.5", 
            "name": "python3", 
            "language": "python"
        }, 
        "language_info": {
            "mimetype": "text/x-python", 
            "nbconvert_exporter": "python", 
            "version": "3.5.4", 
            "name": "python", 
            "file_extension": ".py", 
            "pygments_lexer": "ipython3", 
            "codemirror_mode": {
                "version": 3, 
                "name": "ipython"
            }
        }
    }, 
    "nbformat": 4
}