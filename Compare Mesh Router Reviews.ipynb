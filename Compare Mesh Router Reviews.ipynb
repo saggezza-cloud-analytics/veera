{
    "nbformat_minor": 1, 
    "cells": [
        {
            "source": "# Introduction\n\nIn this notebook we shall use Google's Search API and IBM Watson API to comapre reviews of competing products for new generation Mesh Routers. Here we are comparing reviews of 3 Mesh Routers - EERO, Netgear's Orbi and Luma.\nThis notebook uses Spark's Rest Data Source to call Gooogle's Search API and IBM Watson API.\nThis same notebook can be used for other competing products with different configuration for Google Search API and key words.", 
            "cell_type": "markdown", 
            "metadata": {
                "collapsed": true
            }
        }, 
        {
            "source": "## Getting search results using key words in Google Search API\n\nAt first we shall define a set of key words to search reviews of the selected 3 products in Google using Google's Search API.\n\nFor that let us first define search phrases/search words each for one type of Router", 
            "cell_type": "markdown", 
            "metadata": {}
        }, 
        {
            "execution_count": 5, 
            "cell_type": "code", 
            "metadata": {}, 
            "outputs": [], 
            "source": "inputSW1 = ('eero wifi')\ninputSW2 = ('Luma wifi')\ninputSW3 = ('Orbi wifi')"
        }, 
        {
            "source": "Now we define the URI for the Google's Search API. This URI uses specific Custom Search Engine instance (cx) and access key (key) created for this usecase using Google's developer cloud. For other use cases similar Custom Serach Engine instance can be defined. We are keeping these two parameters as blank here so that you can insert values specific to your Custom Search Engine.", 
            "cell_type": "markdown", 
            "metadata": {}
        }, 
        {
            "execution_count": 17, 
            "cell_type": "code", 
            "metadata": {}, 
            "outputs": [], 
            "source": "gKey = ''\ngCx = ''"
        }, 
        {
            "execution_count": 7, 
            "cell_type": "code", 
            "metadata": {}, 
            "outputs": [], 
            "source": "gapi = 'https://www.googleapis.com/customsearch/v1?cx=' + gCx + '&key='+ gKey"
        }, 
        {
            "source": "Now we create a dataframe out of those 3 sets of search words. Note that for credating the dataframe we are using 'q' as the column name as 'q' is the key expected by Google Search API for supplying the search words.", 
            "cell_type": "markdown", 
            "metadata": {}
        }, 
        {
            "execution_count": 8, 
            "cell_type": "code", 
            "metadata": {}, 
            "outputs": [], 
            "source": "gDf = sc.parallelize([[inputSW1], [inputSW2], [inputSW3]]).toDF(['q'])"
        }, 
        {
            "execution_count": 9, 
            "cell_type": "code", 
            "metadata": {}, 
            "outputs": [
                {
                    "output_type": "stream", 
                    "name": "stdout", 
                    "text": "+---------+\n|        q|\n+---------+\n|eero wifi|\n|Luma wifi|\n|Orbi wifi|\n+---------+\n\n"
                }
            ], 
            "source": "gDf.show()"
        }, 
        {
            "source": "Now we create a Temporary Spark Table out of this dataframe as required by the Rest Data Source", 
            "cell_type": "markdown", 
            "metadata": {}
        }, 
        {
            "source": "Now we create a parameter map to be passed to the Rest Data Source. We provide there the Google Search API url, the Input Table name (with serach words for different routers) and the method (which is GET for Google Search API).", 
            "cell_type": "markdown", 
            "metadata": {}
        }, 
        {
            "execution_count": 10, 
            "cell_type": "code", 
            "metadata": {}, 
            "outputs": [], 
            "source": "parmg = {'url' : gapi, 'input' : 'gtbl', 'method' : 'GET'}"
        }, 
        {
            "execution_count": 11, 
            "cell_type": "code", 
            "metadata": {}, 
            "outputs": [], 
            "source": "gDf.createOrReplaceTempView(\"gtbl\")"
        }, 
        {
            "source": "Now we create the Rest Data Source using these parameters which internally calls the Google Search API in parallel for 3 different sets of search words (for 3 different Routers) and returns the result in a dataframe", 
            "cell_type": "markdown", 
            "metadata": {}
        }, 
        {
            "execution_count": 12, 
            "cell_type": "code", 
            "metadata": {}, 
            "outputs": [], 
            "source": "grDf = spark.read.format(\"org.apache.dsext.spark.datasource.rest.RestDataSource\").options(**parmg).load().cache()"
        }, 
        {
            "source": "We shall first investigae the schema of the result returned by Google Search API", 
            "cell_type": "markdown", 
            "metadata": {}
        }, 
        {
            "execution_count": 13, 
            "cell_type": "code", 
            "metadata": {}, 
            "outputs": [
                {
                    "output_type": "stream", 
                    "name": "stdout", 
                    "text": "root\n |-- output: struct (nullable = true)\n |    |-- context: struct (nullable = true)\n |    |    |-- title: string (nullable = true)\n |    |-- items: array (nullable = true)\n |    |    |-- element: struct (containsNull = true)\n |    |    |    |-- cacheId: string (nullable = true)\n |    |    |    |-- displayLink: string (nullable = true)\n |    |    |    |-- formattedUrl: string (nullable = true)\n |    |    |    |-- htmlFormattedUrl: string (nullable = true)\n |    |    |    |-- htmlSnippet: string (nullable = true)\n |    |    |    |-- htmlTitle: string (nullable = true)\n |    |    |    |-- kind: string (nullable = true)\n |    |    |    |-- link: string (nullable = true)\n |    |    |    |-- pagemap: struct (nullable = true)\n |    |    |    |    |-- article: array (nullable = true)\n |    |    |    |    |    |-- element: struct (containsNull = true)\n |    |    |    |    |    |    |-- alternativeheadline: string (nullable = true)\n |    |    |    |    |    |    |-- datemodified: string (nullable = true)\n |    |    |    |    |    |    |-- datepublished: string (nullable = true)\n |    |    |    |    |    |    |-- headline: string (nullable = true)\n |    |    |    |    |    |    |-- inlanguage: string (nullable = true)\n |    |    |    |    |-- cse_image: array (nullable = true)\n |    |    |    |    |    |-- element: struct (containsNull = true)\n |    |    |    |    |    |    |-- src: string (nullable = true)\n |    |    |    |    |-- cse_thumbnail: array (nullable = true)\n |    |    |    |    |    |-- element: struct (containsNull = true)\n |    |    |    |    |    |    |-- height: string (nullable = true)\n |    |    |    |    |    |    |-- src: string (nullable = true)\n |    |    |    |    |    |    |-- width: string (nullable = true)\n |    |    |    |    |-- hcard: array (nullable = true)\n |    |    |    |    |    |-- element: struct (containsNull = true)\n |    |    |    |    |    |    |-- fn: string (nullable = true)\n |    |    |    |    |    |    |-- title: string (nullable = true)\n |    |    |    |    |    |    |-- url: string (nullable = true)\n |    |    |    |    |-- hproduct: array (nullable = true)\n |    |    |    |    |    |-- element: struct (containsNull = true)\n |    |    |    |    |    |    |-- currency: string (nullable = true)\n |    |    |    |    |    |    |-- currency_iso4217: string (nullable = true)\n |    |    |    |    |    |    |-- description: string (nullable = true)\n |    |    |    |    |    |    |-- fn: string (nullable = true)\n |    |    |    |    |    |    |-- photo: string (nullable = true)\n |    |    |    |    |-- hreview: array (nullable = true)\n |    |    |    |    |    |-- element: struct (containsNull = true)\n |    |    |    |    |    |    |-- description: string (nullable = true)\n |    |    |    |    |    |    |-- dtreviewed: string (nullable = true)\n |    |    |    |    |    |    |-- summary: string (nullable = true)\n |    |    |    |    |-- imageobject: array (nullable = true)\n |    |    |    |    |    |-- element: struct (containsNull = true)\n |    |    |    |    |    |    |-- height: string (nullable = true)\n |    |    |    |    |    |    |-- url: string (nullable = true)\n |    |    |    |    |    |    |-- width: string (nullable = true)\n |    |    |    |    |-- listitem: array (nullable = true)\n |    |    |    |    |    |-- element: struct (containsNull = true)\n |    |    |    |    |    |    |-- item: string (nullable = true)\n |    |    |    |    |    |    |-- name: string (nullable = true)\n |    |    |    |    |    |    |-- position: string (nullable = true)\n |    |    |    |    |-- metatags: array (nullable = true)\n |    |    |    |    |    |-- element: struct (containsNull = true)\n |    |    |    |    |    |    |-- al:android:app_name: string (nullable = true)\n |    |    |    |    |    |    |-- al:android:package: string (nullable = true)\n |    |    |    |    |    |    |-- al:android:url: string (nullable = true)\n |    |    |    |    |    |    |-- al:ios:app_name: string (nullable = true)\n |    |    |    |    |    |    |-- al:ios:app_store_id: string (nullable = true)\n |    |    |    |    |    |    |-- al:ios:url: string (nullable = true)\n |    |    |    |    |    |    |-- al:web:url: string (nullable = true)\n |    |    |    |    |    |    |-- apple-itunes-app: string (nullable = true)\n |    |    |    |    |    |    |-- apple-mobile-web-app-capable: string (nullable = true)\n |    |    |    |    |    |    |-- apple-mobile-web-app-status-bar-style: string (nullable = true)\n |    |    |    |    |    |    |-- apple-mobile-web-app-title: string (nullable = true)\n |    |    |    |    |    |    |-- application-name: string (nullable = true)\n |    |    |    |    |    |    |-- article-id: string (nullable = true)\n |    |    |    |    |    |    |-- article:author: string (nullable = true)\n |    |    |    |    |    |    |-- article:modified_time: string (nullable = true)\n |    |    |    |    |    |    |-- article:published_time: string (nullable = true)\n |    |    |    |    |    |    |-- article:publisher: string (nullable = true)\n |    |    |    |    |    |    |-- article:section: string (nullable = true)\n |    |    |    |    |    |    |-- article:tag: string (nullable = true)\n |    |    |    |    |    |    |-- author: string (nullable = true)\n |    |    |    |    |    |    |-- category: string (nullable = true)\n |    |    |    |    |    |    |-- charset: string (nullable = true)\n |    |    |    |    |    |    |-- content-language: string (nullable = true)\n |    |    |    |    |    |    |-- csrf-param: string (nullable = true)\n |    |    |    |    |    |    |-- csrf-token: string (nullable = true)\n |    |    |    |    |    |    |-- document_type: string (nullable = true)\n |    |    |    |    |    |    |-- fb:admins: string (nullable = true)\n |    |    |    |    |    |    |-- fb:app_id: string (nullable = true)\n |    |    |    |    |    |    |-- fb:page_id: string (nullable = true)\n |    |    |    |    |    |    |-- fb:pages: string (nullable = true)\n |    |    |    |    |    |    |-- format-detection: string (nullable = true)\n |    |    |    |    |    |    |-- last-modified: string (nullable = true)\n |    |    |    |    |    |    |-- live_date: string (nullable = true)\n |    |    |    |    |    |    |-- main_section: string (nullable = true)\n |    |    |    |    |    |    |-- model: string (nullable = true)\n |    |    |    |    |    |    |-- msapplication-navbutton-color: string (nullable = true)\n |    |    |    |    |    |    |-- msapplication-square150x150logo: string (nullable = true)\n |    |    |    |    |    |    |-- msapplication-square310x310logo: string (nullable = true)\n |    |    |    |    |    |    |-- msapplication-square70x70logo: string (nullable = true)\n |    |    |    |    |    |    |-- msapplication-starturl: string (nullable = true)\n |    |    |    |    |    |    |-- msapplication-task: string (nullable = true)\n |    |    |    |    |    |    |-- msapplication-tilecolor: string (nullable = true)\n |    |    |    |    |    |    |-- msapplication-tileimage: string (nullable = true)\n |    |    |    |    |    |    |-- msapplication-tooltip: string (nullable = true)\n |    |    |    |    |    |    |-- msapplication-wide310x150logo: string (nullable = true)\n |    |    |    |    |    |    |-- msapplication-window: string (nullable = true)\n |    |    |    |    |    |    |-- msvalidate.01: string (nullable = true)\n |    |    |    |    |    |    |-- news_keywords: string (nullable = true)\n |    |    |    |    |    |    |-- oath:guce:consent-host: string (nullable = true)\n |    |    |    |    |    |    |-- oath:guce:inline-consent: string (nullable = true)\n |    |    |    |    |    |    |-- oath:guce:product-eu: string (nullable = true)\n |    |    |    |    |    |    |-- og:description: string (nullable = true)\n |    |    |    |    |    |    |-- og:image: string (nullable = true)\n |    |    |    |    |    |    |-- og:image:height: string (nullable = true)\n |    |    |    |    |    |    |-- og:image:width: string (nullable = true)\n |    |    |    |    |    |    |-- og:locale: string (nullable = true)\n |    |    |    |    |    |    |-- og:site: string (nullable = true)\n |    |    |    |    |    |    |-- og:site_name: string (nullable = true)\n |    |    |    |    |    |    |-- og:title: string (nullable = true)\n |    |    |    |    |    |    |-- og:type: string (nullable = true)\n |    |    |    |    |    |    |-- og:url: string (nullable = true)\n |    |    |    |    |    |    |-- og:video: string (nullable = true)\n |    |    |    |    |    |    |-- og:video:height: string (nullable = true)\n |    |    |    |    |    |    |-- og:video:secure_url: string (nullable = true)\n |    |    |    |    |    |    |-- og:video:tag: string (nullable = true)\n |    |    |    |    |    |    |-- og:video:type: string (nullable = true)\n |    |    |    |    |    |    |-- og:video:url: string (nullable = true)\n |    |    |    |    |    |    |-- og:video:width: string (nullable = true)\n |    |    |    |    |    |    |-- outbrainsection: string (nullable = true)\n |    |    |    |    |    |    |-- p:domain_verify: string (nullable = true)\n |    |    |    |    |    |    |-- primary-section-id: string (nullable = true)\n |    |    |    |    |    |    |-- publishdate: string (nullable = true)\n |    |    |    |    |    |    |-- sailthru.author: string (nullable = true)\n |    |    |    |    |    |    |-- sailthru.date: string (nullable = true)\n |    |    |    |    |    |    |-- sailthru.description: string (nullable = true)\n |    |    |    |    |    |    |-- sailthru.image.full: string (nullable = true)\n |    |    |    |    |    |    |-- sailthru.image.thumb: string (nullable = true)\n |    |    |    |    |    |    |-- sailthru.tags: string (nullable = true)\n |    |    |    |    |    |    |-- sailthru.title: string (nullable = true)\n |    |    |    |    |    |    |-- section-id: string (nullable = true)\n |    |    |    |    |    |    |-- server_date: string (nullable = true)\n |    |    |    |    |    |    |-- style-tools: string (nullable = true)\n |    |    |    |    |    |    |-- theme-color: string (nullable = true)\n |    |    |    |    |    |    |-- title: string (nullable = true)\n |    |    |    |    |    |    |-- twitter:account_id: string (nullable = true)\n |    |    |    |    |    |    |-- twitter:app:id:googleplay: string (nullable = true)\n |    |    |    |    |    |    |-- twitter:app:id:ipad: string (nullable = true)\n |    |    |    |    |    |    |-- twitter:app:id:iphone: string (nullable = true)\n |    |    |    |    |    |    |-- twitter:app:name:googleplay: string (nullable = true)\n |    |    |    |    |    |    |-- twitter:app:name:ipad: string (nullable = true)\n |    |    |    |    |    |    |-- twitter:app:name:iphone: string (nullable = true)\n |    |    |    |    |    |    |-- twitter:app:url:googleplay: string (nullable = true)\n |    |    |    |    |    |    |-- twitter:app:url:ipad: string (nullable = true)\n |    |    |    |    |    |    |-- twitter:app:url:iphone: string (nullable = true)\n |    |    |    |    |    |    |-- twitter:card: string (nullable = true)\n |    |    |    |    |    |    |-- twitter:creator: string (nullable = true)\n |    |    |    |    |    |    |-- twitter:data1: string (nullable = true)\n |    |    |    |    |    |    |-- twitter:data2: string (nullable = true)\n |    |    |    |    |    |    |-- twitter:description: string (nullable = true)\n |    |    |    |    |    |    |-- twitter:image: string (nullable = true)\n |    |    |    |    |    |    |-- twitter:label1: string (nullable = true)\n |    |    |    |    |    |    |-- twitter:label2: string (nullable = true)\n |    |    |    |    |    |    |-- twitter:player:stream: string (nullable = true)\n |    |    |    |    |    |    |-- twitter:site: string (nullable = true)\n |    |    |    |    |    |    |-- twitter:text:title: string (nullable = true)\n |    |    |    |    |    |    |-- twitter:title: string (nullable = true)\n |    |    |    |    |    |    |-- twitter:url: string (nullable = true)\n |    |    |    |    |    |    |-- viewport: string (nullable = true)\n |    |    |    |    |    |    |-- wp-parsely_version: string (nullable = true)\n |    |    |    |    |    |    |-- zdid: string (nullable = true)\n |    |    |    |    |-- offer: array (nullable = true)\n |    |    |    |    |    |-- element: struct (containsNull = true)\n |    |    |    |    |    |    |-- price: string (nullable = true)\n |    |    |    |    |    |    |-- pricecurrency: string (nullable = true)\n |    |    |    |    |-- organization: array (nullable = true)\n |    |    |    |    |    |-- element: struct (containsNull = true)\n |    |    |    |    |    |    |-- name: string (nullable = true)\n |    |    |    |    |    |    |-- sameas: string (nullable = true)\n |    |    |    |    |    |    |-- url: string (nullable = true)\n |    |    |    |    |-- person: array (nullable = true)\n |    |    |    |    |    |-- element: struct (containsNull = true)\n |    |    |    |    |    |    |-- description: string (nullable = true)\n |    |    |    |    |    |    |-- image: string (nullable = true)\n |    |    |    |    |    |    |-- jobtitle: string (nullable = true)\n |    |    |    |    |    |    |-- name: string (nullable = true)\n |    |    |    |    |    |    |-- url: string (nullable = true)\n |    |    |    |    |-- product: array (nullable = true)\n |    |    |    |    |    |-- element: struct (containsNull = true)\n |    |    |    |    |    |    |-- description: string (nullable = true)\n |    |    |    |    |    |    |-- image: string (nullable = true)\n |    |    |    |    |    |    |-- name: string (nullable = true)\n |    |    |    |    |-- rating: array (nullable = true)\n |    |    |    |    |    |-- element: struct (containsNull = true)\n |    |    |    |    |    |    |-- bestrating: string (nullable = true)\n |    |    |    |    |    |    |-- ratingvalue: string (nullable = true)\n |    |    |    |    |    |    |-- worstrating: string (nullable = true)\n |    |    |    |    |-- review: array (nullable = true)\n |    |    |    |    |    |-- element: struct (containsNull = true)\n |    |    |    |    |    |    |-- author: string (nullable = true)\n |    |    |    |    |    |    |-- datemodified: string (nullable = true)\n |    |    |    |    |    |    |-- datepublished: string (nullable = true)\n |    |    |    |    |    |    |-- headline: string (nullable = true)\n |    |    |    |    |    |    |-- image: string (nullable = true)\n |    |    |    |    |    |    |-- itemreviewed: string (nullable = true)\n |    |    |    |    |    |    |-- ratingstars: string (nullable = true)\n |    |    |    |    |    |    |-- reviewbody: string (nullable = true)\n |    |    |    |    |    |    |-- reviewdate: string (nullable = true)\n |    |    |    |    |    |    |-- reviewer: string (nullable = true)\n |    |    |    |    |    |    |-- thumbnailurl: string (nullable = true)\n |    |    |    |    |-- scraped: array (nullable = true)\n |    |    |    |    |    |-- element: struct (containsNull = true)\n |    |    |    |    |    |    |-- image_link: string (nullable = true)\n |    |    |    |    |-- thing: array (nullable = true)\n |    |    |    |    |    |-- element: struct (containsNull = true)\n |    |    |    |    |    |    |-- name: string (nullable = true)\n |    |    |    |    |-- videoobject: array (nullable = true)\n |    |    |    |    |    |-- element: struct (containsNull = true)\n |    |    |    |    |    |    |-- channelid: string (nullable = true)\n |    |    |    |    |    |    |-- datepublished: string (nullable = true)\n |    |    |    |    |    |    |-- description: string (nullable = true)\n |    |    |    |    |    |    |-- duration: string (nullable = true)\n |    |    |    |    |    |    |-- embedurl: string (nullable = true)\n |    |    |    |    |    |    |-- genre: string (nullable = true)\n |    |    |    |    |    |    |-- height: string (nullable = true)\n |    |    |    |    |    |    |-- interactioncount: string (nullable = true)\n |    |    |    |    |    |    |-- isfamilyfriendly: string (nullable = true)\n |    |    |    |    |    |    |-- name: string (nullable = true)\n |    |    |    |    |    |    |-- paid: string (nullable = true)\n |    |    |    |    |    |    |-- playertype: string (nullable = true)\n |    |    |    |    |    |    |-- regionsallowed: string (nullable = true)\n |    |    |    |    |    |    |-- thumbnailurl: string (nullable = true)\n |    |    |    |    |    |    |-- unlisted: string (nullable = true)\n |    |    |    |    |    |    |-- url: string (nullable = true)\n |    |    |    |    |    |    |-- videoid: string (nullable = true)\n |    |    |    |    |    |    |-- width: string (nullable = true)\n |    |    |    |-- snippet: string (nullable = true)\n |    |    |    |-- title: string (nullable = true)\n |    |-- kind: string (nullable = true)\n |    |-- queries: struct (nullable = true)\n |    |    |-- nextPage: array (nullable = true)\n |    |    |    |-- element: struct (containsNull = true)\n |    |    |    |    |-- count: long (nullable = true)\n |    |    |    |    |-- cx: string (nullable = true)\n |    |    |    |    |-- inputEncoding: string (nullable = true)\n |    |    |    |    |-- outputEncoding: string (nullable = true)\n |    |    |    |    |-- safe: string (nullable = true)\n |    |    |    |    |-- searchTerms: string (nullable = true)\n |    |    |    |    |-- startIndex: long (nullable = true)\n |    |    |    |    |-- title: string (nullable = true)\n |    |    |    |    |-- totalResults: string (nullable = true)\n |    |    |-- request: array (nullable = true)\n |    |    |    |-- element: struct (containsNull = true)\n |    |    |    |    |-- count: long (nullable = true)\n |    |    |    |    |-- cx: string (nullable = true)\n |    |    |    |    |-- inputEncoding: string (nullable = true)\n |    |    |    |    |-- outputEncoding: string (nullable = true)\n |    |    |    |    |-- safe: string (nullable = true)\n |    |    |    |    |-- searchTerms: string (nullable = true)\n |    |    |    |    |-- startIndex: long (nullable = true)\n |    |    |    |    |-- title: string (nullable = true)\n |    |    |    |    |-- totalResults: string (nullable = true)\n |    |-- searchInformation: struct (nullable = true)\n |    |    |-- formattedSearchTime: string (nullable = true)\n |    |    |-- formattedTotalResults: string (nullable = true)\n |    |    |-- searchTime: double (nullable = true)\n |    |    |-- totalResults: string (nullable = true)\n |    |-- url: struct (nullable = true)\n |    |    |-- template: string (nullable = true)\n |    |    |-- type: string (nullable = true)\n |-- q: string (nullable = true)\n\n"
                }
            ], 
            "source": "grDf.printSchema()"
        }, 
        {
            "source": "The links (output.items.element.link) returned by the search results are important for our analysis as those sites contains the content (feedback, review, description, etc.) about the Routers. However, let us first check what are the links returned by Google Search", 
            "cell_type": "markdown", 
            "metadata": {}
        }, 
        {
            "execution_count": 14, 
            "cell_type": "code", 
            "metadata": {}, 
            "outputs": [], 
            "source": "grDf.createOrReplaceTempView(\"grtbl\")"
        }, 
        {
            "execution_count": 15, 
            "cell_type": "code", 
            "metadata": {}, 
            "outputs": [], 
            "source": "spark.sql(\"select q, inline(output.items) from grtbl\").createOrReplaceTempView(\"grtbl2\")"
        }, 
        {
            "execution_count": 16, 
            "cell_type": "code", 
            "metadata": {}, 
            "outputs": [
                {
                    "output_type": "stream", 
                    "name": "stdout", 
                    "text": "+---------+--------------------------------------------------------------------------------------------------------------------------+\n|q        |link                                                                                                                      |\n+---------+--------------------------------------------------------------------------------------------------------------------------+\n|eero wifi|https://eero.com/                                                                                                         |\n|eero wifi|https://www.amazon.com/eero-Home-WiFi-System-Pack/dp/B00XEW3YD6                                                           |\n|eero wifi|https://www.cnet.com/products/eero-wi-fi-system/                                                                          |\n|eero wifi|https://www.amazon.com/eero-Home-WiFi-System-Beacons/dp/B0713ZCT4N                                                        |\n|eero wifi|https://www.cnet.com/products/eero-home-wi-fi-system-2017/review/                                                         |\n|eero wifi|https://www.youtube.com/watch?v=z_cW3R0FBtw                                                                               |\n|eero wifi|https://www.pcmag.com/article2/0,2817,2499881,00.asp                                                                      |\n|eero wifi|https://www.consumerreports.org/wireless-routers/the-eero-router-solved-my-wifi-problems/                                 |\n|eero wifi|https://www.bestbuy.com/site/eero-home-wifi-system-1-eero-2-eero-beacons-2nd-generation-white/5873516.p?skuId=5873516     |\n|eero wifi|https://www.theverge.com/2017/6/28/15887698/eero-second-generation-mesh-router-review                                     |\n|Luma wifi|https://www.amazon.com/Luma-Whole-Home-WiFi-Pack/dp/B017DV1BPG                                                            |\n|Luma wifi|https://www.cnet.com/products/luma-surround-wifi/review/                                                                  |\n|Luma wifi|https://www.pcmag.com/review/345495/luma-home-wifi-system                                                                 |\n|Luma wifi|https://support.lumahome.com/hc/en-us/categories/202886587-Frequently-Asked-Questions                                     |\n|Luma wifi|https://techcrunch.com/2018/01/12/even-the-most-interesting-man-in-the-world-couldnt-make-luma-work-as-standalone-company/|\n|Luma wifi|https://support.lumahome.com/hc/en-us/sections/204580208-My-Network                                                       |\n|Luma wifi|https://www.bestbuy.com/site/luma-home-luma-wireless-ac-dual-band-wi-fi-router-3-pack-white/5300400.p?skuId=5300400       |\n|Luma wifi|https://support.lumahome.com/hc/en-us                                                                                     |\n|Luma wifi|https://www.youtube.com/watch?v=4so-kMizM2U                                                                               |\n|Luma wifi|https://www.consumerreports.org/wireless-routers/wifi-face-off-orbi-vs-eero-vs-luma/                                      |\n|Orbi wifi|https://www.amazon.com/NETGEAR-Orbi-Home-System-RBK50/dp/B01K4CZOBS                                                       |\n|Orbi wifi|http://www.netgear.com/orbi/                                                                                              |\n|Orbi wifi|https://www.cnet.com/products/netgear-orbi-wifi-system/review/                                                            |\n|Orbi wifi|https://www.netgear.com/orbi/systems.aspx                                                                                 |\n|Orbi wifi|https://www.youtube.com/watch?v=Y-IgLQJFj0U                                                                               |\n|Orbi wifi|https://www.netgear.com/home/products/networking/orbi/orbilogin.aspx                                                      |\n|Orbi wifi|https://kb.netgear.com/31017/How-do-I-set-up-my-Orbi-router-and-satellite                                                 |\n|Orbi wifi|https://www.netgear.com/orbi/features.aspx                                                                                |\n|Orbi wifi|https://www.tomsguide.com/us/netgear-orbi,review-4263.html                                                                |\n|Orbi wifi|https://www.netgear.com/support/product/orbi.aspx                                                                         |\n+---------+--------------------------------------------------------------------------------------------------------------------------+\n\n"
                }
            ], 
            "source": "spark.sql(\"select q, link from grtbl2\").show(50, False)"
        }, 
        {
            "source": "Now we are going to pass these links to IBM Watson Natural Language Understanding API (Watson NLU API) which can provide us sentiment score (positive, negative, neutral) as expressed in the content of these sites (links). Note that we are renaming the column link as 'url' as 'url' is the key expected by Watson NLU API for each site it is going to analyze. \n\nBut before that let us filter this list of links only to those which are about review or article. We are also keeping links from amazon as they contain users reviews.", 
            "cell_type": "markdown", 
            "metadata": {}
        }, 
        {
            "execution_count": 17, 
            "cell_type": "code", 
            "metadata": {}, 
            "outputs": [], 
            "source": "spark.sql(\"select q, link from grtbl2 where link like '%review%' or link like '%article%' or link like '%amazon%'\").createOrReplaceTempView(\"grtbl3\")"
        }, 
        {
            "execution_count": 18, 
            "cell_type": "code", 
            "metadata": {}, 
            "outputs": [], 
            "source": "spark.sql(\"select q, link as url from grtbl3\").createOrReplaceTempView(\"nltbl\")"
        }, 
        {
            "source": "Watson API will also need username and password to be passed for basic authentication. So we are creating them. These values can be obtained when you subscribe for Watson NLU API services from IBM Cloud. We are keeping this as blank as this is sensitive data. For your case you need to use based on the credential you create for your Watson NLU API service.\n\nWe are also defining the URi for Watson NLU API. We are are specifying the features as 'sentiment' as expected by Watson NLU API.", 
            "cell_type": "markdown", 
            "metadata": {}
        }, 
        {
            "execution_count": 1, 
            "cell_type": "code", 
            "metadata": {}, 
            "outputs": [], 
            "source": "nluUsername = ''\nnluPassword = ''"
        }, 
        {
            "execution_count": 29, 
            "cell_type": "code", 
            "metadata": {}, 
            "outputs": [], 
            "source": "nluurisent = \"https://gateway.watsonplatform.net/natural-language-understanding/api/v1/analyze?version=2017-02-27&features=sentiment\""
        }, 
        {
            "source": "We are now creating a parameter map to call the Rest Data Source for getting result from Watson NLU API. The Rest Data Source will call the Watson NLU API for all of the links in parallel. We are passing the url, the Temporary Spark Table name which has the inputs, username, password and number of partitions (to increase the parallelism). We are also increasing the 'readTimeout' from default 5000 to 20000 as sometimes analyzing content from a site will take time.", 
            "cell_type": "markdown", 
            "metadata": {}
        }, 
        {
            "execution_count": 73, 
            "cell_type": "code", 
            "metadata": {}, 
            "outputs": [], 
            "source": "parmw = {'url' : nluurisent, 'input' : 'nltbl', 'callStrictlyOnce' : 'Y', 'userId' : nluUsername, 'userPassword' : nluPassword, 'partitions' : '10', 'readTimeout' : '20000'}"
        }, 
        {
            "execution_count": 31, 
            "cell_type": "code", 
            "metadata": {}, 
            "outputs": [], 
            "source": "nlusentDf = spark.read.format(\"org.apache.dsext.spark.datasource.rest.RestDataSource\").options(**parmw).load().cache()"
        }, 
        {
            "source": "Let us check the schema of the results returned by Watson NLU API", 
            "cell_type": "markdown", 
            "metadata": {}
        }, 
        {
            "execution_count": 32, 
            "cell_type": "code", 
            "metadata": {}, 
            "outputs": [
                {
                    "output_type": "stream", 
                    "name": "stdout", 
                    "text": "root\n |-- output: struct (nullable = true)\n |    |-- language: string (nullable = true)\n |    |-- retrieved_url: string (nullable = true)\n |    |-- sentiment: struct (nullable = true)\n |    |    |-- document: struct (nullable = true)\n |    |    |    |-- label: string (nullable = true)\n |    |    |    |-- score: double (nullable = true)\n |    |-- usage: struct (nullable = true)\n |    |    |-- features: long (nullable = true)\n |    |    |-- text_characters: long (nullable = true)\n |    |    |-- text_units: long (nullable = true)\n |-- q: string (nullable = true)\n |-- url: string (nullable = true)\n\n"
                }
            ], 
            "source": "nlusentDf.printSchema()"
        }, 
        {
            "source": "We are going to use the sentiment labela nd score from output.sentiment", 
            "cell_type": "markdown", 
            "metadata": {}
        }, 
        {
            "execution_count": 33, 
            "cell_type": "code", 
            "metadata": {}, 
            "outputs": [], 
            "source": "nlusentDf.createOrReplaceTempView(\"nlusenttbl\")"
        }, 
        {
            "execution_count": 34, 
            "cell_type": "code", 
            "metadata": {}, 
            "outputs": [], 
            "source": "sent2df = spark.sql(\"select q, url, output.sentiment.document.label as label, output.sentiment.document.score as score from nlusenttbl\")"
        }, 
        {
            "execution_count": 35, 
            "cell_type": "code", 
            "metadata": {}, 
            "outputs": [], 
            "source": "sent2df.createOrReplaceTempView(\"nlusent2tbl\")"
        }, 
        {
            "execution_count": 36, 
            "cell_type": "code", 
            "metadata": {}, 
            "outputs": [
                {
                    "output_type": "stream", 
                    "name": "stdout", 
                    "text": "+---------+--------+----------+\n|q        |label   |avg(score)|\n+---------+--------+----------+\n|Luma wifi|negative|-0.0262883|\n|Luma wifi|positive|0.2155561 |\n|Orbi wifi|positive|0.185361  |\n|eero wifi|positive|0.2959509 |\n+---------+--------+----------+\n\n"
                }
            ], 
            "source": "spark.sql(\"select q, label , avg(score) from nlusent2tbl group by q, label order by q\").show(30, False)"
        }, 
        {
            "source": "Looks like \"eero\" has most positive feedback compared to \"Luma\" or \"Orbi\". I use \"eero\" in my house. It is really good.", 
            "cell_type": "markdown", 
            "metadata": {}
        }
    ], 
    "metadata": {
        "kernelspec": {
            "display_name": "Python 2 with Spark 2.1", 
            "name": "python2-spark21", 
            "language": "python"
        }, 
        "language_info": {
            "mimetype": "text/x-python", 
            "nbconvert_exporter": "python", 
            "version": "2.7.14", 
            "name": "python", 
            "file_extension": ".py", 
            "pygments_lexer": "ipython2", 
            "codemirror_mode": {
                "version": 2, 
                "name": "ipython"
            }
        }
    }, 
    "nbformat": 4
}