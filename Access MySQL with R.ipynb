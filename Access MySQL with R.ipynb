{
    "nbformat_minor": 1, 
    "cells": [
        {
            "source": "<div style=\"background:#F5F7FA; height:100px; padding: 2em; font-size:14px;\">\n<span style=\"font-size:18px;color:#152935;\">Want to do more?</span><span style=\"border: 1px solid #3d70b2;padding: 15px;float:right;margin-right:40px; color:#3d70b2; \"><a href=\"https://ibm.co/wsnotebooks\" target=\"_blank\" style=\"color: #3d70b2;text-decoration: none;\">Sign Up</a></span><br>\n<span style=\"color:#5A6872;\"> Try out this notebook with your free trial of IBM Watson Studio.</span>\n</div>", 
            "cell_type": "markdown", 
            "metadata": {}
        }, 
        {
            "source": "# Access MySQL with R\n\nThis notebook shows how to access a MySQL database when using R.\n\nThis notebook runs on R.\n\n## Table of contents\n\n1. [Setup](#Setup)\n1. [Import the *RMySQL* library](#Import-the-RMySQL-library)\n1. [Confirm that MySQL is running](#Confirm-that-MySQL-is-running)\n1. [Identify and enter the database connection credentials](#Identify-and-enter-the-database-connection-credentials)\n1. [Create the database connection](#Create-the-database-connection)\n1. [Create a table](#Create-a-table)\n1. [Insert data into a table](#Insert-data-into-a-table)\n1. [Query data](#Query-data)\n1. [Close the database connection](#Close-the-database-connection)\n1. [Summary](#Summary)\n\n\n\n## Setup\n\nYou need to  have a MySQL instance installed and running in the cloud. MySQL is an open-source relational database management system (RDBMS) that is widely used as a client\u2013server model RDBMS. To learn more, see the [MySQL website](https://www.mysql.com/).\n\n__Note:__ if you are using an Amazon RDS service, make sure it accept connections from every IP.\n\n\n## Import the RMySQL library\n\n__RMySQL__ is the R package that enables you to interact with MySQL (and MariaDB) databases. Run the commands below to install and import the RMySQL package:", 
            "cell_type": "markdown", 
            "metadata": {}
        }, 
        {
            "execution_count": 1, 
            "cell_type": "code", 
            "metadata": {}, 
            "outputs": [
                {
                    "output_type": "stream", 
                    "name": "stderr", 
                    "text": "Updating HTML index of packages in '.Library'\nMaking 'packages.html' ... done\n"
                }
            ], 
            "source": "install.packages(\"RMySQL\")"
        }, 
        {
            "execution_count": 2, 
            "cell_type": "code", 
            "metadata": {}, 
            "outputs": [
                {
                    "output_type": "stream", 
                    "name": "stderr", 
                    "text": "Loading required package: DBI\n"
                }
            ], 
            "source": "library(RMySQL)"
        }, 
        {
            "source": "## Confirm that MySQL is running\n\nYou can test to see if MySQL is installed by opening your terminal and typing \u201cmysql\u201d. If you receive an error that MySQL cannot connect, it means that MySQL is installed, but not running.", 
            "cell_type": "markdown", 
            "metadata": {}
        }, 
        {
            "source": "## Identify and enter the database connection credentials\n\nConnecting to MySQL database requires the following information:\n* Database name \n* Host DNS name or IP address \n* Host port\n* User ID\n* User password\n\nAll of this information must be captured in a connection string in a subsequent step. Provide the MySQL connection information as shown:", 
            "cell_type": "markdown", 
            "metadata": {}
        }, 
        {
            "execution_count": 3, 
            "cell_type": "code", 
            "metadata": {
                "collapsed": true
            }, 
            "outputs": [], 
            "source": "#Enter the values for you database connection\ndsn_database = \" \" # for example  \"BLUDB\"\ndsn_hostname = \" \" # for example  \"mydbinstance.cz6pjylrdjko.us-east-1.rds.amazonaws.com\"\ndsn_port =         # for example  3306 without quotation marks\ndsn_uid = \" \"      # for example  \"user1\"\ndsn_pwd = \" \"      # for example  \"7dBZ3jWt9xN6$o0JiX!m\""
        }, 
        {
            "source": "## Create the database connection\n\nThe following code snippet creates a connection object, `conn`:", 
            "cell_type": "markdown", 
            "metadata": {}
        }, 
        {
            "execution_count": 4, 
            "cell_type": "code", 
            "metadata": {}, 
            "outputs": [
                {
                    "output_type": "display_data", 
                    "data": {
                        "text/plain": "<MySQLConnection:0,0>"
                    }, 
                    "metadata": {}
                }
            ], 
            "source": "conn = dbConnect(MySQL(), user=dsn_uid, password=dsn_pwd, host=dsn_hostname, port=dsn_port)\nconn"
        }, 
        {
            "source": "## Create a table\n\nCreate a test table named Cars. The code below drops the Cars table if it already exists, and then creates the new table:", 
            "cell_type": "markdown", 
            "metadata": {}
        }, 
        {
            "execution_count": 5, 
            "cell_type": "code", 
            "metadata": {}, 
            "outputs": [
                {
                    "output_type": "display_data", 
                    "data": {
                        "text/plain": "<MySQLResult:-1108592376,0,0>"
                    }, 
                    "metadata": {}
                }, 
                {
                    "output_type": "display_data", 
                    "data": {
                        "text/plain": "<MySQLResult:10,0,1>"
                    }, 
                    "metadata": {}
                }, 
                {
                    "output_type": "display_data", 
                    "data": {
                        "text/plain": "<MySQLResult:1042817106,0,2>"
                    }, 
                    "metadata": {}
                }, 
                {
                    "output_type": "display_data", 
                    "data": {
                        "text/plain": "<MySQLResult:925970482,0,3>"
                    }, 
                    "metadata": {}
                }
            ], 
            "source": "create_command <- paste(\"CREATE DATABASE IF NOT EXISTS\", dsn_database, sep=\" \");\nuse_command <- paste(\"USE\", dsn_database, sep=\" \");\ndbSendQuery(conn, create_command);\ndbSendQuery(conn, use_command);\ndbSendQuery(conn, 'DROP TABLE IF EXISTS Cars')\ndbSendQuery(conn, 'CREATE TABLE Cars(Id INTEGER PRIMARY KEY, Name VARCHAR(20), Price INT)')"
        }, 
        {
            "source": "## Insert data into a table\n\nRun the following commands to create records in the new Cars table:", 
            "cell_type": "markdown", 
            "metadata": {}
        }, 
        {
            "execution_count": 6, 
            "cell_type": "code", 
            "metadata": {}, 
            "outputs": [
                {
                    "output_type": "display_data", 
                    "data": {
                        "text/plain": "<MySQLResult:-1087568328,0,4>"
                    }, 
                    "metadata": {}
                }, 
                {
                    "output_type": "display_data", 
                    "data": {
                        "text/plain": "<MySQLResult:0,0,5>"
                    }, 
                    "metadata": {}
                }, 
                {
                    "output_type": "display_data", 
                    "data": {
                        "text/plain": "<MySQLResult:-1111482376,0,6>"
                    }, 
                    "metadata": {}
                }, 
                {
                    "output_type": "display_data", 
                    "data": {
                        "text/plain": "<MySQLResult:-1111482376,0,7>"
                    }, 
                    "metadata": {}
                }, 
                {
                    "output_type": "display_data", 
                    "data": {
                        "text/plain": "<MySQLResult:-1098802752,0,8>"
                    }, 
                    "metadata": {}
                }, 
                {
                    "output_type": "display_data", 
                    "data": {
                        "text/plain": "<MySQLResult:-1111482336,0,9>"
                    }, 
                    "metadata": {}
                }, 
                {
                    "output_type": "display_data", 
                    "data": {
                        "text/plain": "<MySQLResult:-1111361656,0,10>"
                    }, 
                    "metadata": {}
                }, 
                {
                    "output_type": "display_data", 
                    "data": {
                        "text/plain": "<MySQLResult:0,0,11>"
                    }, 
                    "metadata": {}
                }
            ], 
            "source": "dbSendQuery(conn,\"INSERT INTO Cars VALUES(1,'Audi',52642)\")\ndbSendQuery(conn,\"INSERT INTO Cars VALUES(2,'Mercedes',57127)\")\ndbSendQuery(conn,\"INSERT INTO Cars VALUES(3,'Skoda',9000)\")\ndbSendQuery(conn,\"INSERT INTO Cars VALUES(4,'Volvo',29000)\")\ndbSendQuery(conn,\"INSERT INTO Cars VALUES(5,'Bentley',350000)\")\ndbSendQuery(conn,\"INSERT INTO Cars VALUES(6,'Citroen',21000)\")\ndbSendQuery(conn,\"INSERT INTO Cars VALUES(7,'Hummer',41400)\")\ndbSendQuery(conn,\"INSERT INTO Cars VALUES(8,'Volkswagen',21600)\")"
        }, 
        {
            "source": "## Query data\n\nYou can now use the connection object `conn` to query the database:", 
            "cell_type": "markdown", 
            "metadata": {}
        }, 
        {
            "execution_count": 7, 
            "cell_type": "code", 
            "metadata": {}, 
            "outputs": [
                {
                    "output_type": "display_data", 
                    "data": {
                        "text/html": "<table>\n<thead><tr><th scope=col>Id</th><th scope=col>Name</th><th scope=col>Price</th></tr></thead>\n<tbody>\n\t<tr><td>1         </td><td>Audi      </td><td> 52642    </td></tr>\n\t<tr><td>2         </td><td>Mercedes  </td><td> 57127    </td></tr>\n\t<tr><td>3         </td><td>Skoda     </td><td>  9000    </td></tr>\n\t<tr><td>4         </td><td>Volvo     </td><td> 29000    </td></tr>\n\t<tr><td>5         </td><td>Bentley   </td><td>350000    </td></tr>\n\t<tr><td>6         </td><td>Citroen   </td><td> 21000    </td></tr>\n\t<tr><td>7         </td><td>Hummer    </td><td> 41400    </td></tr>\n\t<tr><td>8         </td><td>Volkswagen</td><td> 21600    </td></tr>\n</tbody>\n</table>\n", 
                        "text/latex": "\\begin{tabular}{r|lll}\n Id & Name & Price\\\\\n\\hline\n\t 1          & Audi       &  52642    \\\\\n\t 2          & Mercedes   &  57127    \\\\\n\t 3          & Skoda      &   9000    \\\\\n\t 4          & Volvo      &  29000    \\\\\n\t 5          & Bentley    & 350000    \\\\\n\t 6          & Citroen    &  21000    \\\\\n\t 7          & Hummer     &  41400    \\\\\n\t 8          & Volkswagen &  21600    \\\\\n\\end{tabular}\n", 
                        "text/markdown": "\nId | Name | Price | \n|---|---|---|---|---|---|---|---|\n| 1          | Audi       |  52642     | \n| 2          | Mercedes   |  57127     | \n| 3          | Skoda      |   9000     | \n| 4          | Volvo      |  29000     | \n| 5          | Bentley    | 350000     | \n| 6          | Citroen    |  21000     | \n| 7          | Hummer     |  41400     | \n| 8          | Volkswagen |  21600     | \n\n\n", 
                        "text/plain": "  Id Name       Price \n1 1  Audi        52642\n2 2  Mercedes    57127\n3 3  Skoda        9000\n4 4  Volvo       29000\n5 5  Bentley    350000\n6 6  Citroen     21000\n7 7  Hummer      41400\n8 8  Volkswagen  21600"
                    }, 
                    "metadata": {}
                }
            ], 
            "source": "query = \"SELECT * FROM Cars\";\nrs = dbSendQuery(conn, query);\ndf = fetch(rs, -1);\ndf"
        }, 
        {
            "source": "## Close the database connection\n\nIt is good practice to close your database connection after work is done:", 
            "cell_type": "markdown", 
            "metadata": {}
        }, 
        {
            "execution_count": 8, 
            "cell_type": "code", 
            "metadata": {}, 
            "outputs": [
                {
                    "output_type": "stream", 
                    "name": "stderr", 
                    "text": "Warning message:\n\u201cClosing open result sets\u201d"
                }, 
                {
                    "output_type": "display_data", 
                    "data": {
                        "text/html": "TRUE", 
                        "text/latex": "TRUE", 
                        "text/markdown": "TRUE", 
                        "text/plain": "[1] TRUE"
                    }, 
                    "metadata": {}
                }
            ], 
            "source": "dbDisconnect(conn)"
        }, 
        {
            "source": "## Summary\n\nThis notebook demonstrated how to establish a connection to a MySQL database from R using the RMySQL library.", 
            "cell_type": "markdown", 
            "metadata": {}
        }, 
        {
            "source": "## Want to learn more?\n### Free courses on <a href=\"https://bigdatauniversity.com/courses/?utm_source=tutorial-dashdb-python&utm_medium=github&utm_campaign=bdu/\" rel=\"noopener noreferrer\" target=\"_blank\">Cognitive Class</a>: <a href=\"https://bigdatauniversity.com/courses/?utm_source=tutorial-dashdb-python&utm_medium=github&utm_campaign=bdu\" rel=\"noopener noreferrer\" target=\"_blank\"><img src = \"https://ibm.box.com/shared/static/xomeu7dacwufkoawbg3owc8wzuezltn6.png\" width=600px> </a>", 
            "cell_type": "markdown", 
            "metadata": {}
        }, 
        {
            "source": "### Authors\n\n**Saeed Aghabozorgi**, PhD, is a Data Scientist in IBM with a track record of developing enterprise-level applications that substantially increases clients' ability to turn data into actionable knowledge. He is a researcher in the data mining field and an expert in developing advanced analytic methods like machine learning and statistical modelling on large data sets.\n\n**Polong Lin** is a Data Scientist at IBM in Canada. Under the Emerging Technologies division, Polong is responsible for educating the next generation of data scientists through Big Data University. Polong is a regular speaker in conferences and meetups, and holds an M.Sc. in Cognitive Psychology.", 
            "cell_type": "markdown", 
            "metadata": {}
        }, 
        {
            "source": "Copyright \u00a9 2016, 2018 Cognitive Class. This notebook and its source code are released under the terms of the <a href=\"https://bigdatauniversity.com/mit-license/\" rel=\"noopener noreferrer\" target=\"_blank\">MIT License</a>.", 
            "cell_type": "markdown", 
            "metadata": {}
        }
    ], 
    "metadata": {
        "kernelspec": {
            "display_name": "R with Spark 2.1", 
            "name": "r-spark21", 
            "language": "R"
        }, 
        "language_info": {
            "mimetype": "text/x-r-source", 
            "version": "3.3.2", 
            "name": "R", 
            "pygments_lexer": "r", 
            "file_extension": ".r", 
            "codemirror_mode": "r"
        }
    }, 
    "nbformat": 4
}