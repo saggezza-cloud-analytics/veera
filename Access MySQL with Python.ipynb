{
    "nbformat_minor": 1, 
    "cells": [
        {
            "source": "# Access MySQL with Python\n\nThis notebook shows how to access a MySQL database when using Python.\n\nThis notebook runs on Python 3.5.\n\n## Table of contents\n\n1. [Setup](#Setup) \n1. [Import the *PyMySQL* Python library](#Import-the-PyMySQL-Python-library)\n1. [Confirm that MySQL is running](#Confirm-that-MySQL-is-running)\n1. [Identify and enter the database connection credentials](#Identify-and-enter-the-database-connection-credentials)\n1. [Create the database connection](#Create-the-database-connection)\n1. [Create a table](#Create-a-table)\n1. [Insert data into a table](#Insert-data-into-a-table)\n1. [Query data](#Query-data)\n1. [Close the database connection](#Close-the-database-connection)\n1. [Summary](#Summary)\n\n\n## Setup\n\nYou should have a MySQL instance installed and running in the cloud. MySQL is an open-source relational database management system (RDBMS) that is widely used as a client\u2013server model RDBMS. To learn more, see the [MySQL website](https://www.mysql.com/). \n__Note:__ if you are using an Amazon RDS service, make sure it accept connections from every IP.\n\n\n## Import the *PyMySQL* Python library\n\n__PyMySQL__ is a pure-Python MySQL client library. Run the commands below to install and import the PyMySQL library:", 
            "cell_type": "markdown", 
            "metadata": {}
        }, 
        {
            "execution_count": 1, 
            "cell_type": "code", 
            "source": "!pip install -q PyMySQL", 
            "outputs": [], 
            "metadata": {}
        }, 
        {
            "execution_count": 2, 
            "cell_type": "code", 
            "source": "import pymysql.cursors", 
            "outputs": [], 
            "metadata": {}
        }, 
        {
            "source": "## Confirm that MySQL is running\n\nYou can test to see if MySQL is installed by opening your terminal and typing \u201cmysql\u201d. If you receive an error that MySQL cannot connect, it means that MySQL is installed, but not running.", 
            "cell_type": "markdown", 
            "metadata": {}
        }, 
        {
            "source": "## Identify and enter the database connection credentials\n\nConnecting to MySQL database requires the following information:\n* Host name or IP address \n* Host port\n* default database name\n* User ID\n* User password\n\nAll of this information must be captured in a connection string in a subsequent step. Provide the MySQL connection information as shown:", 
            "cell_type": "markdown", 
            "metadata": {}
        }, 
        {
            "execution_count": 3, 
            "cell_type": "code", 
            "source": "#Enter the values for you database connection\ndsn_database = \"\" # for example  \"BLUDB\"\ndsn_hostname = \"\" # for example  \"mydbinstance.cz6pjylrdjko.us-east-1.rds.amazonaws.com\"\ndsn_port = 3306        # for example  3306 without quotation marks\ndsn_uid = \"\"      # for example  \"user1\"\ndsn_pwd = \"\"      # for example  \"7dBZ3jWt9xN6$o0JiX!m\"", 
            "outputs": [], 
            "metadata": {}
        }, 
        {
            "source": "## Create the database connection\nSet up a connection as follows. If a connect cannot be made an exception will be raised. \n*conn.cursor* will return a cursor object and you can use this cursor to perform queries:", 
            "cell_type": "markdown", 
            "metadata": {}
        }, 
        {
            "execution_count": 4, 
            "cell_type": "code", 
            "source": "#conn = MySQLdb.connect(host=dsn_hostname, port=dsn_port, user=dsn_uid, passwd=dsn_pwd, db=dsn_database)\nconn = pymysql.connect(host=dsn_hostname, port=dsn_port, user=dsn_uid, passwd=dsn_pwd, db=dsn_database)", 
            "outputs": [], 
            "metadata": {}
        }, 
        {
            "source": "## Create a table\n\nCreate a test table named Cars. The code below drops the Cars table if it already exists, and then creates the new table:", 
            "cell_type": "markdown", 
            "metadata": {
                "collapsed": true
            }
        }, 
        {
            "execution_count": 5, 
            "cell_type": "code", 
            "source": "conn.query(\"\"\"DROP TABLE IF EXISTS Cars\"\"\")\nconn.query(\"\"\"CREATE TABLE Cars(Id INTEGER PRIMARY KEY, Name VARCHAR(20), Price INT)\"\"\")", 
            "outputs": [
                {
                    "execution_count": 5, 
                    "output_type": "execute_result", 
                    "data": {
                        "text/plain": "0"
                    }, 
                    "metadata": {}
                }
            ], 
            "metadata": {}
        }, 
        {
            "source": "## Insert data into a table\n\nRun the following commands to create records in the new Cars table:", 
            "cell_type": "markdown", 
            "metadata": {}
        }, 
        {
            "execution_count": 6, 
            "cell_type": "code", 
            "source": "conn.query(\"\"\"INSERT INTO Cars VALUES(1,'Audi',52642)\"\"\")\nconn.query(\"\"\"INSERT INTO Cars VALUES(2,'Mercedes',57127)\"\"\")\nconn.query(\"\"\"INSERT INTO Cars VALUES(3,'Skoda',9000)\"\"\")\nconn.query(\"\"\"INSERT INTO Cars VALUES(4,'Volvo',29000)\"\"\")\nconn.query(\"\"\"INSERT INTO Cars VALUES(5,'Bentley',350000)\"\"\")\nconn.query(\"\"\"INSERT INTO Cars VALUES(6,'Citroen',21000)\"\"\")\nconn.query(\"\"\"INSERT INTO Cars VALUES(7,'Hummer',41400)\"\"\")\nconn.query(\"\"\"INSERT INTO Cars VALUES(8,'Volkswagen',21600)\"\"\")", 
            "outputs": [
                {
                    "execution_count": 6, 
                    "output_type": "execute_result", 
                    "data": {
                        "text/plain": "1"
                    }, 
                    "metadata": {}
                }
            ], 
            "metadata": {}
        }, 
        {
            "source": "## Query data\n\nTo fetch and display records from the Cars table, create a cursor and execute queries on it:", 
            "cell_type": "markdown", 
            "metadata": {}
        }, 
        {
            "execution_count": 7, 
            "cell_type": "code", 
            "source": "cursor=conn.cursor()\ncursor.execute(\"\"\"SELECT * FROM Cars\"\"\")\ncursor.fetchone()", 
            "outputs": [
                {
                    "execution_count": 7, 
                    "output_type": "execute_result", 
                    "data": {
                        "text/plain": "(1, 'Audi', 52642)"
                    }, 
                    "metadata": {}
                }
            ], 
            "metadata": {}
        }, 
        {
            "source": "You can display the records neatly using pretty print:", 
            "cell_type": "markdown", 
            "metadata": {}
        }, 
        {
            "execution_count": 8, 
            "cell_type": "code", 
            "source": "print (\"\\nShow me the databases:\\n\")\nrows = cursor.fetchall()\nimport pprint\npprint.pprint(rows)", 
            "outputs": [
                {
                    "output_type": "stream", 
                    "name": "stdout", 
                    "text": "\nShow me the databases:\n\n((2, 'Mercedes', 57127),\n (3, 'Skoda', 9000),\n (4, 'Volvo', 29000),\n (5, 'Bentley', 350000),\n (6, 'Citroen', 21000),\n (7, 'Hummer', 41400),\n (8, 'Volkswagen', 21600))\n"
                }
            ], 
            "metadata": {}
        }, 
        {
            "source": "## Close the database connection\nIt is good practice to close your database connection after work is done:", 
            "cell_type": "markdown", 
            "metadata": {}
        }, 
        {
            "execution_count": 9, 
            "cell_type": "code", 
            "source": "conn.close()", 
            "outputs": [], 
            "metadata": {}
        }, 
        {
            "source": "## Summary\n\nThis notebook demonstrated how to establish a connection to a MySQL database from Python using the PyMySQL library. For more information on the PyMySQL package see the official [PyMySQL Documentation](http://pymysql.readthedocs.io/en/latest/).", 
            "cell_type": "markdown", 
            "metadata": {}
        }, 
        {
            "source": "## Want to learn more?\n### Free courses on <a href=\"https://bigdatauniversity.com/courses/?utm_source=tutorial-dashdb-python&utm_medium=github&utm_campaign=bdu/\" rel=\"noopener noreferrer\" target=\"_blank\">Cognitive Class</a>: <a href=\"https://bigdatauniversity.com/courses/?utm_source=tutorial-dashdb-python&utm_medium=github&utm_campaign=bdu\" rel=\"noopener noreferrer\" target=\"_blank\"><img src = \"https://ibm.box.com/shared/static/xomeu7dacwufkoawbg3owc8wzuezltn6.png\" width=600px> </a>", 
            "cell_type": "markdown", 
            "metadata": {}
        }, 
        {
            "source": "### Authors\n\n**Saeed Aghabozorgi**, PhD, is a Data Scientist in IBM with a track record of developing enterprise-level applications that substantially increases clients' ability to turn data into actionable knowledge. He is a researcher in the data mining field and an expert in developing advanced analytic methods like machine learning and statistical modelling on large data sets.\n\n**Polong Lin** is a Data Scientist at IBM in Canada. Under the Emerging Technologies division, Polong is responsible for educating the next generation of data scientists through Big Data University. Polong is a regular speaker in conferences and meetups, and holds an M.Sc. in Cognitive Psychology.", 
            "cell_type": "markdown", 
            "metadata": {}
        }, 
        {
            "source": "Copyright \u00a9 2016, 2018 Cognitive Class. This notebook and its source code are released under the terms of the <a href=\"https://bigdatauniversity.com/mit-license/\" rel=\"noopener noreferrer\" target=\"_blank\">MIT License</a>.", 
            "cell_type": "markdown", 
            "metadata": {}
        }
    ], 
    "nbformat": 4, 
    "metadata": {
        "kernelspec": {
            "display_name": "Python 3.5", 
            "name": "python3", 
            "language": "python"
        }, 
        "language_info": {
            "mimetype": "text/x-python", 
            "nbconvert_exporter": "python", 
            "version": "3.5.4", 
            "name": "python", 
            "file_extension": ".py", 
            "pygments_lexer": "ipython3", 
            "codemirror_mode": {
                "version": 3, 
                "name": "ipython"
            }
        }
    }
}