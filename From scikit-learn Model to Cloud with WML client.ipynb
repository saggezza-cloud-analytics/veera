{
    "nbformat_minor": 1, 
    "cells": [
        {
            "source": "<div style=\"background:#F5F7FA; height:100px; padding: 2em; font-size:14px;\">\n<span style=\"font-size:18px;color:#152935;\">Want to do more?</span><span style=\"border: 1px solid #3d70b2;padding: 15px;float:right;margin-right:40px; color:#3d70b2; \"><a href=\"https://ibm.co/wsnotebooks\" target=\"_blank\" style=\"color: #3d70b2;text-decoration: none;\">Sign Up</a></span><br>\n<span style=\"color:#5A6872;\"> Try out this notebook with your free trial of IBM Watson Studio.</span>\n</div>", 
            "cell_type": "markdown", 
            "metadata": {}
        }, 
        {
            "source": "<table style=\"border: none\" align=\"left\">\n   <tr style=\"border: none\">\n      <th style=\"border: none\"><font face=\"verdana\" size=\"5\" color=\"black\"><b>From scikit-learn Model to Cloud with Watson Machine Learning client</b></th>\n      <th style=\"border: none\"><img src=\"https://github.com/pmservice/customer-satisfaction-prediction/blob/master/app/static/images/ml_icon_gray.png?raw=true\" alt=\"Watson Machine Learning icon\" height=\"40\" width=\"40\"></th>\n   </tr>\n   <tr style=\"border: none\">\n       <th style=\"border: none\"><img src=\"https://github.com/pmservice/wml-sample-models/raw/master/scikit-learn/hand-written-digits-recognition/images/numbers_banner-04.png\" width=\"600\" alt=\"Icon\"> </th>\n   </tr>\n</table>", 
            "cell_type": "markdown", 
            "metadata": {}
        }, 
        {
            "source": "This notebook contains the steps and code to work with <a href=\"https://pypi.python.org/pypi/watson-machine-learning-client\" target=\"_blank\" rel=\"noopener noreferrer\">watson-machine-learning-client</a> library available in the PyPI repository. This notebook introduces commands for getting data and for basic data exploration, pipeline creation, model training and evaluation, model persistance to the Watson Machine Learning repository, model deployment, and scoring.\n\nSome familiarity with Python is helpful. This notebook uses Python 3.5, Spark 2.1, scikit-learn, and the watson-machine-learning-client package.\n\nYou will use the sample data set **sklearn.datasets.load_digits**, which is available in scikit-learn and which contains hand-written images of digits. You will use the sample data set to recognize hand-written digits.\n\n## Learning goals\n\nThe learning goals of this notebook are:\n\n-  Load a sample data set from scikit-learn\n-  Explore data\n-  Prepare data for training and evaluation\n-  Create an Scikit-learn machine learning pipeline\n-  Train and evaluate a model\n-  Persist a model in the Watson Machine Learning repository\n-  Deploy a model for online scoring using the client library\n-  Score sample records using the client library\n\n\n## Contents\n\nThis notebook contains the following parts:\n\n1.\t[Set up the environment](#setup)\n2.\t[Load and explore data](#load)\n3.\t[Create scikit-learn model](#model)\n4.\t[Persist model](#persistence)\n5.\t[Deploy and score in a Cloud](#scoring)\n6.\t[Summary and next steps](#summary)", 
            "cell_type": "markdown", 
            "metadata": {}
        }, 
        {
            "source": "<a id=\"setup\"></a>\n## 1. Set up the environment\n\nBefore you can use the sample code in this notebook, you must perform the following setup tasks:\n\n- Create a <a href=\"https://console.ng.bluemix.net/catalog/services/ibm-watson-machine-learning/\" target=\"_blank\" rel=\"noopener noreferrer\">Watson Machine Learning Service</a> instance (a free plan is offered). \n- Configure the local Python environment as follows:\n  + Python 3.5\n  + scikit-learn 0.17.1\n  + watson-machine-learning-client", 
            "cell_type": "markdown", 
            "metadata": {}
        }, 
        {
            "source": "**Tip**: Run the cell below to install libraries from <a href=\"https://pypi.python.org/pypi/\" target=\"_blank\" rel=\"noopener noreferrer\">PyPI</a>.", 
            "cell_type": "markdown", 
            "metadata": {}
        }, 
        {
            "execution_count": null, 
            "cell_type": "code", 
            "source": "!pip install watson-machine-learning-client --upgrade", 
            "outputs": [], 
            "metadata": {}
        }, 
        {
            "source": "<a id=\"load\"></a>\n## 2. Load and explore data", 
            "cell_type": "markdown", 
            "metadata": {}
        }, 
        {
            "source": "In this section you load and explore the data from scikit-learn sample data sets.", 
            "cell_type": "markdown", 
            "metadata": {}
        }, 
        {
            "execution_count": 2, 
            "cell_type": "code", 
            "source": "import sklearn\nfrom sklearn import datasets\n\ndigits = datasets.load_digits()", 
            "outputs": [], 
            "metadata": {}
        }, 
        {
            "source": "The sample data set is loaded and it consists of 8x8 pixel images of hand-written digits.", 
            "cell_type": "markdown", 
            "metadata": {}
        }, 
        {
            "source": "Let's display the first digit data and label using `data` and `target`.", 
            "cell_type": "markdown", 
            "metadata": {}
        }, 
        {
            "execution_count": 3, 
            "cell_type": "code", 
            "source": "print(digits.data[0].reshape((8, 8)))", 
            "outputs": [
                {
                    "output_type": "stream", 
                    "name": "stdout", 
                    "text": "[[ 0.  0.  5. 13.  9.  1.  0.  0.]\n [ 0.  0. 13. 15. 10. 15.  5.  0.]\n [ 0.  3. 15.  2.  0. 11.  8.  0.]\n [ 0.  4. 12.  0.  0.  8.  8.  0.]\n [ 0.  5.  8.  0.  0.  9.  8.  0.]\n [ 0.  4. 11.  0.  1. 12.  7.  0.]\n [ 0.  2. 14.  5. 10. 12.  0.  0.]\n [ 0.  0.  6. 13. 10.  0.  0.  0.]]\n"
                }
            ], 
            "metadata": {}
        }, 
        {
            "execution_count": 4, 
            "cell_type": "code", 
            "source": "digits.target[0]", 
            "outputs": [
                {
                    "execution_count": 4, 
                    "output_type": "execute_result", 
                    "data": {
                        "text/plain": "0"
                    }, 
                    "metadata": {}
                }
            ], 
            "metadata": {}
        }, 
        {
            "source": "Now, count the number of data samples.", 
            "cell_type": "markdown", 
            "metadata": {}
        }, 
        {
            "execution_count": 5, 
            "cell_type": "code", 
            "source": "samples_count = len(digits.images)\n\nprint(\"Number of samples: \" + str(samples_count))", 
            "outputs": [
                {
                    "output_type": "stream", 
                    "name": "stdout", 
                    "text": "Number of samples: 1797\n"
                }
            ], 
            "metadata": {}
        }, 
        {
            "source": "<a id=\"model\"></a>\n## 3. Create a scikit-learn model\n\nIn this section you will learn how to:\n- [Prepare the data](#prepdata)\n- [Create a Scikit-learn machine learning pipeline](#createpipe)\n- [Train a model](#trainmodel)", 
            "cell_type": "markdown", 
            "metadata": {}
        }, 
        {
            "source": "### 3.1: Prepare the data<a id=\"prepdata\"></a>\n\nIn this subsection you split your data into train, test, and score data sets.", 
            "cell_type": "markdown", 
            "metadata": {}
        }, 
        {
            "execution_count": 6, 
            "cell_type": "code", 
            "source": "train_data = digits.data[: int(0.7*samples_count)]\ntrain_labels = digits.target[: int(0.7*samples_count)]\n\ntest_data = digits.data[int(0.7*samples_count): int(0.9*samples_count)]\ntest_labels = digits.target[int(0.7*samples_count): int(0.9*samples_count)]\n\nscore_data = digits.data[int(0.9*samples_count): ]\n\nprint(\"Number of training records: \" + str(len(train_data)))\nprint(\"Number of testing records : \" + str(len(test_data)))\nprint(\"Number of scoring records : \" + str(len(score_data)))", 
            "outputs": [
                {
                    "output_type": "stream", 
                    "name": "stdout", 
                    "text": "Number of training records: 1257\nNumber of testing records : 360\nNumber of scoring records : 180\n"
                }
            ], 
            "metadata": {}
        }, 
        {
            "source": "As you can see, the data has been split into three data sets: \n\n-  The train data set: The largest group, used for training.\n-  The test data set: Used for model evaluation and to test the assumptions of the model.\n-  The score data set: Used for scoring in the Cloud.", 
            "cell_type": "markdown", 
            "metadata": {}
        }, 
        {
            "source": "### 3.2: Create a pipeline <a id=\"createpipe\"></a> ", 
            "cell_type": "markdown", 
            "metadata": {}
        }, 
        {
            "source": "In this section you will create scikit-learn machine learning pipeline and then train the model.", 
            "cell_type": "markdown", 
            "metadata": {}
        }, 
        {
            "source": "The first step is to import the scikit-learn machine learning packages that you need in the subsequent steps.", 
            "cell_type": "markdown", 
            "metadata": {}
        }, 
        {
            "execution_count": 7, 
            "cell_type": "code", 
            "source": "from sklearn.pipeline import Pipeline\nfrom sklearn import preprocessing\nfrom sklearn import svm, metrics", 
            "outputs": [], 
            "metadata": {}
        }, 
        {
            "source": "Remove the mean and scale to unit variance to standardize the features..", 
            "cell_type": "markdown", 
            "metadata": {}
        }, 
        {
            "execution_count": 8, 
            "cell_type": "code", 
            "source": "scaler = preprocessing.StandardScaler()", 
            "outputs": [], 
            "metadata": {}
        }, 
        {
            "source": "Next, define the estimators you want to use for classification. Support Vector Machines (SVM) with a radial basis function as kernel is used in the following example.", 
            "cell_type": "markdown", 
            "metadata": {}
        }, 
        {
            "execution_count": 9, 
            "cell_type": "code", 
            "source": "clf = svm.SVC(kernel='rbf')", 
            "outputs": [], 
            "metadata": {}
        }, 
        {
            "source": "Now, build the pipeline. A pipeline consists of a transformer and an estimator.", 
            "cell_type": "markdown", 
            "metadata": {}
        }, 
        {
            "execution_count": 10, 
            "cell_type": "code", 
            "source": "pipeline = Pipeline([('scaler', scaler), ('svc', clf)])", 
            "outputs": [], 
            "metadata": {}
        }, 
        {
            "source": "### 3.3: Train the model<a id=\"trainmodel\"></a>", 
            "cell_type": "markdown", 
            "metadata": {}
        }, 
        {
            "source": "Now, you can use `train_data`([step 3.1](#prepdata)) and `pipeline`([step 3.2](#createpipe)) to train your SVM model.", 
            "cell_type": "markdown", 
            "metadata": {}
        }, 
        {
            "execution_count": 11, 
            "cell_type": "code", 
            "source": "model = pipeline.fit(train_data, train_labels)", 
            "outputs": [], 
            "metadata": {}
        }, 
        {
            "source": "Check the quality of your model. \nTo evaluate the model, use **test data**.", 
            "cell_type": "markdown", 
            "metadata": {}
        }, 
        {
            "execution_count": 12, 
            "cell_type": "code", 
            "source": "predicted = model.predict(test_data)\n\nprint(\"Evaluation report: \\n\\n%s\" % metrics.classification_report(test_labels, predicted))", 
            "outputs": [
                {
                    "output_type": "stream", 
                    "name": "stdout", 
                    "text": "Evaluation report: \n\n             precision    recall  f1-score   support\n\n          0       1.00      0.97      0.99        37\n          1       0.97      0.97      0.97        34\n          2       1.00      0.97      0.99        36\n          3       1.00      0.94      0.97        35\n          4       0.78      0.97      0.87        37\n          5       0.97      0.97      0.97        38\n          6       0.97      0.86      0.91        36\n          7       0.92      0.97      0.94        35\n          8       0.91      0.89      0.90        35\n          9       0.97      0.92      0.94        37\n\navg / total       0.95      0.94      0.95       360\n\n"
                }
            ], 
            "metadata": {}
        }, 
        {
            "source": "You can now tune your model to achieve better accuracy. For simplicity, the tuning section is omitted in this example.", 
            "cell_type": "markdown", 
            "metadata": {
                "collapsed": true
            }
        }, 
        {
            "source": "<a id=\"persistence\"></a>\n## 4. Persist model", 
            "cell_type": "markdown", 
            "metadata": {
                "collapsed": true
            }
        }, 
        {
            "source": "In this section you will learn how to use the common Python client to store your model in the Watson Machine Learning repository.\n\n- [Work with your instance](#workwithinstance)\n- [Publish the model](#pubmodel)\n- [Get model details](#getmodel)\n- [Load the model](#loadmodel)\n- [Delete the model](#deletemodel)", 
            "cell_type": "markdown", 
            "metadata": {}
        }, 
        {
            "source": "**Tip**: You can find documentation about the watson-machine-learning-client package <a href=\"https://wml-api-pyclient.mybluemix.net\" target=\"_blank\" rel=\"noopener noreferrer\">here</a>.", 
            "cell_type": "markdown", 
            "metadata": {}
        }, 
        {
            "source": "### 4.1: Work with your instance<a id=\"workwithinstance\"></a>", 
            "cell_type": "markdown", 
            "metadata": {}
        }, 
        {
            "source": "First, import the client libraries.", 
            "cell_type": "markdown", 
            "metadata": {
                "collapsed": true
            }
        }, 
        {
            "execution_count": null, 
            "cell_type": "code", 
            "source": "from watson_machine_learning_client import WatsonMachineLearningAPIClient", 
            "outputs": [], 
            "metadata": {}
        }, 
        {
            "source": "Authenticate to your Watson Machine Learning service instance on IBM Cloud.", 
            "cell_type": "markdown", 
            "metadata": {
                "collapsed": true
            }
        }, 
        {
            "source": "**Tip**: Authentication information (your credentials) can be found in the [Service Credentials](https://console.bluemix.net/docs/services/service_credentials.html#service_credentials) tab of the service instance that you created on IBM Cloud. <BR>If you cannot see the **instance_id** field in **Service Credentials**, click **New credential (+)** to generate new authentication information. ", 
            "cell_type": "markdown", 
            "metadata": {}
        }, 
        {
            "source": "**Action**: Enter your Watson Machine Learning service instance credentials here.", 
            "cell_type": "markdown", 
            "metadata": {}
        }, 
        {
            "execution_count": 16, 
            "cell_type": "code", 
            "source": "wml_credentials={\n  \"url\": \"https://ibm-watson-ml.mybluemix.net\",\n  \"access_key\": \"***\",\n  \"username\": \"***\",\n  \"password\": \"***\",\n  \"instance_id\": \"***\"\n}", 
            "outputs": [], 
            "metadata": {}
        }, 
        {
            "source": "Run the cell below to create the API client.", 
            "cell_type": "markdown", 
            "metadata": {}
        }, 
        {
            "execution_count": 17, 
            "cell_type": "code", 
            "source": "client = WatsonMachineLearningAPIClient(wml_credentials)", 
            "outputs": [], 
            "metadata": {}
        }, 
        {
            "source": "Get the instance details.", 
            "cell_type": "markdown", 
            "metadata": {}
        }, 
        {
            "execution_count": null, 
            "cell_type": "code", 
            "source": "#Output has been removed for this cell for Watson Studio sharing.\n\nimport json\n\ninstance_details = client.service_instance.get_details()\nprint(json.dumps(instance_details, indent=2))", 
            "outputs": [], 
            "metadata": {}
        }, 
        {
            "source": "### 4.2: Publish the model<a id=\"pubmodel\"></a>", 
            "cell_type": "markdown", 
            "metadata": {}
        }, 
        {
            "source": "Publish the model in the Watson Machine Learning repository in the IBM Cloud.", 
            "cell_type": "markdown", 
            "metadata": {}
        }, 
        {
            "source": "Define the model name, the author name and author email.", 
            "cell_type": "markdown", 
            "metadata": {}
        }, 
        {
            "execution_count": 21, 
            "cell_type": "code", 
            "source": "model_props = {client.repository.ModelMetaNames.AUTHOR_NAME: \"IBM\", \n               client.repository.ModelMetaNames.AUTHOR_EMAIL: \"ibm@ibm.com\",\n               client.repository.ModelMetaNames.NAME: \"LOCALLY created Digits prediction model\"}", 
            "outputs": [], 
            "metadata": {}
        }, 
        {
            "execution_count": 22, 
            "cell_type": "code", 
            "source": "published_model = client.repository.store_model(model=model, meta_props=model_props, \\\n                                                training_data=train_data, training_target=train_labels)", 
            "outputs": [], 
            "metadata": {}
        }, 
        {
            "source": "### 4.3: Get model details<a id=\"getmodel\"></a>\n\nRun the code in the cell below to view information about your published model.", 
            "cell_type": "markdown", 
            "metadata": {}
        }, 
        {
            "execution_count": 23, 
            "cell_type": "code", 
            "source": "published_model_uid = client.repository.get_model_uid(published_model)\nmodel_details = client.repository.get_details(published_model_uid)\n\nprint(json.dumps(model_details, indent=2))", 
            "outputs": [
                {
                    "output_type": "stream", 
                    "name": "stdout", 
                    "text": "{\n  \"metadata\": {\n    \"created_at\": \"2018-03-06T12:27:21.070Z\",\n    \"url\": \"https://ibm-watson-ml.mybluemix.net/v3/wml_instances/8f11cfac-57ca-4a0c-9815-7abbd7a72491/published_models/6ebd93c7-b902-4e04-9827-618b3b21eccc\",\n    \"modified_at\": \"2018-03-06T12:27:21.133Z\",\n    \"guid\": \"6ebd93c7-b902-4e04-9827-618b3b21eccc\"\n  },\n  \"entity\": {\n    \"latest_version\": {\n      \"created_at\": \"2018-03-06T12:27:21.133Z\",\n      \"url\": \"https://ibm-watson-ml.mybluemix.net/v3/ml_assets/models/6ebd93c7-b902-4e04-9827-618b3b21eccc/versions/6fcede0b-4c32-4fa3-9bb7-4d740ee7b685\",\n      \"guid\": \"6fcede0b-4c32-4fa3-9bb7-4d740ee7b685\"\n    },\n    \"runtime_environment\": \"python-3.5\",\n    \"name\": \"LOCALLY created Digits prediction model\",\n    \"learning_configuration_url\": \"https://ibm-watson-ml.mybluemix.net/v3/wml_instances/8f11cfac-57ca-4a0c-9815-7abbd7a72491/published_models/6ebd93c7-b902-4e04-9827-618b3b21eccc/learning_configuration\",\n    \"model_type\": \"scikit-learn-0.19\",\n    \"input_data_schema\": {\n      \"features\": {\n        \"fields\": [\n          {\n            \"type\": \"float\",\n            \"name\": \"f0\"\n          },\n          {\n            \"type\": \"float\",\n            \"name\": \"f1\"\n          },\n          {\n            \"type\": \"float\",\n            \"name\": \"f2\"\n          },\n          {\n            \"type\": \"float\",\n            \"name\": \"f3\"\n          },\n          {\n            \"type\": \"float\",\n            \"name\": \"f4\"\n          },\n          {\n            \"type\": \"float\",\n            \"name\": \"f5\"\n          },\n          {\n            \"type\": \"float\",\n            \"name\": \"f6\"\n          },\n          {\n            \"type\": \"float\",\n            \"name\": \"f7\"\n          },\n          {\n            \"type\": \"float\",\n            \"name\": \"f8\"\n          },\n          {\n            \"type\": \"float\",\n            \"name\": \"f9\"\n          },\n          {\n            \"type\": \"float\",\n            \"name\": \"f10\"\n          },\n          {\n            \"type\": \"float\",\n            \"name\": \"f11\"\n          },\n          {\n            \"type\": \"float\",\n            \"name\": \"f12\"\n          },\n          {\n            \"type\": \"float\",\n            \"name\": \"f13\"\n          },\n          {\n            \"type\": \"float\",\n            \"name\": \"f14\"\n          },\n          {\n            \"type\": \"float\",\n            \"name\": \"f15\"\n          },\n          {\n            \"type\": \"float\",\n            \"name\": \"f16\"\n          },\n          {\n            \"type\": \"float\",\n            \"name\": \"f17\"\n          },\n          {\n            \"type\": \"float\",\n            \"name\": \"f18\"\n          },\n          {\n            \"type\": \"float\",\n            \"name\": \"f19\"\n          },\n          {\n            \"type\": \"float\",\n            \"name\": \"f20\"\n          },\n          {\n            \"type\": \"float\",\n            \"name\": \"f21\"\n          },\n          {\n            \"type\": \"float\",\n            \"name\": \"f22\"\n          },\n          {\n            \"type\": \"float\",\n            \"name\": \"f23\"\n          },\n          {\n            \"type\": \"float\",\n            \"name\": \"f24\"\n          },\n          {\n            \"type\": \"float\",\n            \"name\": \"f25\"\n          },\n          {\n            \"type\": \"float\",\n            \"name\": \"f26\"\n          },\n          {\n            \"type\": \"float\",\n            \"name\": \"f27\"\n          },\n          {\n            \"type\": \"float\",\n            \"name\": \"f28\"\n          },\n          {\n            \"type\": \"float\",\n            \"name\": \"f29\"\n          },\n          {\n            \"type\": \"float\",\n            \"name\": \"f30\"\n          },\n          {\n            \"type\": \"float\",\n            \"name\": \"f31\"\n          },\n          {\n            \"type\": \"float\",\n            \"name\": \"f32\"\n          },\n          {\n            \"type\": \"float\",\n            \"name\": \"f33\"\n          },\n          {\n            \"type\": \"float\",\n            \"name\": \"f34\"\n          },\n          {\n            \"type\": \"float\",\n            \"name\": \"f35\"\n          },\n          {\n            \"type\": \"float\",\n            \"name\": \"f36\"\n          },\n          {\n            \"type\": \"float\",\n            \"name\": \"f37\"\n          },\n          {\n            \"type\": \"float\",\n            \"name\": \"f38\"\n          },\n          {\n            \"type\": \"float\",\n            \"name\": \"f39\"\n          },\n          {\n            \"type\": \"float\",\n            \"name\": \"f40\"\n          },\n          {\n            \"type\": \"float\",\n            \"name\": \"f41\"\n          },\n          {\n            \"type\": \"float\",\n            \"name\": \"f42\"\n          },\n          {\n            \"type\": \"float\",\n            \"name\": \"f43\"\n          },\n          {\n            \"type\": \"float\",\n            \"name\": \"f44\"\n          },\n          {\n            \"type\": \"float\",\n            \"name\": \"f45\"\n          },\n          {\n            \"type\": \"float\",\n            \"name\": \"f46\"\n          },\n          {\n            \"type\": \"float\",\n            \"name\": \"f47\"\n          },\n          {\n            \"type\": \"float\",\n            \"name\": \"f48\"\n          },\n          {\n            \"type\": \"float\",\n            \"name\": \"f49\"\n          },\n          {\n            \"type\": \"float\",\n            \"name\": \"f50\"\n          },\n          {\n            \"type\": \"float\",\n            \"name\": \"f51\"\n          },\n          {\n            \"type\": \"float\",\n            \"name\": \"f52\"\n          },\n          {\n            \"type\": \"float\",\n            \"name\": \"f53\"\n          },\n          {\n            \"type\": \"float\",\n            \"name\": \"f54\"\n          },\n          {\n            \"type\": \"float\",\n            \"name\": \"f55\"\n          },\n          {\n            \"type\": \"float\",\n            \"name\": \"f56\"\n          },\n          {\n            \"type\": \"float\",\n            \"name\": \"f57\"\n          },\n          {\n            \"type\": \"float\",\n            \"name\": \"f58\"\n          },\n          {\n            \"type\": \"float\",\n            \"name\": \"f59\"\n          },\n          {\n            \"type\": \"float\",\n            \"name\": \"f60\"\n          },\n          {\n            \"type\": \"float\",\n            \"name\": \"f61\"\n          },\n          {\n            \"type\": \"float\",\n            \"name\": \"f62\"\n          },\n          {\n            \"type\": \"float\",\n            \"name\": \"f63\"\n          }\n        ],\n        \"type\": \"ndarray\"\n      },\n      \"labels\": {\n        \"fields\": [\n          {\n            \"type\": \"int\",\n            \"name\": \"l1\"\n          }\n        ],\n        \"type\": \"ndarray\"\n      }\n    },\n    \"feedback_url\": \"https://ibm-watson-ml.mybluemix.net/v3/wml_instances/8f11cfac-57ca-4a0c-9815-7abbd7a72491/published_models/6ebd93c7-b902-4e04-9827-618b3b21eccc/feedback\",\n    \"label_col\": \"l1\",\n    \"deployments\": {\n      \"url\": \"https://ibm-watson-ml.mybluemix.net/v3/wml_instances/8f11cfac-57ca-4a0c-9815-7abbd7a72491/published_models/6ebd93c7-b902-4e04-9827-618b3b21eccc/deployments\",\n      \"count\": 0\n    },\n    \"training_data_schema\": {\n      \"features\": {\n        \"fields\": [\n          {\n            \"type\": \"float\",\n            \"name\": \"f0\"\n          },\n          {\n            \"type\": \"float\",\n            \"name\": \"f1\"\n          },\n          {\n            \"type\": \"float\",\n            \"name\": \"f2\"\n          },\n          {\n            \"type\": \"float\",\n            \"name\": \"f3\"\n          },\n          {\n            \"type\": \"float\",\n            \"name\": \"f4\"\n          },\n          {\n            \"type\": \"float\",\n            \"name\": \"f5\"\n          },\n          {\n            \"type\": \"float\",\n            \"name\": \"f6\"\n          },\n          {\n            \"type\": \"float\",\n            \"name\": \"f7\"\n          },\n          {\n            \"type\": \"float\",\n            \"name\": \"f8\"\n          },\n          {\n            \"type\": \"float\",\n            \"name\": \"f9\"\n          },\n          {\n            \"type\": \"float\",\n            \"name\": \"f10\"\n          },\n          {\n            \"type\": \"float\",\n            \"name\": \"f11\"\n          },\n          {\n            \"type\": \"float\",\n            \"name\": \"f12\"\n          },\n          {\n            \"type\": \"float\",\n            \"name\": \"f13\"\n          },\n          {\n            \"type\": \"float\",\n            \"name\": \"f14\"\n          },\n          {\n            \"type\": \"float\",\n            \"name\": \"f15\"\n          },\n          {\n            \"type\": \"float\",\n            \"name\": \"f16\"\n          },\n          {\n            \"type\": \"float\",\n            \"name\": \"f17\"\n          },\n          {\n            \"type\": \"float\",\n            \"name\": \"f18\"\n          },\n          {\n            \"type\": \"float\",\n            \"name\": \"f19\"\n          },\n          {\n            \"type\": \"float\",\n            \"name\": \"f20\"\n          },\n          {\n            \"type\": \"float\",\n            \"name\": \"f21\"\n          },\n          {\n            \"type\": \"float\",\n            \"name\": \"f22\"\n          },\n          {\n            \"type\": \"float\",\n            \"name\": \"f23\"\n          },\n          {\n            \"type\": \"float\",\n            \"name\": \"f24\"\n          },\n          {\n            \"type\": \"float\",\n            \"name\": \"f25\"\n          },\n          {\n            \"type\": \"float\",\n            \"name\": \"f26\"\n          },\n          {\n            \"type\": \"float\",\n            \"name\": \"f27\"\n          },\n          {\n            \"type\": \"float\",\n            \"name\": \"f28\"\n          },\n          {\n            \"type\": \"float\",\n            \"name\": \"f29\"\n          },\n          {\n            \"type\": \"float\",\n            \"name\": \"f30\"\n          },\n          {\n            \"type\": \"float\",\n            \"name\": \"f31\"\n          },\n          {\n            \"type\": \"float\",\n            \"name\": \"f32\"\n          },\n          {\n            \"type\": \"float\",\n            \"name\": \"f33\"\n          },\n          {\n            \"type\": \"float\",\n            \"name\": \"f34\"\n          },\n          {\n            \"type\": \"float\",\n            \"name\": \"f35\"\n          },\n          {\n            \"type\": \"float\",\n            \"name\": \"f36\"\n          },\n          {\n            \"type\": \"float\",\n            \"name\": \"f37\"\n          },\n          {\n            \"type\": \"float\",\n            \"name\": \"f38\"\n          },\n          {\n            \"type\": \"float\",\n            \"name\": \"f39\"\n          },\n          {\n            \"type\": \"float\",\n            \"name\": \"f40\"\n          },\n          {\n            \"type\": \"float\",\n            \"name\": \"f41\"\n          },\n          {\n            \"type\": \"float\",\n            \"name\": \"f42\"\n          },\n          {\n            \"type\": \"float\",\n            \"name\": \"f43\"\n          },\n          {\n            \"type\": \"float\",\n            \"name\": \"f44\"\n          },\n          {\n            \"type\": \"float\",\n            \"name\": \"f45\"\n          },\n          {\n            \"type\": \"float\",\n            \"name\": \"f46\"\n          },\n          {\n            \"type\": \"float\",\n            \"name\": \"f47\"\n          },\n          {\n            \"type\": \"float\",\n            \"name\": \"f48\"\n          },\n          {\n            \"type\": \"float\",\n            \"name\": \"f49\"\n          },\n          {\n            \"type\": \"float\",\n            \"name\": \"f50\"\n          },\n          {\n            \"type\": \"float\",\n            \"name\": \"f51\"\n          },\n          {\n            \"type\": \"float\",\n            \"name\": \"f52\"\n          },\n          {\n            \"type\": \"float\",\n            \"name\": \"f53\"\n          },\n          {\n            \"type\": \"float\",\n            \"name\": \"f54\"\n          },\n          {\n            \"type\": \"float\",\n            \"name\": \"f55\"\n          },\n          {\n            \"type\": \"float\",\n            \"name\": \"f56\"\n          },\n          {\n            \"type\": \"float\",\n            \"name\": \"f57\"\n          },\n          {\n            \"type\": \"float\",\n            \"name\": \"f58\"\n          },\n          {\n            \"type\": \"float\",\n            \"name\": \"f59\"\n          },\n          {\n            \"type\": \"float\",\n            \"name\": \"f60\"\n          },\n          {\n            \"type\": \"float\",\n            \"name\": \"f61\"\n          },\n          {\n            \"type\": \"float\",\n            \"name\": \"f62\"\n          },\n          {\n            \"type\": \"float\",\n            \"name\": \"f63\"\n          }\n        ],\n        \"type\": \"ndarray\"\n      },\n      \"labels\": {\n        \"fields\": [\n          {\n            \"type\": \"int\",\n            \"name\": \"l1\"\n          }\n        ],\n        \"type\": \"ndarray\"\n      }\n    },\n    \"learning_iterations_url\": \"https://ibm-watson-ml.mybluemix.net/v3/wml_instances/8f11cfac-57ca-4a0c-9815-7abbd7a72491/published_models/6ebd93c7-b902-4e04-9827-618b3b21eccc/learning_iterations\",\n    \"evaluation_metrics_url\": \"https://ibm-watson-ml.mybluemix.net/v3/wml_instances/8f11cfac-57ca-4a0c-9815-7abbd7a72491/published_models/6ebd93c7-b902-4e04-9827-618b3b21eccc/evaluation_metrics\",\n    \"author\": {\n      \"email\": \"ibm@ibm.com\",\n      \"name\": \"IBM\"\n    }\n  }\n}\n"
                }
            ], 
            "metadata": {}
        }, 
        {
            "source": "List all the models. Your model should be displayed in the list.", 
            "cell_type": "markdown", 
            "metadata": {}
        }, 
        {
            "execution_count": 24, 
            "cell_type": "code", 
            "source": "models_details = client.repository.list_models()", 
            "outputs": [
                {
                    "output_type": "stream", 
                    "name": "stdout", 
                    "text": "------------------------------------  ---------------------------------------  ------------------------  -----------------  -----\nGUID                                  NAME                                     CREATED                   FRAMEWORK          TYPE\nc19ea489-1674-4883-bcbd-68f0089ef7dc  Customer Churn Model                     2018-02-19T15:01:13.485Z  mllib-2.0          model\nd9083d24-67f6-418e-869d-4fe344f7d9e5  Customer Churn Model                     2018-02-20T07:20:03.989Z  mllib-2.1          model\n7bce0af2-3d3a-4163-9bce-f5303c729d07  Customer Churn Model                     2018-02-20T09:13:27.542Z  mllib-2.1          model\n1698755c-ae01-4ab9-80b3-4f5d4d92bcc3  VIOLATIONS_SCALA211_SPARK20              2018-02-20T13:25:01.431Z  mllib-2.1          model\n6ebd93c7-b902-4e04-9827-618b3b21eccc  LOCALLY created Digits prediction model  2018-03-06T12:27:21.070Z  scikit-learn-0.19  model\n------------------------------------  ---------------------------------------  ------------------------  -----------------  -----\n"
                }
            ], 
            "metadata": {}
        }, 
        {
            "source": "### 4.4: Load a model<a id=\"loadmodel\"></a>", 
            "cell_type": "markdown", 
            "metadata": {}
        }, 
        {
            "source": "Run the code in the cell below to reload a saved model from a specified instance of Watson Machine Learning.", 
            "cell_type": "markdown", 
            "metadata": {}
        }, 
        {
            "execution_count": 25, 
            "cell_type": "code", 
            "source": "loaded_model = client.repository.load(published_model_uid)", 
            "outputs": [], 
            "metadata": {}
        }, 
        {
            "source": "You can run a test prediction to verify that that model has been loaded correctly.", 
            "cell_type": "markdown", 
            "metadata": {}
        }, 
        {
            "execution_count": 26, 
            "cell_type": "code", 
            "source": "test_predictions = loaded_model.predict(test_data[:10])", 
            "outputs": [], 
            "metadata": {}
        }, 
        {
            "execution_count": 27, 
            "cell_type": "code", 
            "source": "print(test_predictions)", 
            "outputs": [
                {
                    "output_type": "stream", 
                    "name": "stdout", 
                    "text": "[4 0 5 3 6 9 6 4 7 5]\n"
                }
            ], 
            "metadata": {}
        }, 
        {
            "source": "As you can see you are able to make predictions, which means the model reloaded successfully. You now know how to save the model to, and load the model from, the Watson Machine Learning repository.", 
            "cell_type": "markdown", 
            "metadata": {}
        }, 
        {
            "source": "### 4.5: Delete the model<a id=\"deletemodel\"></a>", 
            "cell_type": "markdown", 
            "metadata": {}
        }, 
        {
            "source": "The code in the cell below deletes the published model from the Watson Machine Learning repository. The code is commented out at this stage because you need the model later for deployment.", 
            "cell_type": "markdown", 
            "metadata": {}
        }, 
        {
            "execution_count": null, 
            "cell_type": "code", 
            "source": "# client.repository.delete(published_model_uid)", 
            "outputs": [], 
            "metadata": {}
        }, 
        {
            "source": "<a id=\"scoring\"></a>\n## 5. Deploy and score in a Cloud", 
            "cell_type": "markdown", 
            "metadata": {}
        }, 
        {
            "source": "In this section you will learn how to use the watson-machine-learning-client to create online scoring and to score a new data record.\n\n- [Create model deployment](#modeldeploy)\n- [Get deployments](#getdeploy)\n- [Run a scoring request](#score)\n- [Delete the deployment](#deletedeploy)\n- [Delete the model](#deletemodel)\n", 
            "cell_type": "markdown", 
            "metadata": {}
        }, 
        {
            "source": "### 5.1: Create the model deployment<a id=\"modeldeploy\"></a>", 
            "cell_type": "markdown", 
            "metadata": {}
        }, 
        {
            "source": "Create an online deployment for the published model.", 
            "cell_type": "markdown", 
            "metadata": {}
        }, 
        {
            "execution_count": 28, 
            "cell_type": "code", 
            "source": "created_deployment = client.deployments.create(published_model_uid, \"Deployment of locally created scikit model\")", 
            "outputs": [], 
            "metadata": {}
        }, 
        {
            "source": "**Note**: Here you use the deployment url saved in published_model object. In next section you will retrieve the deployment url from the Watson Mchine Learning instance.", 
            "cell_type": "markdown", 
            "metadata": {}
        }, 
        {
            "source": "Now, print an online scoring endpoint. ", 
            "cell_type": "markdown", 
            "metadata": {}
        }, 
        {
            "execution_count": 29, 
            "cell_type": "code", 
            "source": "scoring_endpoint = client.deployments.get_scoring_url(created_deployment)\n\nprint(scoring_endpoint)", 
            "outputs": [
                {
                    "output_type": "stream", 
                    "name": "stdout", 
                    "text": "https://ibm-watson-ml.mybluemix.net/v3/wml_instances/8f11cfac-57ca-4a0c-9815-7abbd7a72491/published_models/6ebd93c7-b902-4e04-9827-618b3b21eccc/deployments/2d8e45a3-a1e3-4395-b40e-0323e943bab4/online\n"
                }
            ], 
            "metadata": {}
        }, 
        {
            "source": "### 5.2: Get deployments<a id=\"getdeploy\"></a>\n    \nPrint information about your deployments.", 
            "cell_type": "markdown", 
            "metadata": {}
        }, 
        {
            "execution_count": null, 
            "cell_type": "code", 
            "source": "#Output is hidden for Watson Studio Sharing\ndeployments = client.deployments.get_details()\n\nprint(json.dumps(deployments, indent=2))", 
            "outputs": [], 
            "metadata": {}
        }, 
        {
            "source": "You can get the deployment_url by parsing the deployment details for last deployed model.", 
            "cell_type": "markdown", 
            "metadata": {}
        }, 
        {
            "execution_count": 31, 
            "cell_type": "code", 
            "source": "deployment_url = client.deployments.get_url(created_deployment)\n\nprint(deployment_url)", 
            "outputs": [
                {
                    "output_type": "stream", 
                    "name": "stdout", 
                    "text": "https://ibm-watson-ml.mybluemix.net/v3/wml_instances/8f11cfac-57ca-4a0c-9815-7abbd7a72491/published_models/6ebd93c7-b902-4e04-9827-618b3b21eccc/deployments/2d8e45a3-a1e3-4395-b40e-0323e943bab4\n"
                }
            ], 
            "metadata": {}
        }, 
        {
            "source": "### 5.3: Run a scoring request<a id=\"score\">", 
            "cell_type": "markdown", 
            "metadata": {}
        }, 
        {
            "source": "Run a test scoring request against the deployed model.", 
            "cell_type": "markdown", 
            "metadata": {}
        }, 
        {
            "source": "**Action**: Prepare the scoring payload with records to score.", 
            "cell_type": "markdown", 
            "metadata": {}
        }, 
        {
            "execution_count": 32, 
            "cell_type": "code", 
            "source": "scoring_payload = {\"values\": [list(score_data[0]), list(score_data[1])]}", 
            "outputs": [], 
            "metadata": {}
        }, 
        {
            "source": "Use the ``client.deployments.score()`` method to run scoring, and print the output.", 
            "cell_type": "markdown", 
            "metadata": {}
        }, 
        {
            "execution_count": 33, 
            "cell_type": "code", 
            "source": "predictions = client.deployments.score(scoring_endpoint, scoring_payload)", 
            "outputs": [], 
            "metadata": {}
        }, 
        {
            "execution_count": 34, 
            "cell_type": "code", 
            "source": "print(json.dumps(predictions, indent=2))", 
            "outputs": [
                {
                    "output_type": "stream", 
                    "name": "stdout", 
                    "text": "{\n  \"fields\": [\n    \"prediction\"\n  ],\n  \"values\": [\n    [\n      5\n    ],\n    [\n      2\n    ]\n  ]\n}\n"
                }
            ], 
            "metadata": {}
        }, 
        {
            "source": "### 5.4: Delete the deployment<a id=\"deletedeploy\"></a>", 
            "cell_type": "markdown", 
            "metadata": {}
        }, 
        {
            "source": "Use the following method to delete the deployment.", 
            "cell_type": "markdown", 
            "metadata": {}
        }, 
        {
            "execution_count": 35, 
            "cell_type": "code", 
            "source": "client.deployments.delete(client.deployments.get_uid(created_deployment))", 
            "outputs": [], 
            "metadata": {}
        }, 
        {
            "source": "Run ``list`` to verify that the deployment is not displayed in the list and has been deleted.", 
            "cell_type": "markdown", 
            "metadata": {}
        }, 
        {
            "execution_count": 36, 
            "cell_type": "code", 
            "source": "client.deployments.list()", 
            "outputs": [
                {
                    "output_type": "stream", 
                    "name": "stdout", 
                    "text": "------------------------------------  -------------------------  -----  ------------------------  ---------\nGUID                                  NAME                       TYPE   CREATED                   FRAMEWORK\nbb3cb635-7d08-4115-9592-113ff94aabde  Customer Churn Prediction  batch  2018-02-19T15:11:40.938Z  mllib-2.0\n------------------------------------  -------------------------  -----  ------------------------  ---------\n"
                }
            ], 
            "metadata": {}
        }, 
        {
            "source": "### 5.5: Delete the model<a id=\"deletemodel\"></a>\n\nRun the code in the cell below to delete your model.", 
            "cell_type": "markdown", 
            "metadata": {}
        }, 
        {
            "execution_count": 37, 
            "cell_type": "code", 
            "source": "client.repository.delete(published_model_uid)", 
            "outputs": [], 
            "metadata": {}
        }, 
        {
            "source": "Run ``list`` to verify that the model has been deleted. ", 
            "cell_type": "markdown", 
            "metadata": {}
        }, 
        {
            "execution_count": 38, 
            "cell_type": "code", 
            "source": "client.repository.list_models()", 
            "outputs": [
                {
                    "output_type": "stream", 
                    "name": "stdout", 
                    "text": "------------------------------------  ---------------------------  ------------------------  ---------  -----\nGUID                                  NAME                         CREATED                   FRAMEWORK  TYPE\nc19ea489-1674-4883-bcbd-68f0089ef7dc  Customer Churn Model         2018-02-19T15:01:13.485Z  mllib-2.0  model\nd9083d24-67f6-418e-869d-4fe344f7d9e5  Customer Churn Model         2018-02-20T07:20:03.989Z  mllib-2.1  model\n7bce0af2-3d3a-4163-9bce-f5303c729d07  Customer Churn Model         2018-02-20T09:13:27.542Z  mllib-2.1  model\n1698755c-ae01-4ab9-80b3-4f5d4d92bcc3  VIOLATIONS_SCALA211_SPARK20  2018-02-20T13:25:01.431Z  mllib-2.1  model\n------------------------------------  ---------------------------  ------------------------  ---------  -----\n"
                }
            ], 
            "metadata": {}
        }, 
        {
            "source": "<a id=\"summary\"></a>\n## 6. Summary and next steps     ", 
            "cell_type": "markdown", 
            "metadata": {
                "collapsed": true
            }
        }, 
        {
            "source": "You have successfully completed this notebook! \nYou learned how to use scikit-learn machine learning as well as Watson Machine Learning for model creation and deployment. \nCheck out our [Online Documentation](https://dataplatform.ibm.com/docs/content/analyze-data/wml-setup.html) for more samples, tutorials, documentation, how-tos, and blog posts. ", 
            "cell_type": "markdown", 
            "metadata": {
                "collapsed": true
            }
        }, 
        {
            "source": "### Authors\n\n**Wojciech Sobala**, Data Scientist at IBM developing enterprise-level applications that substantially increases clients' ability to turn data into actionable knowledge.", 
            "cell_type": "markdown", 
            "metadata": {}
        }, 
        {
            "source": "Copyright \u00a9 2017, 2018 IBM. This notebook and its source code are released under the terms of the MIT License.", 
            "cell_type": "markdown", 
            "metadata": {}
        }
    ], 
    "nbformat": 4, 
    "metadata": {
        "kernelspec": {
            "display_name": "Python 3.5 with Spark 2.1", 
            "name": "python3-spark21", 
            "language": "python"
        }, 
        "language_info": {
            "mimetype": "text/x-python", 
            "nbconvert_exporter": "python", 
            "version": "3.5.4", 
            "name": "python", 
            "file_extension": ".py", 
            "pygments_lexer": "ipython3", 
            "codemirror_mode": {
                "version": 3, 
                "name": "ipython"
            }
        }
    }
}