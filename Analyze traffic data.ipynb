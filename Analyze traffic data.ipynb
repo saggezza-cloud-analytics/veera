{
    "nbformat_minor": 1, 
    "cells": [
        {
            "source": "<center> <h1>IBM Data Science Experience with PixieDust </h1> <br/> </center>\n\n<center> <h3>Analyze data and build a dashboard with Spark, notebooks, and PixieDust</h3> <br/> </center>\n\nInteractive notebooks are powerful tools for fast and flexible experimentation and data analysis. Notebooks can contain live code, static text, equations and visualizations. In this lab, we will walk through how to use PixieDust with Spark and Notebooks to analyze open data around police incidents in San Francisco and then build charts and maps to discover insights. We will then show how to build a dashboard that drills down into specific areas and how to combine multiple data sources like crime or speeding zones to extract even more insights..  \n\n<center>\n![pixiedust](https://developer.ibm.com/clouddataservices/wp-content/uploads/sites/85/2017/03/pixiedust200.png)\n<br/>\n</center>\n\n<center>\nLearn more about PixieDust [Here](https://www.ibm.com/analytics/us/en/watson-data-platform/pixiedust/)\n</center>\n<center>\nYou may access the complete tutorial with step by step instructions here: [https://www.slideshare.net/DTAIEB/pixie-dust-overview](https://www.slideshare.net/DTAIEB/pixie-dust-overview)  \n  \n</center>\n<br/>\n", 
            "cell_type": "markdown", 
            "metadata": {}
        }, 
        {
            "source": "# Licensed under the Apache License, Version 2.0 (the \"License\"); you may\n# not use this file except in compliance with the License. You may obtain\n# a copy of the License at\n#\n#      http://www.apache.org/licenses/LICENSE-2.0\n#\n# Unless required by applicable law or agreed to in writing, software\n# distributed under the License is distributed on an \"AS IS\" BASIS, WITHOUT\n# WARRANTIES OR CONDITIONS OF ANY KIND, either express or implied. See the\n# License for the specific language governing permissions and limitations\n# under the License.", 
            "cell_type": "code", 
            "metadata": {
                "collapsed": true
            }, 
            "outputs": [], 
            "execution_count": null
        }, 
        {
            "source": "# We install the prerequisites using the `!pip install` syntax here.\n# In some cases, running pip install from a notebook may require a one-time kernel restart. Check the output for messages.\n# If instructed to restart the kernel, from the notebook toolbar menu: \u2022 Go to > Kernel > Restart \u2022 Click Restart in the confirmation dialog\n# Note: The status of the kernel briefly flashes near the upper right corner, alerting when it is Not Connected, Restarting, Ready, etc. \n!pip install --upgrade pixiedust", 
            "cell_type": "code", 
            "metadata": {}, 
            "outputs": [], 
            "execution_count": null
        }, 
        {
            "source": "!pip install --upgrade bokeh==0.12.6", 
            "cell_type": "code", 
            "metadata": {}, 
            "outputs": [], 
            "execution_count": null
        }, 
        {
            "source": "# Before, you can use the PixieDust library it must be imported into the notebook.\n# This notebook requires version 1.0.6\nimport pixiedust", 
            "cell_type": "code", 
            "metadata": {}, 
            "outputs": [], 
            "execution_count": null
        }, 
        {
            "source": "## Import San Francisco Police incidents data into the Notebook\nSource: [San Francisco Open Data](https://datasf.org/opendata)\n> Take a moment to explore all the data available at this site", 
            "cell_type": "markdown", 
            "metadata": {}
        }, 
        {
            "source": "# With PixieDust, you can easily load CSV data from a URL into a PySpark DataFrame in the notebook.\n\nincidents = pixiedust.sampleData(\"https://data.sfgov.org/api/views/956q-2t7k/rows.csv?accessType=DOWNLOAD\")", 
            "cell_type": "code", 
            "metadata": {}, 
            "outputs": [], 
            "execution_count": null
        }, 
        {
            "source": "# Initial exploration\n\nAfter successfully importing PixieDust and loading the sample data, we can use the ***display*** API to quickly browse through and visualize the data to see if we can obtain any immediate insights.  \n\nFor example:\n\n### Explore the schema and browse the data\n\n>  Select _DataFrame Table_ icon in the display widget\n\n\n### In which police district do the most police incidents occur?\n\n> Choose the _Chart_ icon in the display widget and select `(Pie Chart - Options: Keys = PdDistrict, Values = IncidntNum, Aggregation = Count)`\n\nWe can also dig one level deeper by clustering by how each incident was resolved:\n\n> Choose the _Chart_ icon in the display widget and select `(Bar Chart - Options: Keys = PdDistrict, Values = IncidntNum, Aggregation = Count - Cluster By: Resolution)`\n\n### On what day of the week do the most police incidents occur?\n\n> Choose the _Chart_ icon in the display widget and select `(Bar Chart - Options: Keys = DayOfWeek, Values = IncidntNum, Aggregation = Count)`\n\nSince the height of the bars are so similar, try `Pie Chart - Options: Keys = DayOfWeek, Values = IncidntNum, Aggregation = Count)`\n\nTake a moment to explore the possibility of the Display API by watching this [video](https://www.youtube.com/watch?v=FoOHFlkCaXI) ", 
            "cell_type": "markdown", 
            "metadata": {}
        }, 
        {
            "source": "display(incidents)", 
            "cell_type": "code", 
            "metadata": {
                "pixiedust": {
                    "displayParams": {
                        "mpld3": "false", 
                        "aggregation": "COUNT", 
                        "clusterby": "Resolution", 
                        "rowCount": "1000", 
                        "handlerId": "pieChart", 
                        "valueFields": "IncidntNum", 
                        "rendererId": "bokeh", 
                        "keyFields": "PdDistrict"
                    }
                }, 
                "scrolled": true
            }, 
            "outputs": [], 
            "execution_count": null
        }, 
        {
            "source": "# More data Exploration and Hypothesis\nImmediately, we can identify a couple of areas of interest in our data without having to write a single line of code:\n\n1) Most incidents happen in the Southern  police district, and\n\n2) The number of incidents is approximately the same for each day, ranging from 13-15% of the total per day.\n\nWe can also see that our data needs some cleansing if we want to make analysis easier.  Specifically:\n\n- The `Time` field is a string, so we'll need to add an `Hour` column if we want to see the time of day when most incidents occur, and\n- The `DayOfWeek` values are rendered in alphabetical order by default instead of chronological order, so we should rename them to make it easier to see how the number of incidents changes over the course of the week, and\n- We should condense the outcome types of each police accident if we want to see the most common resolutions of police incidents in each police district, since the clustering above was unclear.\n\nLet's cleanse the data and re-investigate before moving on:\n\n> Note: the next cell is using PySpark APIs to manipulate the data. You can find more information on these APIs [here](http://spark.apache.org/docs/1.6.0/api/python/pyspark.sql.html)", 
            "cell_type": "markdown", 
            "metadata": {}
        }, 
        {
            "source": "from pyspark.sql.functions import udf\nfrom pyspark.sql.types import *\n\n# Get the hour value of a time string\n# e.g. getHour(\"05:30\") = 5\ndef getHour(s):\n    return int(s.split(':')[0])\n\nhr_udf = udf(getHour,IntegerType())\n\n# Rename weekdays to enable mini time-series analysis\nincidents = incidents.na.replace\\\n    (['Monday','Tuesday','Wednesday','Thursday','Friday','Saturday','Sunday'],\\\n    ['1-Mon','2-Tues','3-Wed','4-Thur','5-Fri','6-Sat','7-Sun'],\\\n    'DayOfWeek')\n\n# Add Hour column and refine outcomes from police incidents\nincidents = incidents.withColumn(\"Hour\",hr_udf(incidents['Time']))\\\n    .withColumn(\"Res\",\\\n    udf(lambda x: 'Arrest' if 'ARREST' in x else 'No Resolution' if x == 'NONE' else 'Other',StringType())\\\n    (incidents['Resolution']))", 
            "cell_type": "code", 
            "metadata": {
                "collapsed": true
            }, 
            "outputs": [], 
            "execution_count": null
        }, 
        {
            "source": "\n## We are now ready for more data exploration\n### Hypothesis: Do incidents in one police district result in more arrests than other police districts?\n\n```\n(Bar Chart - Options: Keys = PdDistrict, Values = IncidntNum, Aggregation = Count, Cluster By: Res)\n```\nI find the `horizontal` orientation better for showing the Police Districts.\n\n### Question: How does the number of incidents change over the course of the week?\n\n```\n(Line Chart - Options: Keys = DayOfWeek, Values = IncidntNum, Aggregation = Count)\n```", 
            "cell_type": "markdown", 
            "metadata": {}
        }, 
        {
            "source": "display(incidents)", 
            "cell_type": "code", 
            "metadata": {
                "pixiedust": {
                    "displayParams": {
                        "orientation": "horizontal", 
                        "chartsize": "90", 
                        "aggregation": "COUNT", 
                        "clusterby": "Res", 
                        "rowCount": "500", 
                        "handlerId": "barChart", 
                        "valueFields": "IncidntNum", 
                        "rendererId": "bokeh", 
                        "charttype": "grouped", 
                        "keyFields": "PdDistrict"
                    }
                }
            }, 
            "outputs": [], 
            "execution_count": null
        }, 
        {
            "source": "## What have we learned\nA few lines of code makes it a lot easier to see that:\n\n1) Incidents in the Mission and Southern police districts are much more likely to result in arrest than all other districts, and\n\n2) The number of incidents declines slightly during the middle of the week, through Thursday, but increases again through Saturday.\n\n## Now let's focus on the Mission police district using some friendly SQL notation:", 
            "cell_type": "markdown", 
            "metadata": {}
        }, 
        {
            "source": "incidents.registerTempTable(\"incidents\")\nmission = sqlContext.sql(\"SELECT * FROM incidents WHERE PdDistrict='MISSION'\")", 
            "cell_type": "code", 
            "metadata": {
                "collapsed": true
            }, 
            "outputs": [], 
            "execution_count": null
        }, 
        {
            "source": "### Question: Where in Mission do most incidents happen?\n\n```\n(Map - Options: Keys = [X,Y], Values = IncidntNum, Aggregation = Count,\nRenderer: mapbox, kind: chloropleth-cluster)\n```\n\n### Question: What time of day do most incidents occur?\n\n```\n(Line Chart - Options: Keys = Hour, Values = IncidntNum, Aggregation = Count)\n```", 
            "cell_type": "markdown", 
            "metadata": {}
        }, 
        {
            "source": "display(mission)", 
            "cell_type": "code", 
            "metadata": {
                "pixiedust": {
                    "displayParams": {
                        "kind": "choropleth-cluster", 
                        "mapboxtoken": "pk.eyJ1IjoicmFqcnNpbmdoIiwiYSI6ImNqM2s4ZDg4djAwcGYyd3BwaGxwaDV3bWoifQ.d5Rklkdu5MeGAnXu1GMNYw", 
                        "aggregation": "COUNT", 
                        "rowCount": "600", 
                        "handlerId": "mapView", 
                        "valueFields": "IncidntNum", 
                        "rendererId": "mapbox", 
                        "timeseries": "false", 
                        "keyFields": "X,Y", 
                        "basemap": "light-v9"
                    }
                }
            }, 
            "outputs": [], 
            "execution_count": null
        }, 
        {
            "source": "## What have we learned:\nMost of the results from looking at the incident times are unsurprising:\n\n- Number of incidents drop sharply very early morning (people probably sleeping),\n- Steady increase in number of incidents until noon,\n- Fairly high numbers from 3:00 PM until 8:00 PM,\n- Surprisingly, incidents decline after 8:00PM.\n\nThe interesting thing here is the fact that the peaks are at noon and from 3:00PM until 8:00 PM, as one might expect the later evening times to be more problematic.\n\n# Further questions\n\nIn analyzing the geographical data, we can see a couple of clusters where incidents occur more frequently in The Mission - the southeastern corner looks particularly crowded.  Some useful questions to ask at this point are:\n\n### Do certain streets effect on the number of incidents?\n\n### Are there more incidents in areas at the borders of police districts?\n\n### Do police calming devices reduce the number of incidents?\n\nWe can test these hypotheses in two ways:\n\n1) Download datasets for crime data and police calming in San Francisco and simply use the `display` API to visualize crime zones and areas with police calming devices separately.\n\n2) Build a **Pixie App**, which encapsulates everything we have discussed thus far into an interactive way to explore multiple views of the data.\n\nOnly basic HTML and JavaScript are needed to write a Pixie App, so you don't have to learn any new languages or frameworks.  In particular, a Pixie App will allow us to overlay mapping layers, and therefore give us a clearer view into the problem we are investigating.", 
            "cell_type": "markdown", 
            "metadata": {}
        }, 
        {
            "source": "# Building the PixieApp Dashboard\n\n### What you'll need:\n- Mapbox layers Documentation: [circle](https://www.mapbox.com/mapbox-gl-js/style-spec/#layers-circle), [fill](https://www.mapbox.com/mapbox-gl-js/style-spec/#layers-fill), [symbols](https://www.mapbox.com/mapbox-gl-js/style-spec/#layers-symbol)\n- Mapbox Maki Icons: [https://www.mapbox.com/maki-icons](https://www.mapbox.com/maki-icons)\n- Browse the data on [San Francisco Open Data](https://datasf.org/opendata) to get the GeoJSON url\n- Some understanding of [Jinja2 template](http://jinja.pocoo.org/docs/dev/templates)\n- A Quick read of [PixieApp documentation](https://ibm-watson-data-lab.github.io/pixiedust/pixieapps.html)\n\n### FAQ about the code below:\n- How do I get the pixiedust options in `self.mapJSONOptions`?\n> - Call `display()` on a new cell  \n> - Graphically select the options for your chart  \n> - Select \"View\"/\"Cell Toolbar\"/\"Edit Metadata\" menu  \n> - Click on the \u201cEdit Metadata\u201d button and copy the pixiedust metadata  \n- What's the `self.setLayers` call for?\n> This is a method from the MapboxBase class used to specify the custom layer definitions array.  \n> The fields are:  \n>  - name: Layer name  \n>  - url: geojson url to download the data from\n>  - type: (optional) style type e.g Symbol. If not defined, then default value will be infered from geojson geometry\n>  - paint: (optional) paint style, see appropriate documentation e.g. [circle](https://www.mapbox.com/mapbox-gl-js/style-spec/#layers-circle)  \n>  - layout: (optional) layout style, see appropriate documentation e.g. [fill](https://www.mapbox.com/mapbox-gl-js/style-spec/#layers-fill)\n- How do I find new layer data to add?\n> Just go to [San Francisco Open Data](https://datasf.org/opendata), browse the data and click on the export button. You should see a geojson link among others (warning: not all datasets have a geojson link, if you don't find it, then move on to another one)\n- What does the `mainScreen` method do?\n> This is a PixieApp View associated with the default route. See [PixieApp documentation](https://ibm-watson-data-lab.github.io/pixiedust/pixieapps.html) for more information.\n- What's the {{...}} notation in the mainScreen markup for?\n> This is a Jinja2 template notation to call server side Python code. See [Jinja2 template](http://jinja.pocoo.org/docs/dev/templates) for more info", 
            "cell_type": "markdown", 
            "metadata": {}
        }, 
        {
            "source": "from pixiedust.display.app import *\nfrom pixiedust.apps.mapboxBase import MapboxBase\n\n@PixieApp\nclass SFDashboard(MapboxBase):\n    def setup(self):\n        self.mapJSONOptions = {\n          \"mapboxtoken\": \"pk.eyJ1IjoicmFqcnNpbmdoIiwiYSI6ImNqM2s4ZDg4djAwcGYyd3BwaGxwaDV3bWoifQ.d5Rklkdu5MeGAnXu1GMNYw\",\n          \"chartsize\": \"90\",\n          \"aggregation\": \"SUM\",\n          \"rowCount\": \"500\",\n          \"handlerId\": \"mapView\",\n          \"rendererId\": \"mapbox\",\n          \"valueFields\": \"IncidntNum\",\n          \"keyFields\": \"X,Y\",\n          \"basemap\": \"light-v9\"\n        }\n        self.setLayers([\n        {\n            \"name\": \"Police calming\",\n            \"url\": \"https://data.sfgov.org/api/geospatial/ddye-rism?method=export&format=GeoJSON\",\n            \"type\": \"symbol\",\n            \"layout\": {\n                \"icon-image\": \"police-15\",\n                \"icon-size\": 1.5\n            }\n        },\n        {\n            \"name\": \"Police Districts\",\n            \"url\": \"https://data.sfgov.org/api/geospatial/wkhw-cjsf?method=export&format=GeoJSON\"\n        },\n        {\n            \"name\": \"Crimes\",\n            \"url\": \"https://data.sfgov.org/api/geospatial/ms8q-rzqw?method=export&format=GeoJSON\",\n            \"paint\":{\n                \"fill-color\": \"rgba(255,182,193,0.5)\"\n            }\n        }\n        ])\n        \n    def formatOptions(self,options):\n        return ';'.join([\"{}={}\".format(key,value) for (key, value) in iteritems(options)])\n    \n    @route()\n    def mainScreen(self):\n        return \"\"\"\n<div class=\"well\">\n    <center><span style=\"font-size:x-large\">Analyzing San Francisco Public Safety data with PixieDust</span></center>\n    <center><span style=\"font-size:large\"><a href=\"https://datasf.org/opendata\" target=\"new\">https://datasf.org/opendata</a></span></center>\n</div>\n<div class=\"row\">\n    <div class=\"form-group col-sm-2\" style=\"padding-right:10px;\">\n        <div><strong>Layers</strong></div>\n        {% for layer in this.layers %}\n        <div class=\"rendererOpt checkbox checkbox-primary\">\n            <input type=\"checkbox\" pd_refresh=\"map{{prefix}}\" pd_script=\"self.toggleLayer({{loop.index0}})\">\n            <label>{{layer[\"name\"]}}</label>\n        </div>      \n        {%endfor%}\n    </div>\n    <div class=\"form-group col-sm-10\">\n        <div id=\"map{{prefix}}\" pd_entity pd_options=\"{{this.formatOptions(this.mapJSONOptions)}}\"/>\n    </div>\n</div>\n\"\"\"\n    \nSFDashboard().run(incidents,runInDialog=\"false\")", 
            "cell_type": "code", 
            "metadata": {
                "pixiedust": {
                    "displayParams": {
                        "targetDivId": "dialog0a8ccdefroot"
                    }
                }, 
                "scrolled": true
            }, 
            "outputs": [], 
            "execution_count": null
        }, 
        {
            "source": "### Learn more about PixieDust\nIf you'd like to learn more about other PixieDust features explore the [Welcome to PixieDust notebook](https://apsportal.ibm.com/exchange/public/entry/view/5b000ed5abda694232eb5be84c3dd7c1).", 
            "cell_type": "markdown", 
            "metadata": {}
        }
    ], 
    "metadata": {
        "kernelspec": {
            "display_name": "Python 3.5", 
            "name": "python3", 
            "language": "python"
        }, 
        "language_info": {
            "mimetype": "text/x-python", 
            "nbconvert_exporter": "python", 
            "version": "3.5.4", 
            "name": "python", 
            "file_extension": ".py", 
            "pygments_lexer": "ipython3", 
            "codemirror_mode": {
                "version": 3, 
                "name": "ipython"
            }
        }, 
        "anaconda-cloud": {}, 
        "celltoolbar": "Edit Metadata"
    }, 
    "nbformat": 4
}