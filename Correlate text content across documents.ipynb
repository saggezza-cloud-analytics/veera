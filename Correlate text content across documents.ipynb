{
    "nbformat_minor": 1, 
    "cells": [
        {
            "source": "# Correlate text content across documents", 
            "cell_type": "markdown", 
            "metadata": {
                "collapsed": true
            }
        }, 
        {
            "source": "Text analytics involves getting insights from text content in documents, books, social media, and various other sources. A common requirement is to find the correlation of text content across sources to get a comprehensive picture. This notebook uses Watson Natural Language Understanding (NLU), and Python Natural Language Processing Toolkit (NLTK) in IBM Watson Studio to build a graph of entities with attributes, and uses its relationship with other entities to correlate text content across various sources. The correlation algorithm used in this notebook is driven by an input configuration JSON file that contains the rules and grammar for building the relations. ", 
            "cell_type": "markdown", 
            "metadata": {}
        }, 
        {
            "source": "1. [The story](#background)<br>\n2. [Setup](#setup)<br>\n    2.1 [Install required packages](#setup1)<br>\n    2.2 [Import packages and libraries](#setup2)<br>\n3. [Load Configuration](#conf)<br>\n    3.1 [Add your service Natural Language Classifier credentials](#conf1)<br>\n    3.2 [Add Data](#conf2)<br>\n    3.3 [Add your service credentials for Object Storage](#conf3)<br>\n    3.4 [Global Variables](#conf4)<br>\n    3.5 [Configure and download required NLTK packages](#conf5)<br>\n4. [Correlation](#corr)<br>\n    4.1 [Watson NLU API](#corr1)<br>\n    4.2 [Augumented Correlation](#corr2)<br>\n    4.3 [Correlated Network Visualization](#corr3)<br>\n5. [Read Data](#store)<br>\n    5.1 [Configure Object Storage Client](#store1)<br>\n    5.2 [Get Data](#store2)<br>\n6. [Correlate text](#corr-text)<br>\n7. [Visualize correlated text](#vis)<br>   ", 
            "cell_type": "markdown", 
            "metadata": {}
        }, 
        {
            "source": "<a id='background'></a>\n## The story\nIt is important to correlate the text content across documents in order to obtain actionable insights. In this notebook, we are showing you a methodology to correlate the text content across documents in a configurable way.\n\nThe correlation algorithm is driven by an input configuration JSON file that contains the rules and grammar for building the relations. This JSON configuration file can be prepared by a domain expert and can be modified in order to obtain better correlation results between the text content across documents. The configuration and input documents are stored in IBM Object Storage.", 
            "cell_type": "markdown", 
            "metadata": {}
        }, 
        {
            "source": "### The configuration file\nLet's look at the input configuration file required by the algorithm.\n\nThe input configuration file is divided into two categories: \n1. coreference, and\n2. relations.\n\nIn the `coreference` section, we specify the patterns to identify all the personal pronouns and the proper noun names in the text content. In the `relations` section, we specify regular expression patterns that can be used to infer the relationship between entities.\n\nHere is what part of the configuration file looks like:\n\n```\n{\n  \"configuration\": {\n    \"coreference\": {\n      \"rules\": [\n        {\n          \"type\": \"chunking\",\n          \"chunk\": [\n            {\n              \"tag\": \"PRP\",\n              \"type\": \"coreference\",\n              \"pattern\": \"PRP:{<PRP>+}\"\n            },\n            {\n              \"tag\": \"NAME\",\n              \"type\": \"reference\",\n              \"pattern\": \"NAME:{<NNP>+}\"\n            }\n          ]\n        }\n      ]\n    },\n    \"relations\": {\n      \"rules\": [\n        {\n          \"type\": \"d_regex\",\n          \"d_regex\": [\n            {\n              \"tag\": \"BornAt\",\n              \"pattern\": \".*(<Person:.*?>).*(born|born at| born in).*(<Location:.*?>).*\"\n            }\n          ]\n        },\n```", 
            "cell_type": "markdown", 
            "metadata": {}
        }, 
        {
            "source": "### Example\nLet's take one example to understand how it works.\n\n#### The bornAt relationship \nFor the bornAt relationship, the regular expression pattern that is specified is if a person is followed by `born` or `born at` or `born in`, and then is followed by a location then we infer that it is a bornAt relationship between the person and the location.\n\n#### Text categorization\nThe text categorization such as person or location is obtained from the pattern natural language understanding. \n\n#### Relationships\nSimilarly, we have specified the different regular expression patterns to identify the relationships that we are \ninterested in in the text content.\n", 
            "cell_type": "markdown", 
            "metadata": {}
        }, 
        {
            "source": "### The input documents we want to analyze\nTo demonstrate the output from the algorithm we have selected two documents: \n1. The first document contains information about the former president of the United States, Barack Hussein Obama. \n2. The second document contains information about Michelle Obama. \n\nNow let's set up our environment so that we can look at the output from the correlational algorithm based on the input configuration file that we have specified.\n", 
            "cell_type": "markdown", 
            "metadata": {}
        }, 
        {
            "source": "<a id='setup'></a>\n## 2. Setup\n\n<a id='setup1'></a>\n### 2.1 Install required packages \n\nYou need the latest versions of these packages:<br>\n- **Watson Developer Cloud**: a client library for Watson services.<br>\n- **NLTK**: leading platform for building Python programs to work with human language data.<br>\n\n** Install the Watson Developer Cloud package: **", 
            "cell_type": "markdown", 
            "metadata": {}
        }, 
        {
            "source": "!pip install -q --upgrade watson-developer-cloud", 
            "cell_type": "code", 
            "metadata": {}, 
            "outputs": [], 
            "execution_count": 1
        }, 
        {
            "source": "** Install NLTK: **", 
            "cell_type": "markdown", 
            "metadata": {}
        }, 
        {
            "source": "!pip install -q --upgrade nltk", 
            "cell_type": "code", 
            "metadata": {}, 
            "outputs": [], 
            "execution_count": 2
        }, 
        {
            "source": "** <font color=blue>Now restart the kernel by choosing Kernel > Restart. </font> **", 
            "cell_type": "markdown", 
            "metadata": {}
        }, 
        {
            "source": "<a id='setup2'></a>\n### 2.2 Import packages and libraries\n\nImport the packages and libraries that you'll use:", 
            "cell_type": "markdown", 
            "metadata": {}
        }, 
        {
            "source": "import json\nimport sys\nimport thread\nimport time\nimport watson_developer_cloud\nfrom watson_developer_cloud import NaturalLanguageUnderstandingV1\nfrom watson_developer_cloud.natural_language_understanding_v1 \\\n  import Features, EntitiesOptions, KeywordsOptions,SemanticRolesOptions\n    \nimport ibm_boto3\nfrom botocore.client import Config\n    \nimport operator\nfrom functools import reduce\nfrom io import StringIO\nimport numpy as np\nfrom os.path import join, dirname\nimport requests\nimport re\nimport pandas as pd\nimport nltk\nfrom nltk.cluster.util import cosine_distance\nfrom nltk import word_tokenize,sent_tokenize,ne_chunk\nfrom nltk.corpus import stopwords\nimport networkx as nx\nimport matplotlib.pyplot as plt\nimport numpy", 
            "cell_type": "code", 
            "metadata": {
                "scrolled": true
            }, 
            "outputs": [], 
            "execution_count": 3
        }, 
        {
            "source": "<a id='conf'></a>\n## 3. Configuration\n\n\n<a id='conf1'></a>\n### 3.1 Add your service Natural Language Classifier credentials\n\n1. Retrieve your Watson Natural Language Understanding (NLU) credentials by going to **Services -> Watson Services** in the main tool bar. If you don't already have an NLU instance, click on **Add Service** and select **Natural Language Classifier**.\n\n2. Once you have the NLU service provisioned, click on credentials. Your credentials will have the following format:\n```{\n     \"url\": \"https://gateway.watsonplatform.net/natural-language-understanding/api\",\n     \"username\": \"<your username>\",\n     \"password\": \"<your password>\",\n}\n```\n\n3. Insert the username and password values for your NLU in the following cell. Do not change the values of the version fields.\n\nRun the cell.", 
            "cell_type": "markdown", 
            "metadata": {}
        }, 
        {
            "source": "natural_language_understanding = NaturalLanguageUnderstandingV1(\n    version='2017-02-27',\n    username=\"<your username>\",\n    password=\"<your password>\")", 
            "cell_type": "code", 
            "metadata": {}, 
            "outputs": [], 
            "execution_count": 4
        }, 
        {
            "source": "<a id='conf3'></a>\n### 3.2 Add Data\n", 
            "cell_type": "markdown", 
            "metadata": {}
        }, 
        {
            "source": "\nAdd the data and configuration files to the notebook.\n\n1. Go to <a href=\"https://github.com/IBM/watson-document-co-relation\" target=\"_blank\" rel=\"noopener noreferrer\">watson-document-co-relation</a>, and\n - navigate to the `/data/` directory and download `sample_text_1.txt` and `sample_text_2.txt`, \n - navigate to `/configuration/` and download `sample_config.txt`.\n\n  **Note:** It is possible to use your own data and configuration files. If you use a configuration file from your computer, make sure to conform to the JSON structure given in configuration/sample_config.txt\n  \n2. Load the data files to the notebook by clicking the **Data** button on the notebook action bar. Drag and drop the file into the box or click browse to select the file from your directory. The file is loaded to your object storage and also appears in the Data Assets section of your project.\n\n    \n    \n", 
            "cell_type": "markdown", 
            "metadata": {}
        }, 
        {
            "source": "<a id='conf2'></a>\n### 3.3 Add your service credentials for Object Storage\n\nTo access data in a file in IBM Cloud Object Storage, you need the Object Storage authentication credentials. \n\nTo insert your credentials: \n1. Click on the empty cell below.\n2. Select the **Data** tab to display the files you uploaded to your project.\n3. Select **Insert to code -> Insert Credentials** that you see just below one of your files for this project. This will insert your credentials.\n4. Ensure that the credentials are saved as `credentials_1`.\n5. Run the cell.\n", 
            "cell_type": "markdown", 
            "metadata": {}
        }, 
        {
            "source": "", 
            "cell_type": "code", 
            "metadata": {}, 
            "outputs": [], 
            "execution_count": 5
        }, 
        {
            "source": "<a id='conf4'></a>\n### 3.4 Global Variables\n\nLet's define some global variables. Again, note that if you've used your own data and configuration files, you'll want to ensure the file names below are replaced with the filenames you've chosen to import.\n", 
            "cell_type": "markdown", 
            "metadata": {}
        }, 
        {
            "source": "# Specify file  for sample text and configuration files\nsampleTextFileName1 = \"sample_text_1.txt\"\nsampleTextFileName2 = \"sample_text_2.txt\"\nsampleConfigFileName = \"sample_config.txt\"\n\n# Maintain tagged text and plain text map\ntagTextMap ={}\n\n# Stop words\nnltk.download('stopwords')\nstopWords = stopwords.words('english')\n# Additional words to be ignored \nstopWords.extend([\"The\",\"This\",\"That\",\".\",\"!\",\"?\"])", 
            "cell_type": "code", 
            "metadata": {}, 
            "outputs": [
                {
                    "output_type": "stream", 
                    "name": "stdout", 
                    "text": "[nltk_data] Downloading package stopwords to /gpfs/fs01/user/s957-a83d\n[nltk_data]     0cf2e52bb6-772f4e1cd93d/nltk_data...\n[nltk_data]   Package stopwords is already up-to-date!\n"
                }
            ], 
            "execution_count": 6
        }, 
        {
            "source": "<a id='conf5'></a>\n### 3.5 Configure and download required NLTK packages\n\nDownload the 'punkt' and 'averaged_perceptron_tagger' NLTK packages for POS tagging usage.", 
            "cell_type": "markdown", 
            "metadata": {}
        }, 
        {
            "source": "nltk.download('punkt')\nnltk.download('averaged_perceptron_tagger')\nnltk.download('maxent_ne_chunker')\nnltk.download('words')\n\nlemmatizer = nltk.WordNetLemmatizer()\nstemmer = nltk.stem.porter.PorterStemmer()", 
            "cell_type": "code", 
            "metadata": {}, 
            "outputs": [
                {
                    "output_type": "stream", 
                    "name": "stdout", 
                    "text": "[nltk_data] Downloading package punkt to /gpfs/fs01/user/s957-a83d0cf2\n[nltk_data]     e52bb6-772f4e1cd93d/nltk_data...\n[nltk_data]   Package punkt is already up-to-date!\n[nltk_data] Downloading package averaged_perceptron_tagger to /gpfs/fs\n[nltk_data]     01/user/s957-a83d0cf2e52bb6-772f4e1cd93d/nltk_data...\n[nltk_data]   Package averaged_perceptron_tagger is already up-to-\n[nltk_data]       date!\n[nltk_data] Downloading package maxent_ne_chunker to /gpfs/fs01/user/s\n[nltk_data]     957-a83d0cf2e52bb6-772f4e1cd93d/nltk_data...\n[nltk_data]   Package maxent_ne_chunker is already up-to-date!\n[nltk_data] Downloading package words to /gpfs/fs01/user/s957-a83d0cf2\n[nltk_data]     e52bb6-772f4e1cd93d/nltk_data...\n[nltk_data]   Package words is already up-to-date!\n"
                }
            ], 
            "execution_count": 7
        }, 
        {
            "source": "<a id='corr'></a>\n## 4. Correlation\n\nWrite the correlation related utility functions in a modularalized form.\n\n<a id='corr1'></a>\n### 4.1 Watson NLU API", 
            "cell_type": "markdown", 
            "metadata": {}
        }, 
        {
            "source": "# Analyze features of natural language content.\n\ndef analyze_using_NLU(analysistext):\n    response = natural_language_understanding.analyze( \n        text=analysistext,\n        features=Features(entities=EntitiesOptions(), \n                          keywords=KeywordsOptions(),\n                          semantic_roles=SemanticRolesOptions()))\n\n    return response", 
            "cell_type": "code", 
            "metadata": {
                "scrolled": true
            }, 
            "outputs": [], 
            "execution_count": 8
        }, 
        {
            "source": "<a id='corr2'></a>\n### 4.2 Augumented Correlation\n\nCustom correlation utlity functions for augumenting the results of Watson NLU API call.", 
            "cell_type": "markdown", 
            "metadata": {}
        }, 
        {
            "source": "def split_sentences(text):\n    \"\"\" Split text into sentences.\n    \"\"\"\n    sentence_delimiters = re.compile(u'[\\\\[\\\\]\\n.!?]')\n    sentences = sentence_delimiters.split(text)\n    return sentences\n\ndef split_into_tokens(text):\n    \"\"\" Split text into tokens.\n    \"\"\"\n    tokens = nltk.word_tokenize(text)\n    return tokens\n    \ndef POS_tagging(text):\n    \"\"\" Generate Part of speech tagging of the text.\n    \"\"\"\n    POSofText = nltk.tag.pos_tag(text)\n    return POSofText\n\ndef keyword_tagging(tag,tagtext,text):\n    \"\"\" Tag the text matching keywords.\n    \"\"\"\n    if (text.lower().find(tagtext.lower()) != -1):\n        return text[text.lower().find(tagtext.lower()):text.lower().find(tagtext.lower())+len(tagtext)]\n    else:\n        return 'UNKNOWN'\n    \ndef regex_tagging(tag,regex,text):\n    \"\"\" Tag the text matching REGEX.\n    \"\"\"    \n    p = re.compile(regex, re.IGNORECASE)\n    matchtext = p.findall(text)\n    regex_list=[]    \n    if (len(matchtext)>0):\n        for regword in matchtext:\n            regex_list.append(regword)\n    return regex_list\n\ndef chunk_tagging(tag,chunk,text):\n    \"\"\" Tag the text using chunking.\n    \"\"\"\n    parsed_cp = nltk.RegexpParser(chunk)\n    pos_cp = parsed_cp.parse(text)\n    chunk_list=[]\n    for root in pos_cp:\n        if isinstance(root, nltk.tree.Tree):               \n            if root.label() == tag:\n                chunk_word = ''\n                for child_root in root:\n                    chunk_word = chunk_word +' '+ child_root[0]\n                chunk_list.append(chunk_word)\n    return chunk_list\n    \ndef augument_NLUResponse(responsejson,updateType,text,tag):\n    \"\"\" Update the NLU response JSON with augumented classifications.\n    \"\"\"\n    if(updateType == 'keyword'):\n        if not any(d.get('text', None) == text for d in responsejson['keywords']):\n            responsejson['keywords'].append({\"text\":text,\"relevance\":0.5})\n    else:\n        if not any(d.get('text', None) == text for d in responsejson['entities']):\n            responsejson['entities'].append({\"type\":tag,\"text\":text,\"relevance\":0.5,\"count\":1})        \n    \ndef chunk_sentence(text):\n    \"\"\" Tag the sentence using chunking.\n    \"\"\"\n    grammar = \"\"\"\n      NP: {<DT|JJ|PRP|NN.*>+} # Chunk sequences of DT,JJ,NN\n          #}<VB*|DT|JJ|RB|PRP><NN.*>+{  # Chink sequences of VB,DT,JJ,NN       \n      PP: {<IN><NP>}               # Chunk prepositions followed by NP\n      V: {<V.*>}                   # Verb      \n      VP: {<VB*><NP|PP|CLAUSE>+}  # Chunk verbs and their arguments\n      CLAUSE: {<NP><VP>}           # Chunk NP, VP\n      \"\"\"  \n    parsed_cp = nltk.RegexpParser(grammar,loop=2)\n    pos_cp = parsed_cp.parse(text)\n    return pos_cp\n    \ndef find_attrs(subtree,phrase):\n    attrs = ''\n    if phrase == 'NP':\n        for nodes in subtree:\n            if nodes[1] in ['DT','PRP$','POS','JJ','CD','ADJP','QP','NP','NNP']:\n                attrs = attrs+' '+nodes[0]\n    return attrs    \n    \ndef find_subject(t):\n    for s in t.subtrees(lambda t: t.label() == 'NP'):\n        return find_attrs(s,'NP')\n    \ndef resolve_coreference(text, config):\n    \"\"\" Resolve coreferences in the text for Nouns that are Subjects in a sentence\n    \"\"\"\n    sentenceList = split_sentences(text)\n    referenceSubject = ''\n    sentenceText = ''\n    configjson = json.loads(config)\n    \n    for sentences in sentenceList:    \n        tokens = split_into_tokens(sentences)   \n        postags = POS_tagging(tokens)\n        sentencetags = chunk_sentence(postags)\n        subjects = find_subject(sentencetags)\n        for rules in configjson['configuration']['coreference']['rules']:\n            if (rules['type'] == 'chunking'):\n                for tags in rules['chunk']:\n                    chunktags = chunk_tagging(tags['tag'],tags['pattern'],postags)\n                    if (len(chunktags)>0):\n                        for words in chunktags:\n                            if tags['tag'] == 'PRP':\n                                if subjects == '':\n                                    sentenceText = sentenceText+sentences.replace(words,referenceSubject)+'. '\n                            elif tags['tag'] == 'NAME':\n                                if words == subjects:\n                                    referenceSubject = words\n                                    sentenceText = sentenceText+sentences+'. '\n                    \n    return sentenceText\n\ndef disambiguate_entities(text):\n    \"\"\" Resolve disambiguity in the text using entities and entity resolution performed using Watson NLU\n    \"\"\"    \n    sentenceList = split_sentences(text)\n    taggedtext = text\n    response = analyze_using_NLU(text)\n    responsejson = response\n    for sentences in sentenceList:\n        tokens = split_into_tokens(sentences)\n        postags = POS_tagging(tokens)\n        name_tagged_text = chunk_tagging('NAME','NAME:{<NNP>+}',postags)\n        print(name_tagged_text)\n    for entities in responsejson['entities']:\n        regexstr = entities['text']+'(?!>)'\n        regex = re.compile(regexstr, re.IGNORECASE)\n        tagText = '<'+entities['type']+':'+entities['text']+'>'\n        taggedtext = re.sub(regexstr,tagText,taggedtext)\n        tagTextMap[tagText] = entities['text']\n    \n    for roles in responsejson['semantic_roles']:\n        if 'entities' not in roles['subject']:\n            print('NO ENTITY')\n        else:\n            for entity in roles['subject']['entities']:\n                if 'disambiguation' not in entity:\n                    print('NO DISAMBIGUATION')\n                else:\n                    regexstr = roles['subject']['text']+'(?!>)'\n                    regex = re.compile(regexstr, re.IGNORECASE)\n                    tagText = '<'+entity['type']+':'+entity['text']+'>'\n                    taggedtext = re.sub(regexstr,tagText,taggedtext)\n                    tagTextMap[tagText] = entity['text']\n    \n    return taggedtext\n\ndef extract_relations(text, config,relations):\n    \"\"\" Extract entity relationships in a sentence\n    \"\"\"    \n    sentenceList = split_sentences(text)\n    configjson = json.loads(config)\n     \n    for sentences in sentenceList:\n        for rules in configjson['configuration']['relations']['rules']:\n            if (rules['type'] == 'd_regex'):\n                for regex in rules['d_regex']:\n                    regextags = regex_tagging(regex['tag'],regex['pattern'],sentences)\n                    if (len(regextags)>0):\n                        for words in regextags:\n                            relations.append((tagTextMap[words[0]],regex['tag'],tagTextMap[words[2]]))\n         \n    return relations\n\ndef compute_text_similarity(text1, text2, text1tags, text2tags):\n    \"\"\" Compute text similarity using cosine\n    \"\"\"\n    sentences_text1 = split_sentences(text1)\n    sentences_text2 = split_sentences(text2)\n    tokens_text1 = []\n    tokens_text2 = []\n    \n    for sentence in sentences_text1:\n        tokenstemp = split_into_tokens(sentence.lower())\n        tokens_text1.extend(tokenstemp)\n    \n    for sentence in sentences_text2:\n        tokenstemp = split_into_tokens(sentence.lower())\n        tokens_text2.extend(tokenstemp)\n    # Add text tags    \n    if (len(text1tags) > 0):  \n        tokens_text1.extend(text1tags)\n    if (len(text2tags) > 0):    \n        tokens_text2.extend(text2tags)\n    \n    # Stem words\n    tokens1Filtered = [stemmer.stem(x) for x in tokens_text1 if x not in stopWords]\n    tokens2Filtered = [stemmer.stem(x) for x in tokens_text2 if x not in stopWords]\n    \n    #  remove duplicate tokens\n    tokens1Filtered = set(tokens1Filtered)\n    tokens2Filtered = set(tokens2Filtered)\n   \n    tokensList=[]\n\n    text1vector = []\n    text2vector = []\n\n    if len(tokens1Filtered) < len(tokens2Filtered):\n        tokensList = tokens1Filtered\n    else:\n        tokensList = tokens2Filtered\n\n    for token in tokensList:\n        if token in tokens1Filtered:\n            text1vector.append(1)\n        else:\n            text1vector.append(0)\n        if token in tokens2Filtered:\n            text2vector.append(1)\n        else:\n            text2vector.append(0)  \n\n    cosine_similarity = 1-cosine_distance(text1vector,text2vector)\n    if numpy.isnan(cosine_similarity):\n        cosine_similarity = 0\n    \n    return cosine_similarity", 
            "cell_type": "code", 
            "metadata": {}, 
            "outputs": [], 
            "execution_count": 9
        }, 
        {
            "source": "<a id='corr3'></a>\n### 4.3 Correlated Network Visualization\n\nUtility function to plot network visualization of entity relationships to correlate them.", 
            "cell_type": "markdown", 
            "metadata": {}
        }, 
        {
            "source": "def draw_simple_graph(graph):\n\n    nodes = []\n    labels = []\n    edges = []\n    # extract nodes from graph\n    for tuples in graph:\n        nodes.append(tuples[0])\n        nodes.append(tuples[2])\n        \n    # extract edges from graph\n    for edgepairs in graph:\n        edges.append((edgepairs[0],edgepairs[2]))        \n    # extract edge labels from graph\n    for edgetuples in graph:\n        labels.append(edgetuples[1])\n    # create networkx graph\n    G=nx.Graph()\n    # add nodes\n    for node in nodes:\n        G.add_node(node)\n    # add edges\n    for edge in graph:\n        G.add_edge(edge[0], edge[2])\n\n    # draw graph\n    pos = nx.spring_layout(G)\n    nx.draw(G, pos,with_labels = True)\n    edge_labels = dict(zip(edges, labels))\n    nx.draw_networkx_edge_labels(G, pos, edge_labels = edge_labels)\n\n    # show graph\n    plt.show()    ", 
            "cell_type": "code", 
            "metadata": {}, 
            "outputs": [], 
            "execution_count": 10
        }, 
        {
            "source": "<a id='store'></a>\n## 5. Read Data", 
            "cell_type": "markdown", 
            "metadata": {}
        }, 
        {
            "source": "<a id='store1'></a>\n### 5.1 Configure Object Storage Client", 
            "cell_type": "markdown", 
            "metadata": {
                "collapsed": true
            }
        }, 
        {
            "source": "cos = ibm_boto3.client('s3',\n                    ibm_api_key_id=credentials_1['IBM_API_KEY_ID'],\n                    ibm_service_instance_id=credentials_1['IAM_SERVICE_ID'],\n                    ibm_auth_endpoint=credentials_1['IBM_AUTH_ENDPOINT'],\n                    config=Config(signature_version='oauth'),\n                    endpoint_url=credentials_1['ENDPOINT'])\n\ndef get_file(filename):\n    '''Retrieve file from Cloud Object Storage'''\n    fileobject = cos.get_object(Bucket=credentials_1['BUCKET'], Key=filename)['Body']\n    return fileobject\n\ndef load_string(fileobject):\n    '''Load the file contents into a Python string'''\n    text = fileobject.read()\n    return text", 
            "cell_type": "code", 
            "metadata": {}, 
            "outputs": [], 
            "execution_count": 11
        }, 
        {
            "source": "<a id='store2'></a>\n### 5.2. Get Data\nRead the data and configuration files for correlation from IBM Cloud Object Storage. \n", 
            "cell_type": "markdown", 
            "metadata": {}
        }, 
        {
            "source": "text1 = load_string(get_file(sampleTextFileName1))\ntext2 = load_string(get_file(sampleTextFileName2))\nconfig = load_string(get_file(sampleConfigFileName))\n\nrelationships = []\n\nresolved_text1 = resolve_coreference(text1, config)\nresolved_text2 = resolve_coreference(text2, config)\n\ndisambiguated_text1 = disambiguate_entities(resolved_text1)\ndisambiguated_text2 = disambiguate_entities(resolved_text2)\n\nextract_relations(disambiguated_text1, config,relationships)\nextract_relations(disambiguated_text2, config,relationships)", 
            "cell_type": "code", 
            "metadata": {}, 
            "outputs": [
                {
                    "output_type": "stream", 
                    "name": "stdout", 
                    "text": "Warning: parsing empty text\nWarning: parsing empty text\nWarning: parsing empty text\nWarning: parsing empty text\nWarning: parsing empty text\nWarning: parsing empty text\nWarning: parsing empty text\nWarning: parsing empty text\nWarning: parsing empty text\nWarning: parsing empty text\nWarning: parsing empty text\nWarning: parsing empty text\nWarning: parsing empty text\nWarning: parsing empty text\nWarning: parsing empty text\nWarning: parsing empty text\nWarning: parsing empty text\nWarning: parsing empty text\nWarning: parsing empty text\nWarning: parsing empty text\nWarning: parsing empty text\nWarning: parsing empty text\nWarning: parsing empty text\nWarning: parsing empty text\nWarning: parsing empty text\nWarning: parsing empty text\nWarning: parsing empty text\nWarning: parsing empty text\nWarning: parsing empty text\nWarning: parsing empty text\nWarning: parsing empty text\nWarning: parsing empty text\nWarning: parsing empty text\nWarning: parsing empty text\nWarning: parsing empty text\nWarning: parsing empty text\n[' Barack Hussein Obama II', ' August', ' President', ' United']\n[' Barack Hussein Obama II', ' U S Senate', ' Illinois', ' Illinois State Senate']\nWarning: parsing empty text\n[]\nNO ENTITY\nNO ENTITY\nNO ENTITY\nNO ENTITY\nNO ENTITY\n[' Michelle Obama', ' January', ' Chicago', ' Illinois']\n[' Michelle Obama', ' Princeton University', ' Harvard Law School']\n[' Michelle Obama', ' Barack Hussein Obama']\nWarning: parsing empty text\n[]\nNO ENTITY\nNO ENTITY\nNO ENTITY\nNO ENTITY\nNO ENTITY\nNO ENTITY\n"
                }, 
                {
                    "execution_count": 12, 
                    "output_type": "execute_result", 
                    "data": {
                        "text/plain": "[(u'Barack Hussein Obama', u'BornAt', u'United States'),\n (u'Barack Hussein Obama', u'ServedAt', u'Senate'),\n (u'Barack Hussein Obama', u'RepresentiveFor', u'Illinois'),\n (u'Michelle Obama', u'BornAt', u'Illinois'),\n (u'Michelle Obama', u'SpouseOf', u'Barack Hussein Obama')]"
                    }, 
                    "metadata": {}
                }
            ], 
            "execution_count": 12
        }, 
        {
            "source": "<a id='corr-text'></a>\n## 6. Correlate text", 
            "cell_type": "markdown", 
            "metadata": {}
        }, 
        {
            "source": "print \"Document similarity score\" \nprint compute_text_similarity(text1,text2,[],[])\nprint \"\"\nprint \"Entities and relations:\"\nprint relationships", 
            "cell_type": "code", 
            "metadata": {}, 
            "outputs": [
                {
                    "output_type": "stream", 
                    "name": "stdout", 
                    "text": "Document similarity score\n0.4803844614152615\n\nEntities and relations:\n[(u'Barack Hussein Obama', u'BornAt', u'United States'), (u'Barack Hussein Obama', u'ServedAt', u'Senate'), (u'Barack Hussein Obama', u'RepresentiveFor', u'Illinois'), (u'Michelle Obama', u'BornAt', u'Illinois'), (u'Michelle Obama', u'SpouseOf', u'Barack Hussein Obama')]\n"
                }
            ], 
            "execution_count": 13
        }, 
        {
            "source": "<a id='vis'></a>\n## 7. Visualize correlated text\n\nPlot network graph of the correlated text.", 
            "cell_type": "markdown", 
            "metadata": {}
        }, 
        {
            "source": "draw_simple_graph(relationships)", 
            "cell_type": "code", 
            "metadata": {}, 
            "outputs": [
                {
                    "output_type": "display_data", 
                    "data": {
                        "image/png": "[encoded data removed]", 
                        "text/plain": "<matplotlib.figure.Figure at 0x7f1429979e10>"
                    }, 
                    "metadata": {}
                }
            ], 
            "execution_count": 14
        }, 
        {
            "source": "As you can see, all the entities and relationships have been identified.\n\nYou can go ahead and enhance the algorithm as well as the input configuration file to get better results for the specific scenario that you are working on.", 
            "cell_type": "markdown", 
            "metadata": {}
        }, 
        {
            "source": "### Author \n**Vishal Chahal** is the Chief Architect for Cognitive Solutions at System Integrators lab and also the Technical Lead for IBM Machine Learning Hub at IBM Software Labs in Bangalore. \n\nBalaji Kadambi is a Solution Architect at System Integrators Lab working on Watson Cognitive Products.\n", 
            "cell_type": "markdown", 
            "metadata": {}
        }, 
        {
            "source": "Copyright \u00a9 2018 IBM. This notebook and its source code are released under the terms of the MIT License.", 
            "cell_type": "markdown", 
            "metadata": {}
        }, 
        {
            "source": "<div style=\"background:#F5F7FA; height:110px; padding: 2em; font-size:14px;\">\n<span style=\"font-size:18px;color:#152935;\">Love this notebook? </span>\n<span style=\"font-size:15px;color:#152935;float:right;margin-right:40px;\">Don't have an account yet?</span><br>\n<span style=\"color:#5A6872;\">Share it with your colleagues and help them discover the power of Watson Studio!</span>\n<span style=\"border: 1px solid #3d70b2;padding:8px;float:right;margin-right:40px; color:#3d70b2;\"><a href=\"https://ibm.co/wsnotebooks\" target=\"_blank\" style=\"color: #3d70b2;text-decoration: none;\">Sign Up</a></span><br>\n</div>", 
            "cell_type": "markdown", 
            "metadata": {}
        }
    ], 
    "metadata": {
        "kernelspec": {
            "display_name": "Python 2 with Spark 2.1", 
            "name": "python2-spark21", 
            "language": "python"
        }, 
        "language_info": {
            "mimetype": "text/x-python", 
            "nbconvert_exporter": "python", 
            "version": "2.7.14", 
            "name": "python", 
            "pygments_lexer": "ipython2", 
            "file_extension": ".py", 
            "codemirror_mode": {
                "version": 2, 
                "name": "ipython"
            }
        }, 
        "anaconda-cloud": {}
    }, 
    "nbformat": 4
}