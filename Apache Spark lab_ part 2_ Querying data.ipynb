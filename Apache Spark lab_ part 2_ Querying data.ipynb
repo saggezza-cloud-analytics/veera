{
    "nbformat_minor": 0, 
    "cells": [
        {
            "source": "# Introduction to Apache Spark lab, part 2: Querying data\nThis notebook guides you through querying data with Apache Spark, including how to create and use DataFrames, run SQL queries, apply functions to the results of SQL queries, join data from different data sources, and visualize data in graphs.\n\nThis notebook uses pySpark, the Python API for Spark. Some knowledge of Python is recommended. This notebook runs on Python 2 with Spark 2.0.\n\nIf you are new to Apache Spark, see the first module in this series: [Introduction to Apache Spark, part 1: Basic Concepts](https://apsportal.ibm.com/exchange/public/entry/view/95811fca38af4ccbea8acf8658bedcfc). ", 
            "cell_type": "markdown", 
            "metadata": {}
        }, 
        {
            "source": "## Table of contents\n\n1. [Prepare the environment and the data](#getstarted)<br>\n     1.1 [Enable SQL processing](#sqlprocessing)<br>\n     1.2 [Download the data](#download)<br>\n     1.3 [Create a DataFrame](#createdf)<br>\n     1.4 [Create a table](#createtab)<br>\n2. [Run SQL queries](#runsql)<br>\n    2.1 [Display query results with a pandas DataFrame](#pandas)<br>\n    2.2 [Run a group by query](#groupby)<br>\n    2.3 [Run a subselect query](#subselect)<br>\n    2.4 [Return nested JSON field values](#nested)<br>\n3. [Convert RDDs to DataFrames](#convertrdd)<br>\n    3.1 [Create a simple RDD](#simplerdd)<br>\n    3.2 [Apply a schema](#apply)<br>\n    3.3 [Create rows with named columns](#namedcol)<br>\n    3.4 [Join tables](#join)<br>\n4. [Create SQL functions](#sqlfuncs)<br>\n5. [Convert a pandas DataFrame to a Spark DataFrame](#sparkdf)<br>\n    5.1 [Get a new data set](#ufo)<br>\n    5.2 [Create a pandas DataFrame](#ufopandas)<br>\n    5.3 [Convert to a Spark DataFrame](#sparkufo)<br>\n    5.4 [Run an SQL statement](#runufo)<br>\n6. [Visualize data](#viz)<br>\n    6.1 [Create a chart](#vizchart)<br>\n    6.2 [Aggregate the data](#vizagg)<br>\n    6.3 [Create a better chart](#vizchart2)<br>\n7. [Summary and next steps](#nextsteps)", 
            "cell_type": "markdown", 
            "metadata": {}
        }, 
        {
            "source": "<a id=\"getstarted\"></a>\n## 1. Prepare the environment and the data\nBefore you can run SQL queries on data in an Apache Spark environment, you need to enable SQL processing and then move the data to the structured format of a DataFrame.", 
            "cell_type": "markdown", 
            "metadata": {}
        }, 
        {
            "source": "<a id=\"sqlprocessing\"></a>\n### 1.1 Enable SQL processing\nThe preferred method to enable SQL processing with Spark 2.0 is to use the new SparkSession object, but you can also create a SQLContext object. \n\nUse the predefined Spark Context, `sc`, which contains the connection information for Spark, to create an SQLContext:", 
            "cell_type": "markdown", 
            "metadata": {}
        }, 
        {
            "execution_count": 1, 
            "cell_type": "code", 
            "source": "from pyspark.sql import SQLContext\nsqlContext = SQLContext(sc)", 
            "outputs": [], 
            "metadata": {
                "collapsed": false
            }
        }, 
        {
            "source": "<a id=\"download\"></a>\n### 1.2 Download the data file\n\nYou'll download a JSON file with data about world banks from GitHub. The data is adapted from this data set: [http://data.worldbank.org/data-catalog/projects-portfolio](http://data.worldbank.org/data-catalog/projects-portfolio).\n\nRemove any files with the same name as the file that you're going to download and then download the file from a URL:", 
            "cell_type": "markdown", 
            "metadata": {}
        }, 
        {
            "execution_count": 2, 
            "cell_type": "code", 
            "source": "!rm world_bank.json.gz -f\n!wget https://raw.githubusercontent.com/bradenrc/sparksql_pot/master/world_bank.json.gz", 
            "outputs": [
                {
                    "output_type": "stream", 
                    "name": "stdout", 
                    "text": "--2017-06-08 06:20:35--  https://raw.githubusercontent.com/bradenrc/sparksql_pot/master/world_bank.json.gz\nResolving raw.githubusercontent.com (raw.githubusercontent.com)... 151.101.48.133\nConnecting to raw.githubusercontent.com (raw.githubusercontent.com)|151.101.48.133|:443... connected.\nHTTP request sent, awaiting response... 200 OK\nLength: 446287 (436K) [application/octet-stream]\nSaving to: \u2018world_bank.json.gz\u2019\n\n100%[======================================>] 446,287     --.-K/s   in 0.04s   \n\n2017-06-08 06:20:35 (10.2 MB/s) - \u2018world_bank.json.gz\u2019 saved [446287/446287]\n\n"
                }
            ], 
            "metadata": {
                "collapsed": false
            }
        }, 
        {
            "source": "<a id=\"createdf\"></a>\n### 1.3 Create a DataFrame \n\nInstead of creating an RDD to read the file, you'll create a Spark DataFrame. Unlike an RDD, a DataFrame creates a schema around the data, which supplies the necessary structure for SQL queries. A self-describing format like JSON is ideal for DataFrames, but many other file types are supported, including text (CSV) and Parquet.\n\nCreate a DataFrame:", 
            "cell_type": "markdown", 
            "metadata": {}
        }, 
        {
            "execution_count": 3, 
            "cell_type": "code", 
            "source": "example1_df = sqlContext.read.json(\"world_bank.json.gz\")", 
            "outputs": [], 
            "metadata": {
                "collapsed": false
            }
        }, 
        {
            "source": "Print the schema to see how Spark SQL inferred the shape of the data:", 
            "cell_type": "markdown", 
            "metadata": {}
        }, 
        {
            "execution_count": 4, 
            "cell_type": "code", 
            "source": "print example1_df.printSchema()", 
            "outputs": [
                {
                    "output_type": "stream", 
                    "name": "stdout", 
                    "text": "root\n |-- _id: struct (nullable = true)\n |    |-- $oid: string (nullable = true)\n |-- approvalfy: string (nullable = true)\n |-- board_approval_month: string (nullable = true)\n |-- boardapprovaldate: string (nullable = true)\n |-- borrower: string (nullable = true)\n |-- closingdate: string (nullable = true)\n |-- country_namecode: string (nullable = true)\n |-- countrycode: string (nullable = true)\n |-- countryname: string (nullable = true)\n |-- countryshortname: string (nullable = true)\n |-- docty: string (nullable = true)\n |-- envassesmentcategorycode: string (nullable = true)\n |-- grantamt: long (nullable = true)\n |-- ibrdcommamt: long (nullable = true)\n |-- id: string (nullable = true)\n |-- idacommamt: long (nullable = true)\n |-- impagency: string (nullable = true)\n |-- lendinginstr: string (nullable = true)\n |-- lendinginstrtype: string (nullable = true)\n |-- lendprojectcost: long (nullable = true)\n |-- majorsector_percent: array (nullable = true)\n |    |-- element: struct (containsNull = true)\n |    |    |-- Name: string (nullable = true)\n |    |    |-- Percent: long (nullable = true)\n |-- mjsector_namecode: array (nullable = true)\n |    |-- element: struct (containsNull = true)\n |    |    |-- code: string (nullable = true)\n |    |    |-- name: string (nullable = true)\n |-- mjtheme: array (nullable = true)\n |    |-- element: string (containsNull = true)\n |-- mjtheme_namecode: array (nullable = true)\n |    |-- element: struct (containsNull = true)\n |    |    |-- code: string (nullable = true)\n |    |    |-- name: string (nullable = true)\n |-- mjthemecode: string (nullable = true)\n |-- prodline: string (nullable = true)\n |-- prodlinetext: string (nullable = true)\n |-- productlinetype: string (nullable = true)\n |-- project_abstract: struct (nullable = true)\n |    |-- cdata: string (nullable = true)\n |-- project_name: string (nullable = true)\n |-- projectdocs: array (nullable = true)\n |    |-- element: struct (containsNull = true)\n |    |    |-- DocDate: string (nullable = true)\n |    |    |-- DocType: string (nullable = true)\n |    |    |-- DocTypeDesc: string (nullable = true)\n |    |    |-- DocURL: string (nullable = true)\n |    |    |-- EntityID: string (nullable = true)\n |-- projectfinancialtype: string (nullable = true)\n |-- projectstatusdisplay: string (nullable = true)\n |-- regionname: string (nullable = true)\n |-- sector: array (nullable = true)\n |    |-- element: struct (containsNull = true)\n |    |    |-- Name: string (nullable = true)\n |-- sector1: struct (nullable = true)\n |    |-- Name: string (nullable = true)\n |    |-- Percent: long (nullable = true)\n |-- sector2: struct (nullable = true)\n |    |-- Name: string (nullable = true)\n |    |-- Percent: long (nullable = true)\n |-- sector3: struct (nullable = true)\n |    |-- Name: string (nullable = true)\n |    |-- Percent: long (nullable = true)\n |-- sector4: struct (nullable = true)\n |    |-- Name: string (nullable = true)\n |    |-- Percent: long (nullable = true)\n |-- sector_namecode: array (nullable = true)\n |    |-- element: struct (containsNull = true)\n |    |    |-- code: string (nullable = true)\n |    |    |-- name: string (nullable = true)\n |-- sectorcode: string (nullable = true)\n |-- source: string (nullable = true)\n |-- status: string (nullable = true)\n |-- supplementprojectflg: string (nullable = true)\n |-- theme1: struct (nullable = true)\n |    |-- Name: string (nullable = true)\n |    |-- Percent: long (nullable = true)\n |-- theme_namecode: array (nullable = true)\n |    |-- element: struct (containsNull = true)\n |    |    |-- code: string (nullable = true)\n |    |    |-- name: string (nullable = true)\n |-- themecode: string (nullable = true)\n |-- totalamt: long (nullable = true)\n |-- totalcommamt: long (nullable = true)\n |-- url: string (nullable = true)\n\nNone\n"
                }
            ], 
            "metadata": {
                "collapsed": false
            }
        }, 
        {
            "source": "Now look at the first two rows of data.\n\nYou can run the simple command `print example1_df.take(2)`, however, for readability, run the following command to include a row of asterisks in between the data rows:", 
            "cell_type": "markdown", 
            "metadata": {}
        }, 
        {
            "execution_count": 5, 
            "cell_type": "code", 
            "source": "for row in example1_df.take(2):\n    print row\n    print \"*\" * 20", 
            "outputs": [
                {
                    "output_type": "stream", 
                    "name": "stdout", 
                    "text": "Row(_id=Row($oid=u'52b213b38594d8a2be17c780'), approvalfy=u'1999', board_approval_month=u'November', boardapprovaldate=u'2013-11-12T00:00:00Z', borrower=u'FEDERAL DEMOCRATIC REPUBLIC OF ETHIOPIA', closingdate=u'2018-07-07T00:00:00Z', country_namecode=u'Federal Democratic Republic of Ethiopia!$!ET', countrycode=u'ET', countryname=u'Federal Democratic Republic of Ethiopia', countryshortname=u'Ethiopia', docty=u'Project Information Document,Indigenous Peoples Plan,Project Information Document', envassesmentcategorycode=u'C', grantamt=0, ibrdcommamt=0, id=u'P129828', idacommamt=130000000, impagency=u'MINISTRY OF EDUCATION', lendinginstr=u'Investment Project Financing', lendinginstrtype=u'IN', lendprojectcost=550000000, majorsector_percent=[Row(Name=u'Education', Percent=46), Row(Name=u'Education', Percent=26), Row(Name=u'Public Administration, Law, and Justice', Percent=16), Row(Name=u'Education', Percent=12)], mjsector_namecode=[Row(code=u'EX', name=u'Education'), Row(code=u'EX', name=u'Education'), Row(code=u'BX', name=u'Public Administration, Law, and Justice'), Row(code=u'EX', name=u'Education')], mjtheme=[u'Human development'], mjtheme_namecode=[Row(code=u'8', name=u'Human development'), Row(code=u'11', name=u'')], mjthemecode=u'8,11', prodline=u'PE', prodlinetext=u'IBRD/IDA', productlinetype=u'L', project_abstract=Row(cdata=u'The development objective of the Second Phase of General Education Quality Improvement Project for Ethiopia is to improve learning conditions in primary and secondary schools and strengthen institutions at different levels of educational administration. The project has six components. The first component is curriculum, textbooks, assessment, examinations, and inspection. This component will support improvement of learning conditions in grades KG-12 by providing increased access to teaching and learning materials and through improvements to the curriculum by assessing the strengths and weaknesses of the current curriculum. This component has following four sub-components: (i) curriculum reform and implementation; (ii) teaching and learning materials; (iii) assessment and examinations; and (iv) inspection. The second component is teacher development program (TDP). This component will support improvements in learning conditions in both primary and secondary schools by advancing the quality of teaching in general education through: (a) enhancing the training of pre-service teachers in teacher education institutions; and (b) improving the quality of in-service teacher training. This component has following three sub-components: (i) pre-service teacher training; (ii) in-service teacher training; and (iii) licensing and relicensing of teachers and school leaders. The third component is school improvement plan. This component will support the strengthening of school planning in order to improve learning outcomes, and to partly fund the school improvement plans through school grants. It has following two sub-components: (i) school improvement plan; and (ii) school grants. The fourth component is management and capacity building, including education management information systems (EMIS). This component will support management and capacity building aspect of the project. This component has following three sub-components: (i) capacity building for education planning and management; (ii) capacity building for school planning and management; and (iii) EMIS. The fifth component is improving the quality of learning and teaching in secondary schools and universities through the use of information and communications technology (ICT). It has following five sub-components: (i) national policy and institution for ICT in general education; (ii) national ICT infrastructure improvement plan for general education; (iii) develop an integrated monitoring, evaluation, and learning system specifically for the ICT component; (iv) teacher professional development in the use of ICT; and (v) provision of limited number of e-Braille display readers with the possibility to scale up to all secondary education schools based on the successful implementation and usage of the readers. The sixth component is program coordination, monitoring and evaluation, and communication. It will support institutional strengthening by developing capacities in all aspects of program coordination, monitoring and evaluation; a new sub-component on communications will support information sharing for better management and accountability. It has following three sub-components: (i) program coordination; (ii) monitoring and evaluation (M and E); and (iii) communication.'), project_name=u'Ethiopia General Education Quality Improvement Project II', projectdocs=[Row(DocDate=u'28-AUG-2013', DocType=u'PID', DocTypeDesc=u'Project Information Document (PID),  Vol.', DocURL=u'http://www-wds.worldbank.org/servlet/WDSServlet?pcont=details&eid=090224b081e545fb_1_0', EntityID=u'090224b081e545fb_1_0'), Row(DocDate=u'01-JUL-2013', DocType=u'IP', DocTypeDesc=u'Indigenous Peoples Plan (IP),  Vol.1 of 1', DocURL=u'http://www-wds.worldbank.org/servlet/WDSServlet?pcont=details&eid=000442464_20130920111729', EntityID=u'000442464_20130920111729'), Row(DocDate=u'22-NOV-2012', DocType=u'PID', DocTypeDesc=u'Project Information Document (PID),  Vol.', DocURL=u'http://www-wds.worldbank.org/servlet/WDSServlet?pcont=details&eid=090224b0817b19e2_1_0', EntityID=u'090224b0817b19e2_1_0')], projectfinancialtype=u'IDA', projectstatusdisplay=u'Active', regionname=u'Africa', sector=[Row(Name=u'Primary education'), Row(Name=u'Secondary education'), Row(Name=u'Public administration- Other social services'), Row(Name=u'Tertiary education')], sector1=Row(Name=u'Primary education', Percent=46), sector2=Row(Name=u'Secondary education', Percent=26), sector3=Row(Name=u'Public administration- Other social services', Percent=16), sector4=Row(Name=u'Tertiary education', Percent=12), sector_namecode=[Row(code=u'EP', name=u'Primary education'), Row(code=u'ES', name=u'Secondary education'), Row(code=u'BS', name=u'Public administration- Other social services'), Row(code=u'ET', name=u'Tertiary education')], sectorcode=u'ET,BS,ES,EP', source=u'IBRD', status=u'Active', supplementprojectflg=u'N', theme1=Row(Name=u'Education for all', Percent=100), theme_namecode=[Row(code=u'65', name=u'Education for all')], themecode=u'65', totalamt=130000000, totalcommamt=130000000, url=u'http://www.worldbank.org/projects/P129828/ethiopia-general-education-quality-improvement-project-ii?lang=en')\n********************\nRow(_id=Row($oid=u'52b213b38594d8a2be17c781'), approvalfy=u'2015', board_approval_month=u'November', boardapprovaldate=u'2013-11-04T00:00:00Z', borrower=u'GOVERNMENT OF TUNISIA', closingdate=None, country_namecode=u'Republic of Tunisia!$!TN', countrycode=u'TN', countryname=u'Republic of Tunisia', countryshortname=u'Tunisia', docty=u'Project Information Document,Integrated Safeguards Data Sheet,Integrated Safeguards Data Sheet,Project Information Document,Integrated Safeguards Data Sheet,Project Information Document', envassesmentcategorycode=u'C', grantamt=4700000, ibrdcommamt=0, id=u'P144674', idacommamt=0, impagency=u'MINISTRY OF FINANCE', lendinginstr=u'Specific Investment Loan', lendinginstrtype=u'IN', lendprojectcost=5700000, majorsector_percent=[Row(Name=u'Public Administration, Law, and Justice', Percent=70), Row(Name=u'Public Administration, Law, and Justice', Percent=30)], mjsector_namecode=[Row(code=u'BX', name=u'Public Administration, Law, and Justice'), Row(code=u'BX', name=u'Public Administration, Law, and Justice')], mjtheme=[u'Economic management', u'Social protection and risk management'], mjtheme_namecode=[Row(code=u'1', name=u'Economic management'), Row(code=u'6', name=u'Social protection and risk management')], mjthemecode=u'1,6', prodline=u'RE', prodlinetext=u'Recipient Executed Activities', productlinetype=u'L', project_abstract=None, project_name=u'TN: DTF Social Protection Reforms Support', projectdocs=[Row(DocDate=u'29-MAR-2013', DocType=u'PID', DocTypeDesc=u'Project Information Document (PID),  Vol.1 of 1', DocURL=u'http://www-wds.worldbank.org/servlet/WDSServlet?pcont=details&eid=000333037_20131024115616', EntityID=u'000333037_20131024115616'), Row(DocDate=u'29-MAR-2013', DocType=u'ISDS', DocTypeDesc=u'Integrated Safeguards Data Sheet (ISDS),  Vol.1 of 1', DocURL=u'http://www-wds.worldbank.org/servlet/WDSServlet?pcont=details&eid=000356161_20131024151611', EntityID=u'000356161_20131024151611'), Row(DocDate=u'29-MAR-2013', DocType=u'ISDS', DocTypeDesc=u'Integrated Safeguards Data Sheet (ISDS),  Vol.1 of 1', DocURL=u'http://www-wds.worldbank.org/servlet/WDSServlet?pcont=details&eid=000442464_20131031112136', EntityID=u'000442464_20131031112136'), Row(DocDate=u'29-MAR-2013', DocType=u'PID', DocTypeDesc=u'Project Information Document (PID),  Vol.1 of 1', DocURL=u'http://www-wds.worldbank.org/servlet/WDSServlet?pcont=details&eid=000333037_20131031105716', EntityID=u'000333037_20131031105716'), Row(DocDate=u'16-JAN-2013', DocType=u'ISDS', DocTypeDesc=u'Integrated Safeguards Data Sheet (ISDS),  Vol.1 of 1', DocURL=u'http://www-wds.worldbank.org/servlet/WDSServlet?pcont=details&eid=000356161_20130305113209', EntityID=u'000356161_20130305113209'), Row(DocDate=u'16-JAN-2013', DocType=u'PID', DocTypeDesc=u'Project Information Document (PID),  Vol.1 of 1', DocURL=u'http://www-wds.worldbank.org/servlet/WDSServlet?pcont=details&eid=000356161_20130305113716', EntityID=u'000356161_20130305113716')], projectfinancialtype=u'OTHER', projectstatusdisplay=u'Active', regionname=u'Middle East and North Africa', sector=[Row(Name=u'Public administration- Other social services'), Row(Name=u'General public administration sector')], sector1=Row(Name=u'Public administration- Other social services', Percent=70), sector2=Row(Name=u'General public administration sector', Percent=30), sector3=None, sector4=None, sector_namecode=[Row(code=u'BS', name=u'Public administration- Other social services'), Row(code=u'BZ', name=u'General public administration sector')], sectorcode=u'BZ,BS', source=u'IBRD', status=u'Active', supplementprojectflg=u'N', theme1=Row(Name=u'Other economic management', Percent=30), theme_namecode=[Row(code=u'24', name=u'Other economic management'), Row(code=u'54', name=u'Social safety nets')], themecode=u'54,24', totalamt=0, totalcommamt=4700000, url=u'http://www.worldbank.org/projects/P144674?lang=en')\n********************\n"
                }
            ], 
            "metadata": {
                "collapsed": false
            }
        }, 
        {
            "source": "<a id=\"createtab\"></a>\n### 1.4 Create a table \n\nSQL statements must be run against a table. Create a table that's a pointer to the DataFrame:", 
            "cell_type": "markdown", 
            "metadata": {}
        }, 
        {
            "execution_count": 6, 
            "cell_type": "code", 
            "source": "example1_df.registerTempTable(\"world_bank\")", 
            "outputs": [], 
            "metadata": {
                "collapsed": false
            }
        }, 
        {
            "source": "<a id=\"runsql\"></a>\n## 2. Run SQL queries\n\nYou must define a new DataFrame for the results of the SQL query and put the SQL statement inside the `sqlContext.sql()` method.\n\nRun the following cell to select all columns from the table and print information about the resulting DataFrame and schema of the data:", 
            "cell_type": "markdown", 
            "metadata": {}
        }, 
        {
            "execution_count": 7, 
            "cell_type": "code", 
            "source": "temp_df =  sqlContext.sql(\"select * from world_bank\")\n\nprint type(temp_df)\nprint \"*\" * 20\nprint temp_df", 
            "outputs": [
                {
                    "output_type": "stream", 
                    "name": "stdout", 
                    "text": "<class 'pyspark.sql.dataframe.DataFrame'>\n********************\nDataFrame[_id: struct<$oid:string>, approvalfy: string, board_approval_month: string, boardapprovaldate: string, borrower: string, closingdate: string, country_namecode: string, countrycode: string, countryname: string, countryshortname: string, docty: string, envassesmentcategorycode: string, grantamt: bigint, ibrdcommamt: bigint, id: string, idacommamt: bigint, impagency: string, lendinginstr: string, lendinginstrtype: string, lendprojectcost: bigint, majorsector_percent: array<struct<Name:string,Percent:bigint>>, mjsector_namecode: array<struct<code:string,name:string>>, mjtheme: array<string>, mjtheme_namecode: array<struct<code:string,name:string>>, mjthemecode: string, prodline: string, prodlinetext: string, productlinetype: string, project_abstract: struct<cdata:string>, project_name: string, projectdocs: array<struct<DocDate:string,DocType:string,DocTypeDesc:string,DocURL:string,EntityID:string>>, projectfinancialtype: string, projectstatusdisplay: string, regionname: string, sector: array<struct<Name:string>>, sector1: struct<Name:string,Percent:bigint>, sector2: struct<Name:string,Percent:bigint>, sector3: struct<Name:string,Percent:bigint>, sector4: struct<Name:string,Percent:bigint>, sector_namecode: array<struct<code:string,name:string>>, sectorcode: string, source: string, status: string, supplementprojectflg: string, theme1: struct<Name:string,Percent:bigint>, theme_namecode: array<struct<code:string,name:string>>, themecode: string, totalamt: bigint, totalcommamt: bigint, url: string]\n"
                }
            ], 
            "metadata": {
                "collapsed": false
            }
        }, 
        {
            "source": "The first `print` command shows that the DataFrame is a Spark DataFrame. The last `print` command shows the column names and data types of the DataFrame.", 
            "cell_type": "markdown", 
            "metadata": {}
        }, 
        {
            "source": "<a id=\"pandas\"></a>\n### 2.1 Display query results with a pandas DataFrame\nThe `print` command doesn't show the data in a useful format. Instead of creating a Spark DataFrame, use the pandas open-source data analytics library to create a pandas DataFrame that shows the data in a table. \n\nImport the pandas library and use the `.toPandas()` method to show the query results:", 
            "cell_type": "markdown", 
            "metadata": {}
        }, 
        {
            "execution_count": 8, 
            "cell_type": "code", 
            "source": "import pandas as pd\nsqlContext.sql(\"select id, borrower from world_bank limit 2\").toPandas()", 
            "outputs": [
                {
                    "execution_count": 8, 
                    "output_type": "execute_result", 
                    "data": {
                        "text/plain": "        id                                 borrower\n0  P129828  FEDERAL DEMOCRATIC REPUBLIC OF ETHIOPIA\n1  P144674                    GOVERNMENT OF TUNISIA", 
                        "text/html": "<div>\n<table border=\"1\" class=\"dataframe\">\n  <thead>\n    <tr style=\"text-align: right;\">\n      <th></th>\n      <th>id</th>\n      <th>borrower</th>\n    </tr>\n  </thead>\n  <tbody>\n    <tr>\n      <th>0</th>\n      <td>P129828</td>\n      <td>FEDERAL DEMOCRATIC REPUBLIC OF ETHIOPIA</td>\n    </tr>\n    <tr>\n      <th>1</th>\n      <td>P144674</td>\n      <td>GOVERNMENT OF TUNISIA</td>\n    </tr>\n  </tbody>\n</table>\n</div>"
                    }, 
                    "metadata": {}
                }
            ], 
            "metadata": {
                "collapsed": false
            }
        }, 
        {
            "source": "<a id=\"groupby\"></a>\n### 2.2 Run a group by query\n\nYou can make your SQL queries easier to read by using the `query` keyword and surrounding the SQL query with `\"\"\"` on separate lines. \n\nCalculate a count of projects by region:", 
            "cell_type": "markdown", 
            "metadata": {}
        }, 
        {
            "execution_count": 9, 
            "cell_type": "code", 
            "source": "query = \"\"\"\nselect\n    regionname ,\n    count(*) as project_count\nfrom world_bank\ngroup by regionname \norder by count(*) desc\n\"\"\"\n\nsqlContext.sql(query).toPandas()", 
            "outputs": [
                {
                    "execution_count": 9, 
                    "output_type": "execute_result", 
                    "data": {
                        "text/plain": "                     regionname  project_count\n0                        Africa            152\n1         East Asia and Pacific            100\n2       Europe and Central Asia             74\n3                    South Asia             65\n4  Middle East and North Africa             54\n5   Latin America and Caribbean             53\n6                         Other              2", 
                        "text/html": "<div>\n<table border=\"1\" class=\"dataframe\">\n  <thead>\n    <tr style=\"text-align: right;\">\n      <th></th>\n      <th>regionname</th>\n      <th>project_count</th>\n    </tr>\n  </thead>\n  <tbody>\n    <tr>\n      <th>0</th>\n      <td>Africa</td>\n      <td>152</td>\n    </tr>\n    <tr>\n      <th>1</th>\n      <td>East Asia and Pacific</td>\n      <td>100</td>\n    </tr>\n    <tr>\n      <th>2</th>\n      <td>Europe and Central Asia</td>\n      <td>74</td>\n    </tr>\n    <tr>\n      <th>3</th>\n      <td>South Asia</td>\n      <td>65</td>\n    </tr>\n    <tr>\n      <th>4</th>\n      <td>Middle East and North Africa</td>\n      <td>54</td>\n    </tr>\n    <tr>\n      <th>5</th>\n      <td>Latin America and Caribbean</td>\n      <td>53</td>\n    </tr>\n    <tr>\n      <th>6</th>\n      <td>Other</td>\n      <td>2</td>\n    </tr>\n  </tbody>\n</table>\n</div>"
                    }, 
                    "metadata": {}
                }
            ], 
            "metadata": {
                "collapsed": false
            }
        }, 
        {
            "source": "<a id=\"subselect\"></a>\n### 2.3 Run a subselect query\nYou can run subselect queries.\n\nCalculate a count of projects by region again, but this time using a subselect:", 
            "cell_type": "markdown", 
            "metadata": {}
        }, 
        {
            "execution_count": 10, 
            "cell_type": "code", 
            "source": "query = \"\"\"\n\nselect * from\n    (select\n        regionname ,\n        count(*) as project_count\n    from world_bank\n    group by regionname \n    order by count(*) desc) table_alias\nlimit 2\n\"\"\"\n\nsqlContext.sql(query).toPandas()", 
            "outputs": [
                {
                    "execution_count": 10, 
                    "output_type": "execute_result", 
                    "data": {
                        "text/plain": "              regionname  project_count\n0                 Africa            152\n1  East Asia and Pacific            100", 
                        "text/html": "<div>\n<table border=\"1\" class=\"dataframe\">\n  <thead>\n    <tr style=\"text-align: right;\">\n      <th></th>\n      <th>regionname</th>\n      <th>project_count</th>\n    </tr>\n  </thead>\n  <tbody>\n    <tr>\n      <th>0</th>\n      <td>Africa</td>\n      <td>152</td>\n    </tr>\n    <tr>\n      <th>1</th>\n      <td>East Asia and Pacific</td>\n      <td>100</td>\n    </tr>\n  </tbody>\n</table>\n</div>"
                    }, 
                    "metadata": {}
                }
            ], 
            "metadata": {
                "collapsed": false
            }
        }, 
        {
            "source": "<a id=\"nested\"></a>\n### 2.4 Return nested JSON field values\nWith JSON data, you can select the values of nested fields with dot notation.\n\nPrint the schema so that you can see that `sector.Name` is a nested field and then select its first two values:", 
            "cell_type": "markdown", 
            "metadata": {}
        }, 
        {
            "execution_count": 11, 
            "cell_type": "code", 
            "source": "example1_df.printSchema()\n\nsql = \"select sector.Name from world_bank limit 2\"\nsqlContext.sql(sql).show()", 
            "outputs": [
                {
                    "output_type": "stream", 
                    "name": "stdout", 
                    "text": "root\n |-- _id: struct (nullable = true)\n |    |-- $oid: string (nullable = true)\n |-- approvalfy: string (nullable = true)\n |-- board_approval_month: string (nullable = true)\n |-- boardapprovaldate: string (nullable = true)\n |-- borrower: string (nullable = true)\n |-- closingdate: string (nullable = true)\n |-- country_namecode: string (nullable = true)\n |-- countrycode: string (nullable = true)\n |-- countryname: string (nullable = true)\n |-- countryshortname: string (nullable = true)\n |-- docty: string (nullable = true)\n |-- envassesmentcategorycode: string (nullable = true)\n |-- grantamt: long (nullable = true)\n |-- ibrdcommamt: long (nullable = true)\n |-- id: string (nullable = true)\n |-- idacommamt: long (nullable = true)\n |-- impagency: string (nullable = true)\n |-- lendinginstr: string (nullable = true)\n |-- lendinginstrtype: string (nullable = true)\n |-- lendprojectcost: long (nullable = true)\n |-- majorsector_percent: array (nullable = true)\n |    |-- element: struct (containsNull = true)\n |    |    |-- Name: string (nullable = true)\n |    |    |-- Percent: long (nullable = true)\n |-- mjsector_namecode: array (nullable = true)\n |    |-- element: struct (containsNull = true)\n |    |    |-- code: string (nullable = true)\n |    |    |-- name: string (nullable = true)\n |-- mjtheme: array (nullable = true)\n |    |-- element: string (containsNull = true)\n |-- mjtheme_namecode: array (nullable = true)\n |    |-- element: struct (containsNull = true)\n |    |    |-- code: string (nullable = true)\n |    |    |-- name: string (nullable = true)\n |-- mjthemecode: string (nullable = true)\n |-- prodline: string (nullable = true)\n |-- prodlinetext: string (nullable = true)\n |-- productlinetype: string (nullable = true)\n |-- project_abstract: struct (nullable = true)\n |    |-- cdata: string (nullable = true)\n |-- project_name: string (nullable = true)\n |-- projectdocs: array (nullable = true)\n |    |-- element: struct (containsNull = true)\n |    |    |-- DocDate: string (nullable = true)\n |    |    |-- DocType: string (nullable = true)\n |    |    |-- DocTypeDesc: string (nullable = true)\n |    |    |-- DocURL: string (nullable = true)\n |    |    |-- EntityID: string (nullable = true)\n |-- projectfinancialtype: string (nullable = true)\n |-- projectstatusdisplay: string (nullable = true)\n |-- regionname: string (nullable = true)\n |-- sector: array (nullable = true)\n |    |-- element: struct (containsNull = true)\n |    |    |-- Name: string (nullable = true)\n |-- sector1: struct (nullable = true)\n |    |-- Name: string (nullable = true)\n |    |-- Percent: long (nullable = true)\n |-- sector2: struct (nullable = true)\n |    |-- Name: string (nullable = true)\n |    |-- Percent: long (nullable = true)\n |-- sector3: struct (nullable = true)\n |    |-- Name: string (nullable = true)\n |    |-- Percent: long (nullable = true)\n |-- sector4: struct (nullable = true)\n |    |-- Name: string (nullable = true)\n |    |-- Percent: long (nullable = true)\n |-- sector_namecode: array (nullable = true)\n |    |-- element: struct (containsNull = true)\n |    |    |-- code: string (nullable = true)\n |    |    |-- name: string (nullable = true)\n |-- sectorcode: string (nullable = true)\n |-- source: string (nullable = true)\n |-- status: string (nullable = true)\n |-- supplementprojectflg: string (nullable = true)\n |-- theme1: struct (nullable = true)\n |    |-- Name: string (nullable = true)\n |    |-- Percent: long (nullable = true)\n |-- theme_namecode: array (nullable = true)\n |    |-- element: struct (containsNull = true)\n |    |    |-- code: string (nullable = true)\n |    |    |-- name: string (nullable = true)\n |-- themecode: string (nullable = true)\n |-- totalamt: long (nullable = true)\n |-- totalcommamt: long (nullable = true)\n |-- url: string (nullable = true)\n\n+--------------------+\n|                Name|\n+--------------------+\n|[Primary educatio...|\n|[Public administr...|\n+--------------------+\n\n"
                }
            ], 
            "metadata": {
                "collapsed": false
            }
        }, 
        {
            "source": "<a id=\"convertrdd\"></a>\n## 3. Convert RDDs to DataFrames\nIf you want to run SQL queries on an existing RDD, you must convert the RDD to a DataFrame. The main difference between RDDs and DataFrames is whether the columns are named.\n\nYou'll create an RDD and then convert it to a DataFrame in two different ways:\n - [Apply a schema](#apply)\n - [Create rows with named columns](#namedcol)", 
            "cell_type": "markdown", 
            "metadata": {}
        }, 
        {
            "source": "<a id=\"simplerdd\"></a>\n### 3.1 Create a simple RDD\nYou'll create a simple RDD with an ID column and two columns of random numbers.\n\nFirst create a Python list of lists:", 
            "cell_type": "markdown", 
            "metadata": {}
        }, 
        {
            "execution_count": 12, 
            "cell_type": "code", 
            "source": "import random\n\ndata_e2 = []\nfor x in range(1,6):\n    random_int = int(random.random() * 10)\n    data_e2.append([x, random_int, random_int^2])", 
            "outputs": [], 
            "metadata": {
                "collapsed": false
            }
        }, 
        {
            "source": "Now create the RDD:", 
            "cell_type": "markdown", 
            "metadata": {}
        }, 
        {
            "execution_count": 13, 
            "cell_type": "code", 
            "source": "rdd_example2 = sc.parallelize(data_e2)\nprint rdd_example2.collect()", 
            "outputs": [
                {
                    "output_type": "stream", 
                    "name": "stdout", 
                    "text": "[[1, 5, 7], [2, 9, 11], [3, 6, 4], [4, 6, 4], [5, 3, 1]]\n"
                }
            ], 
            "metadata": {
                "collapsed": false
            }
        }, 
        {
            "source": "<a id=\"apply\"></a>\n### 3.2 Apply a schema\nYou'll use the `StructField` method to create a schema object that's based on a string, apply the schema to the RDD to create a DataFrame, and then create a table to run SQL queries on.\n\nDefine your schema columns as a string:", 
            "cell_type": "markdown", 
            "metadata": {}
        }, 
        {
            "execution_count": 14, 
            "cell_type": "code", 
            "source": "from pyspark.sql.types import *\n\nschemaString = \"ID VAL1 VAL2\"", 
            "outputs": [], 
            "metadata": {
                "collapsed": false
            }
        }, 
        {
            "source": "Assign header information with the `StructField` method and create the schema with the `StructType` method:", 
            "cell_type": "markdown", 
            "metadata": {}
        }, 
        {
            "execution_count": 15, 
            "cell_type": "code", 
            "source": "fields = [StructField(field_name, StringType(), True) for field_name in schemaString.split()]\nschema = StructType(fields)", 
            "outputs": [], 
            "metadata": {
                "collapsed": false
            }
        }, 
        {
            "source": "Apply the schema to the RDD with the `createDataFrame` method:", 
            "cell_type": "markdown", 
            "metadata": {}
        }, 
        {
            "execution_count": 16, 
            "cell_type": "code", 
            "source": "schemaExample = sqlContext.createDataFrame(rdd_example2, schema)", 
            "outputs": [], 
            "metadata": {
                "collapsed": false
            }
        }, 
        {
            "source": "Register the DataFrame as a table:", 
            "cell_type": "markdown", 
            "metadata": {}
        }, 
        {
            "execution_count": 17, 
            "cell_type": "code", 
            "source": "schemaExample.registerTempTable(\"example2\")", 
            "outputs": [], 
            "metadata": {
                "collapsed": false
            }
        }, 
        {
            "source": "View the data:", 
            "cell_type": "markdown", 
            "metadata": {}
        }, 
        {
            "execution_count": 18, 
            "cell_type": "code", 
            "source": "print schemaExample.collect()", 
            "outputs": [
                {
                    "output_type": "stream", 
                    "name": "stdout", 
                    "text": "[Row(ID=u'1', VAL1=u'5', VAL2=u'7'), Row(ID=u'2', VAL1=u'9', VAL2=u'11'), Row(ID=u'3', VAL1=u'6', VAL2=u'4'), Row(ID=u'4', VAL1=u'6', VAL2=u'4'), Row(ID=u'5', VAL1=u'3', VAL2=u'1')]\n"
                }
            ], 
            "metadata": {
                "collapsed": false
            }
        }, 
        {
            "source": "You can reference the columns names in DataFrames:", 
            "cell_type": "markdown", 
            "metadata": {}
        }, 
        {
            "execution_count": 19, 
            "cell_type": "code", 
            "source": "for row in schemaExample.take(2):\n    print row.ID, row.VAL1, row.VAL2", 
            "outputs": [
                {
                    "output_type": "stream", 
                    "name": "stdout", 
                    "text": "1 5 7\n2 9 11\n"
                }
            ], 
            "metadata": {
                "collapsed": false
            }
        }, 
        {
            "source": "Run a simple SQL query:", 
            "cell_type": "markdown", 
            "metadata": {}
        }, 
        {
            "execution_count": 20, 
            "cell_type": "code", 
            "source": "sqlContext.sql(\"select * from example2\").toPandas()", 
            "outputs": [
                {
                    "execution_count": 20, 
                    "output_type": "execute_result", 
                    "data": {
                        "text/plain": "  ID VAL1 VAL2\n0  1    5    7\n1  2    9   11\n2  3    6    4\n3  4    6    4\n4  5    3    1", 
                        "text/html": "<div>\n<table border=\"1\" class=\"dataframe\">\n  <thead>\n    <tr style=\"text-align: right;\">\n      <th></th>\n      <th>ID</th>\n      <th>VAL1</th>\n      <th>VAL2</th>\n    </tr>\n  </thead>\n  <tbody>\n    <tr>\n      <th>0</th>\n      <td>1</td>\n      <td>5</td>\n      <td>7</td>\n    </tr>\n    <tr>\n      <th>1</th>\n      <td>2</td>\n      <td>9</td>\n      <td>11</td>\n    </tr>\n    <tr>\n      <th>2</th>\n      <td>3</td>\n      <td>6</td>\n      <td>4</td>\n    </tr>\n    <tr>\n      <th>3</th>\n      <td>4</td>\n      <td>6</td>\n      <td>4</td>\n    </tr>\n    <tr>\n      <th>4</th>\n      <td>5</td>\n      <td>3</td>\n      <td>1</td>\n    </tr>\n  </tbody>\n</table>\n</div>"
                    }, 
                    "metadata": {}
                }
            ], 
            "metadata": {
                "collapsed": false
            }
        }, 
        {
            "source": "<a id=\"namedcol\"></a>\n### 3.3 Create rows with named columns\nYou'll create an RDD with named columns and then convert it to a DataFrame and a table.\n\nCreate a new RDD and specify the names of the columns with the `map` method:", 
            "cell_type": "markdown", 
            "metadata": {}
        }, 
        {
            "execution_count": 21, 
            "cell_type": "code", 
            "source": "from pyspark.sql import Row\n\nrdd_example3 = rdd_example2.map(lambda x: Row(id=x[0], val1=x[1], val2=x[2]))\n\nprint rdd_example3.collect()                                                            ", 
            "outputs": [
                {
                    "output_type": "stream", 
                    "name": "stdout", 
                    "text": "[Row(id=1, val1=5, val2=7), Row(id=2, val1=9, val2=11), Row(id=3, val1=6, val2=4), Row(id=4, val1=6, val2=4), Row(id=5, val1=3, val2=1)]\n"
                }
            ], 
            "metadata": {
                "collapsed": false
            }
        }, 
        {
            "source": "Convert `rdd_example3` to a DataFrame and register an associated table:", 
            "cell_type": "markdown", 
            "metadata": {}
        }, 
        {
            "execution_count": 22, 
            "cell_type": "code", 
            "source": "df_example3 = rdd_example3.toDF()\ndf_example3.registerTempTable(\"example3\")", 
            "outputs": [], 
            "metadata": {
                "collapsed": false
            }
        }, 
        {
            "source": "Run a simple SQL query:", 
            "cell_type": "markdown", 
            "metadata": {}
        }, 
        {
            "execution_count": 23, 
            "cell_type": "code", 
            "source": "sqlContext.sql(\"select * from example3\").toPandas()", 
            "outputs": [
                {
                    "execution_count": 23, 
                    "output_type": "execute_result", 
                    "data": {
                        "text/plain": "   id  val1  val2\n0   1     5     7\n1   2     9    11\n2   3     6     4\n3   4     6     4\n4   5     3     1", 
                        "text/html": "<div>\n<table border=\"1\" class=\"dataframe\">\n  <thead>\n    <tr style=\"text-align: right;\">\n      <th></th>\n      <th>id</th>\n      <th>val1</th>\n      <th>val2</th>\n    </tr>\n  </thead>\n  <tbody>\n    <tr>\n      <th>0</th>\n      <td>1</td>\n      <td>5</td>\n      <td>7</td>\n    </tr>\n    <tr>\n      <th>1</th>\n      <td>2</td>\n      <td>9</td>\n      <td>11</td>\n    </tr>\n    <tr>\n      <th>2</th>\n      <td>3</td>\n      <td>6</td>\n      <td>4</td>\n    </tr>\n    <tr>\n      <th>3</th>\n      <td>4</td>\n      <td>6</td>\n      <td>4</td>\n    </tr>\n    <tr>\n      <th>4</th>\n      <td>5</td>\n      <td>3</td>\n      <td>1</td>\n    </tr>\n  </tbody>\n</table>\n</div>"
                    }, 
                    "metadata": {}
                }
            ], 
            "metadata": {
                "collapsed": false
            }
        }, 
        {
            "source": "<a id=\"join\"></a>\n### 3.4 Join tables\nYou can join tables.\n\nJoin tables `example2` and `example3` on the ID column:", 
            "cell_type": "markdown", 
            "metadata": {}
        }, 
        {
            "execution_count": 24, 
            "cell_type": "code", 
            "source": "query = \"\"\"\nselect\n    *\nfrom\n    example2 e2\ninner join example3 e3 on\n    e2.ID = e3.id\n\"\"\"\n\nprint sqlContext.sql(query).toPandas()", 
            "outputs": [
                {
                    "output_type": "stream", 
                    "name": "stdout", 
                    "text": "  ID VAL1 VAL2  id  val1  val2\n0  1    5    7   1     5     7\n1  4    6    4   4     6     4\n2  3    6    4   3     6     4\n3  2    9   11   2     9    11\n4  5    3    1   5     3     1\n"
                }
            ], 
            "metadata": {
                "collapsed": false
            }
        }, 
        {
            "source": "Alternatively, you can join DataFrames with a Python command instead of an SQL query:", 
            "cell_type": "markdown", 
            "metadata": {}
        }, 
        {
            "execution_count": 25, 
            "cell_type": "code", 
            "source": "df_example4 = df_example3.join(schemaExample, schemaExample[\"ID\"] == df_example3[\"id\"] )\n\nfor row in df_example4.take(5):\n    print row", 
            "outputs": [
                {
                    "output_type": "stream", 
                    "name": "stdout", 
                    "text": "Row(id=1, val1=5, val2=7, ID=u'1', VAL1=u'5', VAL2=u'7')\nRow(id=4, val1=6, val2=4, ID=u'4', VAL1=u'6', VAL2=u'4')\nRow(id=3, val1=6, val2=4, ID=u'3', VAL1=u'6', VAL2=u'4')\nRow(id=2, val1=9, val2=11, ID=u'2', VAL1=u'9', VAL2=u'11')\nRow(id=5, val1=3, val2=1, ID=u'5', VAL1=u'3', VAL2=u'1')\n"
                }
            ], 
            "metadata": {
                "collapsed": false
            }
        }, 
        {
            "source": "<a id=\"sqlfuncs\"></a>\n## 4. Create SQL functions \nYou can create functions that run in SQL queries. \n\nFirst, create a Python function and test it:", 
            "cell_type": "markdown", 
            "metadata": {}
        }, 
        {
            "execution_count": 26, 
            "cell_type": "code", 
            "source": "def simple_function(v):\n    return int(v * 10)\n\n#test the function\nprint simple_function(3)", 
            "outputs": [
                {
                    "output_type": "stream", 
                    "name": "stdout", 
                    "text": "30\n"
                }
            ], 
            "metadata": {
                "collapsed": false
            }
        }, 
        {
            "source": "Next, register the function as an SQL function with the `registerFunction` method:", 
            "cell_type": "markdown", 
            "metadata": {}
        }, 
        {
            "execution_count": 27, 
            "cell_type": "code", 
            "source": "sqlContext.registerFunction(\"simple_function\", simple_function)", 
            "outputs": [], 
            "metadata": {
                "collapsed": false
            }
        }, 
        {
            "source": "Now run the function in an SQL Statement:", 
            "cell_type": "markdown", 
            "metadata": {}
        }, 
        {
            "execution_count": 28, 
            "cell_type": "code", 
            "source": "query = \"\"\"\nselect\n    ID,\n    VAL1,\n    VAL2,\n    simple_function(VAL1) as s_VAL1,\n    simple_function(VAL2) as s_VAL2\nfrom\n example2\n\"\"\"\nsqlContext.sql(query).toPandas()", 
            "outputs": [
                {
                    "execution_count": 28, 
                    "output_type": "execute_result", 
                    "data": {
                        "text/plain": "  ID VAL1 VAL2      s_VAL1                s_VAL2\n0  1    5    7  5555555555            7777777777\n1  2    9   11  9999999999  11111111111111111111\n2  3    6    4  6666666666            4444444444\n3  4    6    4  6666666666            4444444444\n4  5    3    1  3333333333            1111111111", 
                        "text/html": "<div>\n<table border=\"1\" class=\"dataframe\">\n  <thead>\n    <tr style=\"text-align: right;\">\n      <th></th>\n      <th>ID</th>\n      <th>VAL1</th>\n      <th>VAL2</th>\n      <th>s_VAL1</th>\n      <th>s_VAL2</th>\n    </tr>\n  </thead>\n  <tbody>\n    <tr>\n      <th>0</th>\n      <td>1</td>\n      <td>5</td>\n      <td>7</td>\n      <td>5555555555</td>\n      <td>7777777777</td>\n    </tr>\n    <tr>\n      <th>1</th>\n      <td>2</td>\n      <td>9</td>\n      <td>11</td>\n      <td>9999999999</td>\n      <td>11111111111111111111</td>\n    </tr>\n    <tr>\n      <th>2</th>\n      <td>3</td>\n      <td>6</td>\n      <td>4</td>\n      <td>6666666666</td>\n      <td>4444444444</td>\n    </tr>\n    <tr>\n      <th>3</th>\n      <td>4</td>\n      <td>6</td>\n      <td>4</td>\n      <td>6666666666</td>\n      <td>4444444444</td>\n    </tr>\n    <tr>\n      <th>4</th>\n      <td>5</td>\n      <td>3</td>\n      <td>1</td>\n      <td>3333333333</td>\n      <td>1111111111</td>\n    </tr>\n  </tbody>\n</table>\n</div>"
                    }, 
                    "metadata": {}
                }
            ], 
            "metadata": {
                "collapsed": false
            }
        }, 
        {
            "source": "The values in the VAL1 and VAL2 columns look like strings (10 characters instead of a number multiplied by 10). That's because string is the default data type for columns in Spark DataFrames.\n\nCast the values in the VAL1 and VAL2 columns to integers: ", 
            "cell_type": "markdown", 
            "metadata": {}
        }, 
        {
            "execution_count": 29, 
            "cell_type": "code", 
            "source": "query = \"\"\"\nselect\n    ID,\n    VAL1,\n    VAL2,\n    simple_function(cast(VAL1 as int)) as s_VAL1,\n    simple_function(cast(VAL2 as int)) as s_VAL2\nfrom\n example2\n\"\"\"\nsqlContext.sql(query).toPandas()", 
            "outputs": [
                {
                    "execution_count": 29, 
                    "output_type": "execute_result", 
                    "data": {
                        "text/plain": "  ID VAL1 VAL2 s_VAL1 s_VAL2\n0  1    5    7     50     70\n1  2    9   11     90    110\n2  3    6    4     60     40\n3  4    6    4     60     40\n4  5    3    1     30     10", 
                        "text/html": "<div>\n<table border=\"1\" class=\"dataframe\">\n  <thead>\n    <tr style=\"text-align: right;\">\n      <th></th>\n      <th>ID</th>\n      <th>VAL1</th>\n      <th>VAL2</th>\n      <th>s_VAL1</th>\n      <th>s_VAL2</th>\n    </tr>\n  </thead>\n  <tbody>\n    <tr>\n      <th>0</th>\n      <td>1</td>\n      <td>5</td>\n      <td>7</td>\n      <td>50</td>\n      <td>70</td>\n    </tr>\n    <tr>\n      <th>1</th>\n      <td>2</td>\n      <td>9</td>\n      <td>11</td>\n      <td>90</td>\n      <td>110</td>\n    </tr>\n    <tr>\n      <th>2</th>\n      <td>3</td>\n      <td>6</td>\n      <td>4</td>\n      <td>60</td>\n      <td>40</td>\n    </tr>\n    <tr>\n      <th>3</th>\n      <td>4</td>\n      <td>6</td>\n      <td>4</td>\n      <td>60</td>\n      <td>40</td>\n    </tr>\n    <tr>\n      <th>4</th>\n      <td>5</td>\n      <td>3</td>\n      <td>1</td>\n      <td>30</td>\n      <td>10</td>\n    </tr>\n  </tbody>\n</table>\n</div>"
                    }, 
                    "metadata": {}
                }
            ], 
            "metadata": {
                "collapsed": false
            }
        }, 
        {
            "source": "That looks better!", 
            "cell_type": "markdown", 
            "metadata": {}
        }, 
        {
            "source": "<a id=\"sparkdf\"></a>\n## 5. Convert a pandas DataFrame to a Spark DataFrame\nAlthough pandas DataFrames display data in a friendlier format, Spark DataFrames can be faster and more scalable.\n\nYou'll get a new data set, create a pandas DataFrame for it, and then convert the pandas DataFrame to a Spark DataFrame.", 
            "cell_type": "markdown", 
            "metadata": {
                "collapsed": true
            }
        }, 
        {
            "source": "<a id=\"ufo\"></a>\n### 5.1 Get a new data set\nGet a data set about UFO sightings:", 
            "cell_type": "markdown", 
            "metadata": {}
        }, 
        {
            "execution_count": 30, 
            "cell_type": "code", 
            "source": "!rm SIGHTINGS.csv -f\n!wget https://www.quandl.com/api/v3/datasets/NUFORC/SIGHTINGS.csv", 
            "outputs": [
                {
                    "output_type": "stream", 
                    "name": "stdout", 
                    "text": "--2017-06-08 06:21:15--  https://www.quandl.com/api/v3/datasets/NUFORC/SIGHTINGS.csv\nResolving www.quandl.com (www.quandl.com)... 104.25.53.103, 104.25.54.103, 2400:cb00:2048:1::6819:3567, ...\nConnecting to www.quandl.com (www.quandl.com)|104.25.53.103|:443... connected.\nHTTP request sent, awaiting response... 200 OK\nLength: 14438 (14K) [text/csv]\nSaving to: \u2018SIGHTINGS.csv\u2019\n\n100%[======================================>] 14,438      --.-K/s   in 0.001s  \n\n2017-06-08 06:21:16 (19.2 MB/s) - \u2018SIGHTINGS.csv\u2019 saved [14438/14438]\n\n"
                }
            ], 
            "metadata": {
                "collapsed": false
            }
        }, 
        {
            "source": "<a id=\"ufopandas\"></a>\n### 5.2 Create a pandas DataFrame\nCreate a pandas DataFrame of the data set with the `read_csv` method:", 
            "cell_type": "markdown", 
            "metadata": {}
        }, 
        {
            "execution_count": 31, 
            "cell_type": "code", 
            "source": "pandas_df = pd.read_csv(\"./SIGHTINGS.csv\")\npandas_df.head()", 
            "outputs": [
                {
                    "execution_count": 31, 
                    "output_type": "execute_result", 
                    "data": {
                        "text/plain": "      Reports  Count\n0  2017-06-30      9\n1  2017-05-31    323\n2  2017-04-30    395\n3  2017-03-31    334\n4  2017-02-28    410", 
                        "text/html": "<div>\n<table border=\"1\" class=\"dataframe\">\n  <thead>\n    <tr style=\"text-align: right;\">\n      <th></th>\n      <th>Reports</th>\n      <th>Count</th>\n    </tr>\n  </thead>\n  <tbody>\n    <tr>\n      <th>0</th>\n      <td>2017-06-30</td>\n      <td>9</td>\n    </tr>\n    <tr>\n      <th>1</th>\n      <td>2017-05-31</td>\n      <td>323</td>\n    </tr>\n    <tr>\n      <th>2</th>\n      <td>2017-04-30</td>\n      <td>395</td>\n    </tr>\n    <tr>\n      <th>3</th>\n      <td>2017-03-31</td>\n      <td>334</td>\n    </tr>\n    <tr>\n      <th>4</th>\n      <td>2017-02-28</td>\n      <td>410</td>\n    </tr>\n  </tbody>\n</table>\n</div>"
                    }, 
                    "metadata": {}
                }
            ], 
            "metadata": {
                "collapsed": false
            }
        }, 
        {
            "source": "<a id=\"sparkufo\"></a>\n### 5.3 Convert to a Spark DataFrame\nConvert the pandas DataFrame to a Spark DataFrame with the `createDataFrame` method. Remember using the `createDataFrame` method to convert an RDD to a Spark DataFrame?", 
            "cell_type": "markdown", 
            "metadata": {}
        }, 
        {
            "execution_count": 32, 
            "cell_type": "code", 
            "source": "spark_df = sqlContext.createDataFrame(pandas_df)", 
            "outputs": [], 
            "metadata": {
                "collapsed": false
            }
        }, 
        {
            "source": "Print the first two rows:", 
            "cell_type": "markdown", 
            "metadata": {}
        }, 
        {
            "execution_count": 33, 
            "cell_type": "code", 
            "source": "for row in spark_df.take(2):\n    print row\n", 
            "outputs": [
                {
                    "output_type": "stream", 
                    "name": "stdout", 
                    "text": "Row(Reports=u'2017-06-30', Count=9.0)\nRow(Reports=u'2017-05-31', Count=323.0)\n"
                }
            ], 
            "metadata": {
                "collapsed": false
            }
        }, 
        {
            "source": "Register the Spark DataFrame as a table:", 
            "cell_type": "markdown", 
            "metadata": {}
        }, 
        {
            "execution_count": 34, 
            "cell_type": "code", 
            "source": "spark_df.registerTempTable(\"ufo_sightings\")", 
            "outputs": [], 
            "metadata": {
                "collapsed": false
            }
        }, 
        {
            "source": "<a id=\"runufo\"></a>\n### 5.4 Run an SQL statement\nNow run an SQL statement to print the first 10 rows of the table:", 
            "cell_type": "markdown", 
            "metadata": {}
        }, 
        {
            "execution_count": 35, 
            "cell_type": "code", 
            "source": "print sqlContext.sql(\"select * from ufo_sightings limit 10\").collect()", 
            "outputs": [
                {
                    "output_type": "stream", 
                    "name": "stdout", 
                    "text": "[Row(Reports=u'2017-06-30', Count=9.0), Row(Reports=u'2017-05-31', Count=323.0), Row(Reports=u'2017-04-30', Count=395.0), Row(Reports=u'2017-03-31', Count=334.0), Row(Reports=u'2017-02-28', Count=410.0), Row(Reports=u'2017-01-31', Count=318.0), Row(Reports=u'2016-12-31', Count=344.0), Row(Reports=u'2016-11-30', Count=486.0), Row(Reports=u'2016-10-31', Count=480.0), Row(Reports=u'2016-09-30', Count=588.0)]\n"
                }
            ], 
            "metadata": {
                "collapsed": false
            }
        }, 
        {
            "source": "<a id=\"viz\"></a>\n## 6. Visualize data\nIt's easy to create charts from pandas DataFrames. You'll use the matplotlib library to create graphs and the NumPy package for computing.\n\nImport the libraries and specify to show graphs inline:", 
            "cell_type": "markdown", 
            "metadata": {}
        }, 
        {
            "execution_count": 36, 
            "cell_type": "code", 
            "source": "%matplotlib inline \nimport matplotlib.pyplot as plt, numpy as np", 
            "outputs": [], 
            "metadata": {
                "collapsed": false
            }
        }, 
        {
            "source": "Convert the Spark DataFrame with UFO data to a pandas DataFrame: ", 
            "cell_type": "markdown", 
            "metadata": {}
        }, 
        {
            "execution_count": 37, 
            "cell_type": "code", 
            "source": "ufos_df = spark_df.toPandas()", 
            "outputs": [], 
            "metadata": {
                "collapsed": false
            }
        }, 
        {
            "source": "<a id=\"vizchart\"></a>\n### 6.1 Create a chart\n\nTo create a chart, you call the `plot()` method and specify the type of chart, the columns for the X and Y axes, and, optionally, the size of the chart. \n\nFor more information about plotting pandas DataFrames, see [Visualization](http://pandas.pydata.org/pandas-docs/stable/visualization.html).\n\nCreate a bar chart 12\" wide by 5\" high that shows the number of reports by date:", 
            "cell_type": "markdown", 
            "metadata": {}
        }, 
        {
            "execution_count": 38, 
            "cell_type": "code", 
            "source": "ufos_df.plot(kind='bar', x='Reports', y='Count', figsize=(12, 5))", 
            "outputs": [
                {
                    "execution_count": 38, 
                    "output_type": "execute_result", 
                    "data": {
                        "text/plain": "<matplotlib.axes._subplots.AxesSubplot at 0x7f405a96d410>"
                    }, 
                    "metadata": {}
                }, 
                {
                    "output_type": "display_data", 
                    "data": {
                        "image/png": "[encoded data removed]", 
                        "text/plain": "<matplotlib.figure.Figure at 0x7f405a95d450>"
                    }, 
                    "metadata": {}
                }
            ], 
            "metadata": {
                "collapsed": false
            }
        }, 
        {
            "source": "This chart doesn't look good because there are too many observations. Check how many observations there are by querying the `ufo_sightings` table:", 
            "cell_type": "markdown", 
            "metadata": {}
        }, 
        {
            "execution_count": 39, 
            "cell_type": "code", 
            "source": "print sqlContext.sql(\"select count(*) from ufo_sightings\").collect()", 
            "outputs": [
                {
                    "output_type": "stream", 
                    "name": "stdout", 
                    "text": "[Row(count(1)=907)]\n"
                }
            ], 
            "metadata": {
                "collapsed": false
            }
        }, 
        {
            "source": "<a id=\"vizagg\"></a>\n### 6.2 Aggregate the data\n\nTo reduce the number of data points on the chart, you can aggregate the data by year. Here are a few of the ways that you can do that:\n\n - Run an SQL query on the Reports column to output the year, and then run a group by operation on the year.\n - Create a simple Python function to aggregate by year, and then run the function in an SQL query.\n - Run the `map()` method on the Spark Dataframe to append a new column that contains the aggregated count by year. This is the method you'll use.\n\nRemember that the dates in the Reports column look like this: 2016-01-31. Therefore, to create the year column, you just need the first 4 characters from the Reports column.\n\nAdd a year column to the DataFrame:", 
            "cell_type": "markdown", 
            "metadata": {}
        }, 
        {
            "execution_count": 40, 
            "cell_type": "code", 
            "source": "ufos_df = spark_df.rdd.map(lambda x: Row(**dict(x.asDict(), year=int(x.Reports[0:4])))).toDF()", 
            "outputs": [], 
            "metadata": {
                "collapsed": false
            }
        }, 
        {
            "source": "Check to verify that you get the expected results:", 
            "cell_type": "markdown", 
            "metadata": {}
        }, 
        {
            "execution_count": 41, 
            "cell_type": "code", 
            "source": "print ufos_df.take(5)", 
            "outputs": [
                {
                    "output_type": "stream", 
                    "name": "stdout", 
                    "text": "[Row(Count=9.0, Reports=u'2017-06-30', year=2017), Row(Count=323.0, Reports=u'2017-05-31', year=2017), Row(Count=395.0, Reports=u'2017-04-30', year=2017), Row(Count=334.0, Reports=u'2017-03-31', year=2017), Row(Count=410.0, Reports=u'2017-02-28', year=2017)]\n"
                }
            ], 
            "metadata": {
                "collapsed": false
            }
        }, 
        {
            "source": "Register the DataFrame as a table:", 
            "cell_type": "markdown", 
            "metadata": {}
        }, 
        {
            "execution_count": 42, 
            "cell_type": "code", 
            "source": "ufos_df.registerTempTable(\"ufo_withyear\")", 
            "outputs": [], 
            "metadata": {
                "collapsed": false
            }
        }, 
        {
            "source": "<a id=\"vizchart2\"></a>\n### 6.3 Create a better chart\n\nNow run an SQL query to group by year, order by year, and filter to the last 66 years. Then create a pandas DataFrame for the results and create a chart of the number of reports by year.", 
            "cell_type": "markdown", 
            "metadata": {}
        }, 
        {
            "execution_count": 43, 
            "cell_type": "code", 
            "source": "query = \"\"\"\nselect \n    sum(Count) as count, \n    year \nfrom ufo_withyear\nwhere year > 1950\ngroup by year\norder by year\n\"\"\"\npandas_ufos_withyears = sqlContext.sql(query).toPandas()\npandas_ufos_withyears.plot(kind='bar', x='year', y='count', figsize=(12, 5))", 
            "outputs": [
                {
                    "execution_count": 43, 
                    "output_type": "execute_result", 
                    "data": {
                        "text/plain": "<matplotlib.axes._subplots.AxesSubplot at 0x7f4051058dd0>"
                    }, 
                    "metadata": {}
                }, 
                {
                    "output_type": "display_data", 
                    "data": {
                        "image/png": "[encoded data removed]", 
                        "text/plain": "<matplotlib.figure.Figure at 0x7f4053195290>"
                    }, 
                    "metadata": {}
                }
            ], 
            "metadata": {
                "collapsed": false
            }
        }, 
        {
            "source": "Now you have a chart that you can read. Look back at the original chart and notice that it wasn't ordered ascending by year.", 
            "cell_type": "markdown", 
            "metadata": {}
        }, 
        {
            "source": "<a id=\"nextsteps\"></a>\n## 7. Summary and next steps\nYou've learned how to create DataFrames, convert between DataFrame types, and convert from RDDs. You know how to run SQL queries and create SQL functions. And you can visualize the data in charts. \n\nGo to the next notebook in this series: [Introduction to Apache Spark lab, part 3: Machine learning](https://apsportal.ibm.com/exchange/public/entry/view/5ad1c820f57809ddec9a040e37b4af08).\n\nDig deeper:\n - [Apache Spark documentation](http://spark.apache.org/documentation.html)\n - [PySpark documentation](http://spark.apache.org/docs/latest/api/python/pyspark.html)\n - [pandas](http://pandas.pydata.org/pandas-docs/stable/index.html)\n - [matplotlib](http://matplotlib.org/)\n - [NumPy](http://www.numpy.org/)", 
            "cell_type": "markdown", 
            "metadata": {
                "collapsed": true
            }
        }, 
        {
            "source": "### Authors\nCarlo Appugliese is a Spark and Hadoop evangelist at IBM.<br>\nBraden Callahan is a Big Data Technical Specialist for IBM.<br>\nRoss Lewis is a Big Data Technical Sales Specialist for IBM.<br>\nMokhtar Kandil is a World Wide Big Data Technical Specialist for IBM.\n\n### Data citation\n\nThe World Bank: Projects & Operations ", 
            "cell_type": "markdown", 
            "metadata": {}
        }, 
        {
            "source": "<hr>\nCopyright &copy; IBM Corp. 2017. This notebook and its source code are released under the terms of the MIT License.", 
            "cell_type": "markdown", 
            "metadata": {
                "collapsed": true
            }
        }
    ], 
    "nbformat": 4, 
    "metadata": {
        "kernelspec": {
            "display_name": "Python 2 with Spark 2.0", 
            "name": "python2-spark20", 
            "language": "python"
        }, 
        "language_info": {
            "mimetype": "text/x-python", 
            "nbconvert_exporter": "python", 
            "version": "2.7.11", 
            "name": "python", 
            "file_extension": ".py", 
            "pygments_lexer": "ipython2", 
            "codemirror_mode": {
                "version": 2, 
                "name": "ipython"
            }
        }
    }
}