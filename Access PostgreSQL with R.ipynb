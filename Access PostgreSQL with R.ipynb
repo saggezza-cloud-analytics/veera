{
    "nbformat_minor": 1, 
    "cells": [
        {
            "source": "<div style=\"background:#F5F7FA; height:100px; padding: 2em; font-size:14px;\">\n<span style=\"font-size:18px;color:#152935;\">Want to do more?</span><span style=\"border: 1px solid #3d70b2;padding: 15px;float:right;margin-right:40px; color:#3d70b2; \"><a href=\"https://ibm.co/wsnotebooks\" target=\"_blank\" style=\"color: #3d70b2;text-decoration: none;\">Sign Up</a></span><br>\n<span style=\"color:#5A6872;\"> Try out this notebook with your free trial of IBM Watson Studio.</span>\n</div>", 
            "cell_type": "markdown", 
            "metadata": {}
        }, 
        {
            "source": "# Access PostgreSQL with R\n\nThis notebook shows how to access a PostgreSQL database when using R.\n\n## Table of contents\n\n1. [Setup](#Setup)\n1. [Import the *RPostgreSQL* R library](#Import-the-RPostgreSQL-R-library)\n1. [Identify and enter the database connection credentials](#Identify-and-enter-the-database-connection-credentials)\n1. [Create the database connection](#Create-the-database-connection)\n1. [Create a table](#Create-a-table)\n1. [Insert data into a table](#Insert-data-into-a-table)\n1. [Query data](#Query-data)\n1. [Close the database connection](#Close-the-database-connection)\n1. [Summary](#Summary)\n\n\n\n## Setup\n\nBefore beginning you will need access to a *PostgreSQL* database. PostgreSQL is a powerful, open source, object-relational database system. It is a multi-user database management system and has sophisticated features such as Multi-Version Concurrency Control, point in time recovery, tablespaces, and more. To learn more, see the [PostgreSQL website](http://www.postgresql.org/). You can find [PostgreSQL databases](https://console.bluemix.net/catalog/?taxonomyNavigation=apps&category=data) on IBM Cloud.\n\nWhen dealing with large data sets (for example 50 GB) that potentially exceed the memory of your machine (RAM), it is nice to have another possibility such as an PostgreSQL database, where you can query the data in smaller digestible chunks. In this way, you just query data in smaller chunks (for instance 2 GB), and leave resources for the computation.\n\n\n\n## Import the *RPostgreSQL* R library\n\n__RPostgreSQL__ is a driver for interacting with PostgreSQL from the R scripting language. It enables you to perform the full range of SQL operations against Postgres databases. Run the command below to install and import the RPostgreSQL library:", 
            "cell_type": "markdown", 
            "metadata": {}
        }, 
        {
            "source": "install.packages(\"RPostgreSQL\")", 
            "cell_type": "code", 
            "metadata": {}, 
            "outputs": [
                {
                    "output_type": "stream", 
                    "name": "stderr", 
                    "text": "Updating HTML index of packages in '.Library'\nMaking 'packages.html' ... done\n"
                }
            ], 
            "execution_count": 1
        }, 
        {
            "source": "library(RPostgreSQL)", 
            "cell_type": "code", 
            "metadata": {}, 
            "outputs": [
                {
                    "output_type": "stream", 
                    "name": "stderr", 
                    "text": "Loading required package: DBI\n"
                }
            ], 
            "execution_count": 2
        }, 
        {
            "source": "## Identify and enter the database connection credentials\n\nConnecting to PostgreSQL database requires the following information:\n* Host name or IP address \n* Host port\n* default database name\n* Connection protocol\n* User ID\n* User password\n\nAll of this information must be captured in a connection string in a subsequent step. Provide the PostgreSQL connection information as shown:", 
            "cell_type": "markdown", 
            "metadata": {}
        }, 
        {
            "source": "#Enter the values for you database connection\ndsn_database = \"<database name>\"       # for example  \"compose\"\ndsn_hostname = \"<your host name>\"     # for example  \"aws-us-east-1-portal.4.dblayer.com\"\ndsn_port = \"<port>\"                 # for example  11101 \ndsn_uid = \"<your user id>\"        # for example  \"admin\"\ndsn_pwd = \"<your password>\"      # for example  \"xxx\"", 
            "cell_type": "code", 
            "metadata": {}, 
            "outputs": [], 
            "execution_count": 3
        }, 
        {
            "source": "## Create the database connection\nUse the *dbDriver* and *dbConnect* commands to establish a connection:", 
            "cell_type": "markdown", 
            "metadata": {}
        }, 
        {
            "source": "tryCatch({\n    drv <- dbDriver(\"PostgreSQL\")\n    print(\"Connecting to database\")\n    conn <- dbConnect(drv, \n                 dbname = dsn_database,\n                 host = dsn_hostname, \n                 port = dsn_port,\n                 user = dsn_uid, \n                 password = dsn_pwd)\n    print(\"Connected!\")\n    },\n    error=function(cond) {\n            print(\"Unable to connect to database.\")\n    })", 
            "cell_type": "code", 
            "metadata": {}, 
            "outputs": [
                {
                    "output_type": "stream", 
                    "name": "stdout", 
                    "text": "[1] \"Connecting to database\"\n[1] \"Connected!\"\n"
                }
            ], 
            "execution_count": 4
        }, 
        {
            "source": "The next step is to check what tables exist in the database:", 
            "cell_type": "markdown", 
            "metadata": {}
        }, 
        {
            "source": "cursor <- dbGetQuery(conn, \"SELECT datname from pg_database\")\n\ncursor$datname", 
            "cell_type": "code", 
            "metadata": {}, 
            "outputs": [
                {
                    "output_type": "display_data", 
                    "data": {
                        "text/plain": "  [1] \"template1\" \"template0\" \"qhrlhjub\"  \"dmdrgfkh\"  \"hitkyrbb\"  \"csjlrsrn\" \n  [7] \"gfcgpbmp\"  \"pesqbntq\"  \"isxflxan\"  \"tciwytqw\"  \"vbrbbqlz\"  \"stnrbwbg\" \n [13] \"ibcvrkdp\"  \"kiczavdw\"  \"erpkviqq\"  \"hxxplgil\"  \"mebyyfhn\"  \"kvgcuugn\" \n [19] \"ewxkbgbp\"  \"ivhbftfp\"  \"rzvrywdz\"  \"qyhtpwrs\"  \"noeoupse\"  \"kyqhfqcc\" \n [25] \"sslblurk\"  \"zmizwogy\"  \"efhpfvlz\"  \"uyqpffth\"  \"lmejkkfe\"  \"lznlqbfm\" \n [31] \"lozpcqvf\"  \"cavssykz\"  \"rqecnirg\"  \"wvnjdpsh\"  \"pwoxdake\"  \"hrrqoeos\" \n [37] \"lugcppzo\"  \"xgolmari\"  \"qlvrizxz\"  \"izrvffgj\"  \"slxnyrdh\"  \"ueoioxlc\" \n [43] \"vnepifvr\"  \"urnyivcc\"  \"aonrmntz\"  \"fxaoigui\"  \"cawrlsrj\"  \"wgbikraq\" \n [49] \"mmwydbpk\"  \"drgjjnfu\"  \"ghmvhxze\"  \"bgpquqda\"  \"fhqzrwzm\"  \"alfqrejg\" \n [55] \"rusdhhne\"  \"phmbeawd\"  \"gykauqjs\"  \"rqhvdogj\"  \"uinoaufa\"  \"ajyubwtg\" \n [61] \"brkezaqp\"  \"vgxrztpn\"  \"eocdzgqy\"  \"ywgamtjc\"  \"cxtbqzsi\"  \"kpdcplxi\" \n [67] \"daqougbn\"  \"apidueru\"  \"iqvstdjv\"  \"hwlhtgmj\"  \"ffnvoqxq\"  \"zgbdrbpx\" \n [73] \"wxasfubd\"  \"agqzxrhf\"  \"arkobzfr\"  \"rnfaviiu\"  \"eotqkzqc\"  \"thowaxjw\" \n [79] \"xuwbyrcu\"  \"zvteqxdg\"  \"fmusgkac\"  \"mrkzanaw\"  \"cvsxqqik\"  \"eczfboas\" \n [85] \"uannzbrp\"  \"eeyqjswi\"  \"rlnvjcrt\"  \"htojcpxc\"  \"xlgfxzpa\"  \"kevjmcci\" \n [91] \"wtnngzzy\"  \"eukjokgu\"  \"lukwngfo\"  \"swjbgnne\"  \"aqnoalsn\"  \"xrgpqaee\" \n [97] \"vvkjxjce\"  \"wqnxbvue\"  \"sugmvulo\"  \"xesfggxt\"  \"wbjosdcs\"  \"bxvxhuzd\" \n[103] \"jbrfcxmo\"  \"osbllhtf\"  \"sjmpquxu\"  \"zmhmgryi\"  \"kpgqisrf\"  \"cidphtrv\" \n[109] \"mmlsheyh\"  \"pzvroxkc\"  \"vnqplaqv\"  \"jydfifna\"  \"psozcgtf\"  \"djsvwjso\" \n[115] \"rebbldly\"  \"rtyhkusj\"  \"gtycpzhb\"  \"zmqvypza\"  \"jseujvly\"  \"uqevsijv\" \n[121] \"zifsplin\"  \"bklkzwor\"  \"njemvrea\"  \"jvarnbqk\"  \"suacduhj\"  \"plsywcyh\" \n[127] \"gzuqtcde\"  \"uewybdsq\"  \"talowkrn\"  \"lnrwhxil\"  \"usfaumdi\"  \"ulynbjne\" \n[133] \"xnfwrrzg\"  \"pylfyxob\"  \"abfhtxwo\"  \"adplbzzy\"  \"vdjwumlk\"  \"mxevywmm\" \n[139] \"zmwdfizx\"  \"qzyjvuuu\"  \"baixneqs\"  \"dtpqreqt\"  \"nshqrqsq\"  \"mubjnhbl\" \n[145] \"vmaehgdd\"  \"juwbceby\"  \"icvngilq\"  \"xaphdmrh\"  \"wywkzbmv\"  \"zyiloiwq\" \n[151] \"ikbqpefn\"  \"ryumfutv\"  \"deyypaan\"  \"sddrzodz\"  \"ycawmmmg\"  \"xqkkhyrw\" \n[157] \"qcbdtivh\"  \"nyrorfst\"  \"oabuzjaj\"  \"okkzvzrq\"  \"eiuvknpp\"  \"pvzsajwe\" \n[163] \"jwejbecs\"  \"goorltcp\"  \"gfrtmrok\"  \"djkmwsvr\"  \"pkavvdyc\"  \"ymirfbiy\" \n[169] \"shqmugsw\"  \"coidjgzx\"  \"gubxyfrc\"  \"tjpznvoq\"  \"bimeqbhn\"  \"dtfflqvw\" \n[175] \"vjclmwcz\"  \"ilgpkcmm\"  \"cugazknm\"  \"xnofvrde\"  \"jznbowrn\"  \"lvnlitex\" \n[181] \"ivfsjhci\"  \"gjkxykrw\"  \"xualkfdi\"  \"cqurkqpy\"  \"syysnrli\"  \"cdycdlzt\" \n[187] \"daahxehl\"  \"xkbuiicw\"  \"dnuedsjt\"  \"tfhgspmk\"  \"emdydllw\"  \"hgykefuh\" \n[193] \"qoajdlgb\"  \"foxnhnyv\"  \"pomkjwcu\"  \"ieetjcal\"  \"aeeznhvh\"  \"uvgnogzl\" \n[199] \"oomjvmbn\"  \"mcizkwfw\"  \"zcohvqvb\"  \"ahhstkve\"  \"jjxshbho\"  \"dosicsln\" \n[205] \"ituazben\"  \"jtqofgvj\"  \"kchbjdmh\"  \"ddetmpst\"  \"kgcqkfkn\"  \"iwakllce\" \n[211] \"fjrrtvlu\"  \"hwzhmlvr\"  \"cfqdfryi\"  \"ahrbthol\"  \"hthikklx\"  \"htuqnllo\" \n[217] \"qettkgxb\"  \"tomabpfm\"  \"fsrpqjdz\"  \"gwwznybg\"  \"znotmfkl\"  \"qbhnixgt\" \n[223] \"nzejatev\"  \"ozqttcsr\"  \"xagugyio\"  \"hqbiafrk\"  \"fmpzifzj\"  \"erkbwcvp\" \n[229] \"dugqqeri\"  \"uzjmyglm\"  \"nxxpkqam\"  \"zvfotvrr\"  \"lhodvydh\"  \"pnbwgmtz\" \n[235] \"srmsqutq\"  \"alassxvj\"  \"psejmcwd\"  \"ejsikwmm\"  \"uhqcrbcy\"  \"odmrfxwt\" \n[241] \"pzwgyfhz\"  \"tyohgxra\"  \"owlxzqtr\"  \"wfboykzl\"  \"mhrtcldh\"  \"qlrijdwx\" \n[247] \"iavtixom\"  \"ddboqhjz\"  \"ourvrkmr\"  \"nkuzaajo\"  \"odosfuwm\"  \"hshvgphi\" \n[253] \"oppiilnh\"  \"gexiyalg\"  \"wvpfuoal\"  \"srsbyqek\"  \"lmgpuizh\"  \"bvstzqwi\" \n[259] \"kdyryvhx\"  \"xqmmnkvt\"  \"uhlarqfq\"  \"iuwttqak\"  \"dqewvkev\"  \"hpzpkgie\" \n[265] \"zmisznzo\"  \"eqbhskih\"  \"zltduspr\"  \"hwbnjqih\"  \"gkzoocfc\"  \"gonyifps\" \n[271] \"jtcwnvsq\"  \"lysrxmfk\"  \"cqibtjve\"  \"plulysxj\"  \"lniyndps\"  \"rssxbyjz\" \n[277] \"hvyowaci\"  \"fqojclxm\"  \"dcoybxhh\"  \"jutxpcqm\"  \"pxgihbdm\"  \"ueccfpfh\" \n[283] \"inybustq\"  \"btabsbju\"  \"yjrluvts\"  \"xcrttaqs\"  \"imeunlnn\"  \"mndzapdu\" \n[289] \"kivehpow\"  \"ckthmpvd\"  \"dhjthadc\"  \"rlndulbm\"  \"udnxyrra\"  \"pacmyvfb\" \n[295] \"clsoabgs\"  \"uejrmani\"  \"povvlvyc\"  \"lhecwuop\"  \"ojmcfyxx\"  \"vyahmkia\" \n[301] \"dbdcoikv\"  \"juaygglg\"  \"lwdyhaak\"  \"fzgxjiam\"  \"kekmqjfo\"  \"agxbpgkp\" \n[307] \"kihwczpm\"  \"lqgcmndx\"  \"tzamegeb\"  \"zpibqeko\"  \"pgsvbxpu\"  \"bhiwziur\" \n[313] \"zjuvirhf\"  \"ovdbteok\"  \"hgidvavr\"  \"tpvuvhuw\"  \"ukbvxkjw\"  \"pspciyxe\" \n[319] \"dyincwoe\"  \"tqslnrou\"  \"ghgracsa\"  \"ppgfpscc\"  \"dtvjxeoc\"  \"pwrcudmf\" \n[325] \"tkmhfmrs\"  \"gkbnbvjm\"  \"yalvnnjj\"  \"weqqugvi\"  \"qverhlqa\"  \"aktpjyft\" \n[331] \"vsjrwtri\"  \"jknvamdk\"  \"krdrnzhg\"  \"xbsitwul\"  \"imunpnoy\"  \"wdtzemyf\" \n[337] \"jgnywghm\"  \"jqzbrdob\"  \"blobsdld\"  \"oavpwktz\"  \"lidycthz\"  \"wefafrpi\" \n[343] \"nrlevuec\"  \"btcvuutt\"  \"auenemcv\"  \"qkchorpa\"  \"yjeswaua\"  \"yrklnnwp\" \n[349] \"ozhzgnav\"  \"fmdtzegf\"  \"vbtkdjct\"  \"wvimgloi\"  \"mkqtrywq\"  \"tbxvpebo\" \n[355] \"mbfzkynp\"  \"lftdevvf\"  \"xnhcnhvm\"  \"vbgugdsl\"  \"xjtnvqad\"  \"ccenrwio\" \n[361] \"ulddbhjf\"  \"bkreylrm\"  \"rgbrhsxp\"  \"hznswkyd\"  \"tknoofwt\"  \"jzdwiyck\" \n[367] \"fxpasjaz\"  \"ivnzcrjj\"  \"ykvacnel\"  \"ryovfden\"  \"hfkjknqr\"  \"ridgwzrf\" \n[373] \"gygwedht\"  \"elffptep\"  \"sunyehsl\"  \"hopffcay\"  \"hcpqhdjn\"  \"fewwjbym\" \n[379] \"gmauabyr\"  \"vyuqqdgt\"  \"edwlugaz\"  \"ngujjnrj\"  \"afmjbtbu\"  \"ztvbnuga\" \n[385] \"cbkfbcbj\"  \"iujmxiwy\"  \"hinhkdhf\"  \"mfqdfvgo\"  \"jmnxskwu\"  \"fcwpzjah\" \n[391] \"lqjokehz\"  \"nkdujexw\"  \"flilnlej\"  \"tcdhfigh\"  \"qvbxzcqn\"  \"eqrporzz\" \n[397] \"zijakdmp\"  \"woxasqjd\"  \"ogaelsuy\"  \"esukypst\"  \"lxmmcjep\"  \"kccboyww\" \n[403] \"nacmafva\"  \"ugditiki\"  \"fkdqneqx\"  \"xuwsgoqp\"  \"qxrxgyzv\"  \"ntoctzpi\" \n[409] \"owoueamg\"  \"uubmfzgd\"  \"ufptzocr\"  \"kpwojbav\"  \"gvujhzsj\"  \"ltftsfhe\" \n[415] \"xpqkqhzh\"  \"dnjhyjhr\"  \"fmtclkcc\"  \"bamldkzw\"  \"duwjmwbt\"  \"hvqmopjz\" \n[421] \"wulszrlw\"  \"rtmimmwy\"  \"xuljkkwj\"  \"jkhfwsli\"  \"ukpfnaao\"  \"blkwfqbj\" \n[427] \"jfgxlqbe\"  \"pcfrubaw\"  \"znekxxhe\"  \"zelrmmyw\"  \"tkrzrikr\"  \"fmhzrsvh\" \n[433] \"izyqryky\"  \"rjxwqrzt\"  \"exzljibf\"  \"cojdaojy\"  \"yxcmekrt\"  \"tciotcqn\" \n[439] \"dashcebf\"  \"rqqpekgy\"  \"rounieet\"  \"kmroychy\"  \"pouvxrvb\"  \"vidctpyx\" \n[445] \"illutqiz\"  \"tldtdcio\"  \"mvezakwj\"  \"vqqvqetv\"  \"tkdeevgx\"  \"pbmuopzk\" \n[451] \"jqizwkbm\"  \"elgstsao\"  \"kpdebhgz\"  \"jbiglheo\"  \"lhsmlqhv\"  \"venyyesr\" \n[457] \"iadpzulh\"  \"zwhowimt\"  \"wrmrirpx\"  \"kawwhbug\"  \"hbktzoux\"  \"dtvpiwxn\" \n[463] \"rkjpgrxg\"  \"ljxzrycr\"  \"ngzjudna\"  \"fnvsjyxq\"  \"ijwwxjnw\"  \"kxsyghym\" \n[469] \"pbwrpthe\"  \"orzhxbbj\"  \"hixymryt\"  \"myxwpnwn\"  \"bxkbstxb\"  \"hmzruslc\" \n[475] \"cllqnuvl\"  \"qmclxdnu\"  \"oqdgplnp\"  \"eopbmmzy\"  \"wocuxyiw\"  \"rojkwpfy\" \n[481] \"cgevlmcf\"  \"axtbsexe\"  \"jsltrscz\"  \"nqbharqa\"  \"nqclzicc\"  \"dkghuhjc\" \n[487] \"haefmpof\"  \"vgkyyxpi\"  \"bcfeehdm\"  \"qphyejbu\"  \"uxeenczv\"  \"iraqatwm\" \n[493] \"nufdkzfl\"  \"skmwpptz\"  \"reldigbn\"  \"feinvsxr\"  \"oohbveku\"  \"pojmczdw\" \n[499] \"xgkghymi\"  \"ewsztltq\"  \"vkoiihzv\"  \"jtndytqp\"  \"knlfnmxj\"  \"woofufga\" \n[505] \"bfctbzrz\"  \"pagrjpzj\"  \"mcoabnrt\"  \"citiglpf\"  \"nvrczbof\"  \"mefpzjfw\" \n[511] \"zqqaikoe\"  \"efgqztzj\"  \"qhxywnjg\"  \"friozyjo\"  \"yayblmsk\"  \"yhfodwbg\" \n[517] \"itkrrdmk\"  \"pbpljfze\"  \"acnokrhk\"  \"vzrzloym\"  \"jxochzqk\"  \"radcldap\" \n[523] \"xgmmmytc\"  \"sitiublq\"  \"lphoqorg\"  \"denjzshl\"  \"bcgnoxbs\"  \"ehthyvwp\" \n[529] \"nbkteiik\"  \"vayeiwzm\"  \"ojvofsul\"  \"mlmzbyhf\"  \"nipbtdcx\"  \"uwiclcyr\" \n[535] \"yaxbsxhz\"  \"wiwcvvht\"  \"vfqqghrb\"  \"postgres\"  \"bxtufnek\"  \"xbsjqbvv\" \n[541] \"amxekblj\"  \"lbfymghh\"  \"hzvxiwbx\"  \"kmezddbi\"  \"noqddglp\"  \"uojhfltr\" \n[547] \"bsmdtcly\"  \"wbargjod\"  \"vetgxzoh\"  \"xhzdqofi\"  \"qavyilms\"  \"xahcntyb\" \n[553] \"xkdsuhmk\"  \"ctfawdcp\"  \"uhgtmjih\"  \"qtjdokji\"  \"qirccbht\"  \"qqywdkfb\" \n[559] \"xjzgvkia\"  \"vevxdnux\"  \"evbnklxn\"  \"zrwvlvgv\"  \"bixzkdnm\"  \"ddbokrfa\" \n[565] \"xhmaylyv\"  \"lqziaxfa\"  \"alghleug\"  \"entogblq\"  \"zdostxxj\"  \"vqfpvwkz\" \n[571] \"rvuzyeoq\"  \"zlroflbh\"  \"gadcjcul\"  \"guyljdfw\"  \"xxofepig\"  \"gvvoyrku\" \n[577] \"gldroiki\"  \"gusleauu\"  \"ngujflci\"  \"uudgeysk\"  \"hplxilrv\"  \"hfasnidr\" \n[583] \"kdozbvxa\"  \"rdptdjsc\"  \"jxrqtqqg\"  \"mtahntnt\"  \"vlquqgao\"  \"fqlbcdry\" \n[589] \"lewiezzp\"  \"nokhxztc\"  \"jrxykzwj\"  \"hdhlyazj\"  \"iuxtztqk\"  \"wsozuavo\" \n[595] \"vbsyxyle\"  \"icrtqqyj\"  \"qdtalkhc\"  \"vzargzzf\"  \"axzjnlzu\"  \"jnvyonyu\" \n[601] \"fqmiufge\"  \"izdtfmxe\"  \"ihemdvjq\"  \"yfylvsaf\"  \"iryrxcoy\"  \"lhjpofdk\" \n[607] \"nvusqouu\"  \"ogckctik\"  \"nmqcxequ\"  \"axhumlnr\"  \"lqhdtczw\"  \"mrsrruwm\" \n[613] \"asfiyvae\"  \"cnelylqs\"  \"vzlewhbn\"  \"rjwvzokq\"  \"pkehgyha\"  \"rufxyqwn\" \n[619] \"upjonqqo\"  \"mzqelczd\"  \"kmlhnjsx\"  \"bjlkxsvy\"  \"kdfykiob\"  \"cztfnuzv\" \n[625] \"upiwmape\"  \"enniypgu\"  \"zybgxqfo\"  \"dpmlbtyr\"  \"vrmdvqja\"  \"emnpclqt\" \n[631] \"xztyhmyt\"  \"ruloofty\"  \"zbxunmmo\"  \"yaegylrw\"  \"whyvhbjd\"  \"kigxjalj\" \n[637] \"iewdhjos\"  \"osoffbjh\"  \"cupkssjs\"  \"jnqstahx\"  \"tjcnxzee\" ", 
                        "text/markdown": "1. 'template1'\n2. 'template0'\n3. 'qhrlhjub'\n4. 'dmdrgfkh'\n5. 'hitkyrbb'\n6. 'csjlrsrn'\n7. 'gfcgpbmp'\n8. 'pesqbntq'\n9. 'isxflxan'\n10. 'tciwytqw'\n11. 'vbrbbqlz'\n12. 'stnrbwbg'\n13. 'ibcvrkdp'\n14. 'kiczavdw'\n15. 'erpkviqq'\n16. 'hxxplgil'\n17. 'mebyyfhn'\n18. 'kvgcuugn'\n19. 'ewxkbgbp'\n20. 'ivhbftfp'\n21. 'rzvrywdz'\n22. 'qyhtpwrs'\n23. 'noeoupse'\n24. 'kyqhfqcc'\n25. 'sslblurk'\n26. 'zmizwogy'\n27. 'efhpfvlz'\n28. 'uyqpffth'\n29. 'lmejkkfe'\n30. 'lznlqbfm'\n31. 'lozpcqvf'\n32. 'cavssykz'\n33. 'rqecnirg'\n34. 'wvnjdpsh'\n35. 'pwoxdake'\n36. 'hrrqoeos'\n37. 'lugcppzo'\n38. 'xgolmari'\n39. 'qlvrizxz'\n40. 'izrvffgj'\n41. 'slxnyrdh'\n42. 'ueoioxlc'\n43. 'vnepifvr'\n44. 'urnyivcc'\n45. 'aonrmntz'\n46. 'fxaoigui'\n47. 'cawrlsrj'\n48. 'wgbikraq'\n49. 'mmwydbpk'\n50. 'drgjjnfu'\n51. 'ghmvhxze'\n52. 'bgpquqda'\n53. 'fhqzrwzm'\n54. 'alfqrejg'\n55. 'rusdhhne'\n56. 'phmbeawd'\n57. 'gykauqjs'\n58. 'rqhvdogj'\n59. 'uinoaufa'\n60. 'ajyubwtg'\n61. 'brkezaqp'\n62. 'vgxrztpn'\n63. 'eocdzgqy'\n64. 'ywgamtjc'\n65. 'cxtbqzsi'\n66. 'kpdcplxi'\n67. 'daqougbn'\n68. 'apidueru'\n69. 'iqvstdjv'\n70. 'hwlhtgmj'\n71. 'ffnvoqxq'\n72. 'zgbdrbpx'\n73. 'wxasfubd'\n74. 'agqzxrhf'\n75. 'arkobzfr'\n76. 'rnfaviiu'\n77. 'eotqkzqc'\n78. 'thowaxjw'\n79. 'xuwbyrcu'\n80. 'zvteqxdg'\n81. 'fmusgkac'\n82. 'mrkzanaw'\n83. 'cvsxqqik'\n84. 'eczfboas'\n85. 'uannzbrp'\n86. 'eeyqjswi'\n87. 'rlnvjcrt'\n88. 'htojcpxc'\n89. 'xlgfxzpa'\n90. 'kevjmcci'\n91. 'wtnngzzy'\n92. 'eukjokgu'\n93. 'lukwngfo'\n94. 'swjbgnne'\n95. 'aqnoalsn'\n96. 'xrgpqaee'\n97. 'vvkjxjce'\n98. 'wqnxbvue'\n99. 'sugmvulo'\n100. 'xesfggxt'\n101. 'wbjosdcs'\n102. 'bxvxhuzd'\n103. 'jbrfcxmo'\n104. 'osbllhtf'\n105. 'sjmpquxu'\n106. 'zmhmgryi'\n107. 'kpgqisrf'\n108. 'cidphtrv'\n109. 'mmlsheyh'\n110. 'pzvroxkc'\n111. 'vnqplaqv'\n112. 'jydfifna'\n113. 'psozcgtf'\n114. 'djsvwjso'\n115. 'rebbldly'\n116. 'rtyhkusj'\n117. 'gtycpzhb'\n118. 'zmqvypza'\n119. 'jseujvly'\n120. 'uqevsijv'\n121. 'zifsplin'\n122. 'bklkzwor'\n123. 'njemvrea'\n124. 'jvarnbqk'\n125. 'suacduhj'\n126. 'plsywcyh'\n127. 'gzuqtcde'\n128. 'uewybdsq'\n129. 'talowkrn'\n130. 'lnrwhxil'\n131. 'usfaumdi'\n132. 'ulynbjne'\n133. 'xnfwrrzg'\n134. 'pylfyxob'\n135. 'abfhtxwo'\n136. 'adplbzzy'\n137. 'vdjwumlk'\n138. 'mxevywmm'\n139. 'zmwdfizx'\n140. 'qzyjvuuu'\n141. 'baixneqs'\n142. 'dtpqreqt'\n143. 'nshqrqsq'\n144. 'mubjnhbl'\n145. 'vmaehgdd'\n146. 'juwbceby'\n147. 'icvngilq'\n148. 'xaphdmrh'\n149. 'wywkzbmv'\n150. 'zyiloiwq'\n151. 'ikbqpefn'\n152. 'ryumfutv'\n153. 'deyypaan'\n154. 'sddrzodz'\n155. 'ycawmmmg'\n156. 'xqkkhyrw'\n157. 'qcbdtivh'\n158. 'nyrorfst'\n159. 'oabuzjaj'\n160. 'okkzvzrq'\n161. 'eiuvknpp'\n162. 'pvzsajwe'\n163. 'jwejbecs'\n164. 'goorltcp'\n165. 'gfrtmrok'\n166. 'djkmwsvr'\n167. 'pkavvdyc'\n168. 'ymirfbiy'\n169. 'shqmugsw'\n170. 'coidjgzx'\n171. 'gubxyfrc'\n172. 'tjpznvoq'\n173. 'bimeqbhn'\n174. 'dtfflqvw'\n175. 'vjclmwcz'\n176. 'ilgpkcmm'\n177. 'cugazknm'\n178. 'xnofvrde'\n179. 'jznbowrn'\n180. 'lvnlitex'\n181. 'ivfsjhci'\n182. 'gjkxykrw'\n183. 'xualkfdi'\n184. 'cqurkqpy'\n185. 'syysnrli'\n186. 'cdycdlzt'\n187. 'daahxehl'\n188. 'xkbuiicw'\n189. 'dnuedsjt'\n190. 'tfhgspmk'\n191. 'emdydllw'\n192. 'hgykefuh'\n193. 'qoajdlgb'\n194. 'foxnhnyv'\n195. 'pomkjwcu'\n196. 'ieetjcal'\n197. 'aeeznhvh'\n198. 'uvgnogzl'\n199. 'oomjvmbn'\n200. 'mcizkwfw'\n201. 'zcohvqvb'\n202. 'ahhstkve'\n203. 'jjxshbho'\n204. 'dosicsln'\n205. 'ituazben'\n206. 'jtqofgvj'\n207. 'kchbjdmh'\n208. 'ddetmpst'\n209. 'kgcqkfkn'\n210. 'iwakllce'\n211. 'fjrrtvlu'\n212. 'hwzhmlvr'\n213. 'cfqdfryi'\n214. 'ahrbthol'\n215. 'hthikklx'\n216. 'htuqnllo'\n217. 'qettkgxb'\n218. 'tomabpfm'\n219. 'fsrpqjdz'\n220. 'gwwznybg'\n221. 'znotmfkl'\n222. 'qbhnixgt'\n223. 'nzejatev'\n224. 'ozqttcsr'\n225. 'xagugyio'\n226. 'hqbiafrk'\n227. 'fmpzifzj'\n228. 'erkbwcvp'\n229. 'dugqqeri'\n230. 'uzjmyglm'\n231. 'nxxpkqam'\n232. 'zvfotvrr'\n233. 'lhodvydh'\n234. 'pnbwgmtz'\n235. 'srmsqutq'\n236. 'alassxvj'\n237. 'psejmcwd'\n238. 'ejsikwmm'\n239. 'uhqcrbcy'\n240. 'odmrfxwt'\n241. 'pzwgyfhz'\n242. 'tyohgxra'\n243. 'owlxzqtr'\n244. 'wfboykzl'\n245. 'mhrtcldh'\n246. 'qlrijdwx'\n247. 'iavtixom'\n248. 'ddboqhjz'\n249. 'ourvrkmr'\n250. 'nkuzaajo'\n251. 'odosfuwm'\n252. 'hshvgphi'\n253. 'oppiilnh'\n254. 'gexiyalg'\n255. 'wvpfuoal'\n256. 'srsbyqek'\n257. 'lmgpuizh'\n258. 'bvstzqwi'\n259. 'kdyryvhx'\n260. 'xqmmnkvt'\n261. 'uhlarqfq'\n262. 'iuwttqak'\n263. 'dqewvkev'\n264. 'hpzpkgie'\n265. 'zmisznzo'\n266. 'eqbhskih'\n267. 'zltduspr'\n268. 'hwbnjqih'\n269. 'gkzoocfc'\n270. 'gonyifps'\n271. 'jtcwnvsq'\n272. 'lysrxmfk'\n273. 'cqibtjve'\n274. 'plulysxj'\n275. 'lniyndps'\n276. 'rssxbyjz'\n277. 'hvyowaci'\n278. 'fqojclxm'\n279. 'dcoybxhh'\n280. 'jutxpcqm'\n281. 'pxgihbdm'\n282. 'ueccfpfh'\n283. 'inybustq'\n284. 'btabsbju'\n285. 'yjrluvts'\n286. 'xcrttaqs'\n287. 'imeunlnn'\n288. 'mndzapdu'\n289. 'kivehpow'\n290. 'ckthmpvd'\n291. 'dhjthadc'\n292. 'rlndulbm'\n293. 'udnxyrra'\n294. 'pacmyvfb'\n295. 'clsoabgs'\n296. 'uejrmani'\n297. 'povvlvyc'\n298. 'lhecwuop'\n299. 'ojmcfyxx'\n300. 'vyahmkia'\n301. 'dbdcoikv'\n302. 'juaygglg'\n303. 'lwdyhaak'\n304. 'fzgxjiam'\n305. 'kekmqjfo'\n306. 'agxbpgkp'\n307. 'kihwczpm'\n308. 'lqgcmndx'\n309. 'tzamegeb'\n310. 'zpibqeko'\n311. 'pgsvbxpu'\n312. 'bhiwziur'\n313. 'zjuvirhf'\n314. 'ovdbteok'\n315. 'hgidvavr'\n316. 'tpvuvhuw'\n317. 'ukbvxkjw'\n318. 'pspciyxe'\n319. 'dyincwoe'\n320. 'tqslnrou'\n321. 'ghgracsa'\n322. 'ppgfpscc'\n323. 'dtvjxeoc'\n324. 'pwrcudmf'\n325. 'tkmhfmrs'\n326. 'gkbnbvjm'\n327. 'yalvnnjj'\n328. 'weqqugvi'\n329. 'qverhlqa'\n330. 'aktpjyft'\n331. 'vsjrwtri'\n332. 'jknvamdk'\n333. 'krdrnzhg'\n334. 'xbsitwul'\n335. 'imunpnoy'\n336. 'wdtzemyf'\n337. 'jgnywghm'\n338. 'jqzbrdob'\n339. 'blobsdld'\n340. 'oavpwktz'\n341. 'lidycthz'\n342. 'wefafrpi'\n343. 'nrlevuec'\n344. 'btcvuutt'\n345. 'auenemcv'\n346. 'qkchorpa'\n347. 'yjeswaua'\n348. 'yrklnnwp'\n349. 'ozhzgnav'\n350. 'fmdtzegf'\n351. 'vbtkdjct'\n352. 'wvimgloi'\n353. 'mkqtrywq'\n354. 'tbxvpebo'\n355. 'mbfzkynp'\n356. 'lftdevvf'\n357. 'xnhcnhvm'\n358. 'vbgugdsl'\n359. 'xjtnvqad'\n360. 'ccenrwio'\n361. 'ulddbhjf'\n362. 'bkreylrm'\n363. 'rgbrhsxp'\n364. 'hznswkyd'\n365. 'tknoofwt'\n366. 'jzdwiyck'\n367. 'fxpasjaz'\n368. 'ivnzcrjj'\n369. 'ykvacnel'\n370. 'ryovfden'\n371. 'hfkjknqr'\n372. 'ridgwzrf'\n373. 'gygwedht'\n374. 'elffptep'\n375. 'sunyehsl'\n376. 'hopffcay'\n377. 'hcpqhdjn'\n378. 'fewwjbym'\n379. 'gmauabyr'\n380. 'vyuqqdgt'\n381. 'edwlugaz'\n382. 'ngujjnrj'\n383. 'afmjbtbu'\n384. 'ztvbnuga'\n385. 'cbkfbcbj'\n386. 'iujmxiwy'\n387. 'hinhkdhf'\n388. 'mfqdfvgo'\n389. 'jmnxskwu'\n390. 'fcwpzjah'\n391. 'lqjokehz'\n392. 'nkdujexw'\n393. 'flilnlej'\n394. 'tcdhfigh'\n395. 'qvbxzcqn'\n396. 'eqrporzz'\n397. 'zijakdmp'\n398. 'woxasqjd'\n399. 'ogaelsuy'\n400. 'esukypst'\n401. 'lxmmcjep'\n402. 'kccboyww'\n403. 'nacmafva'\n404. 'ugditiki'\n405. 'fkdqneqx'\n406. 'xuwsgoqp'\n407. 'qxrxgyzv'\n408. 'ntoctzpi'\n409. 'owoueamg'\n410. 'uubmfzgd'\n411. 'ufptzocr'\n412. 'kpwojbav'\n413. 'gvujhzsj'\n414. 'ltftsfhe'\n415. 'xpqkqhzh'\n416. 'dnjhyjhr'\n417. 'fmtclkcc'\n418. 'bamldkzw'\n419. 'duwjmwbt'\n420. 'hvqmopjz'\n421. 'wulszrlw'\n422. 'rtmimmwy'\n423. 'xuljkkwj'\n424. 'jkhfwsli'\n425. 'ukpfnaao'\n426. 'blkwfqbj'\n427. 'jfgxlqbe'\n428. 'pcfrubaw'\n429. 'znekxxhe'\n430. 'zelrmmyw'\n431. 'tkrzrikr'\n432. 'fmhzrsvh'\n433. 'izyqryky'\n434. 'rjxwqrzt'\n435. 'exzljibf'\n436. 'cojdaojy'\n437. 'yxcmekrt'\n438. 'tciotcqn'\n439. 'dashcebf'\n440. 'rqqpekgy'\n441. 'rounieet'\n442. 'kmroychy'\n443. 'pouvxrvb'\n444. 'vidctpyx'\n445. 'illutqiz'\n446. 'tldtdcio'\n447. 'mvezakwj'\n448. 'vqqvqetv'\n449. 'tkdeevgx'\n450. 'pbmuopzk'\n451. 'jqizwkbm'\n452. 'elgstsao'\n453. 'kpdebhgz'\n454. 'jbiglheo'\n455. 'lhsmlqhv'\n456. 'venyyesr'\n457. 'iadpzulh'\n458. 'zwhowimt'\n459. 'wrmrirpx'\n460. 'kawwhbug'\n461. 'hbktzoux'\n462. 'dtvpiwxn'\n463. 'rkjpgrxg'\n464. 'ljxzrycr'\n465. 'ngzjudna'\n466. 'fnvsjyxq'\n467. 'ijwwxjnw'\n468. 'kxsyghym'\n469. 'pbwrpthe'\n470. 'orzhxbbj'\n471. 'hixymryt'\n472. 'myxwpnwn'\n473. 'bxkbstxb'\n474. 'hmzruslc'\n475. 'cllqnuvl'\n476. 'qmclxdnu'\n477. 'oqdgplnp'\n478. 'eopbmmzy'\n479. 'wocuxyiw'\n480. 'rojkwpfy'\n481. 'cgevlmcf'\n482. 'axtbsexe'\n483. 'jsltrscz'\n484. 'nqbharqa'\n485. 'nqclzicc'\n486. 'dkghuhjc'\n487. 'haefmpof'\n488. 'vgkyyxpi'\n489. 'bcfeehdm'\n490. 'qphyejbu'\n491. 'uxeenczv'\n492. 'iraqatwm'\n493. 'nufdkzfl'\n494. 'skmwpptz'\n495. 'reldigbn'\n496. 'feinvsxr'\n497. 'oohbveku'\n498. 'pojmczdw'\n499. 'xgkghymi'\n500. 'ewsztltq'\n501. 'vkoiihzv'\n502. 'jtndytqp'\n503. 'knlfnmxj'\n504. 'woofufga'\n505. 'bfctbzrz'\n506. 'pagrjpzj'\n507. 'mcoabnrt'\n508. 'citiglpf'\n509. 'nvrczbof'\n510. 'mefpzjfw'\n511. 'zqqaikoe'\n512. 'efgqztzj'\n513. 'qhxywnjg'\n514. 'friozyjo'\n515. 'yayblmsk'\n516. 'yhfodwbg'\n517. 'itkrrdmk'\n518. 'pbpljfze'\n519. 'acnokrhk'\n520. 'vzrzloym'\n521. 'jxochzqk'\n522. 'radcldap'\n523. 'xgmmmytc'\n524. 'sitiublq'\n525. 'lphoqorg'\n526. 'denjzshl'\n527. 'bcgnoxbs'\n528. 'ehthyvwp'\n529. 'nbkteiik'\n530. 'vayeiwzm'\n531. 'ojvofsul'\n532. 'mlmzbyhf'\n533. 'nipbtdcx'\n534. 'uwiclcyr'\n535. 'yaxbsxhz'\n536. 'wiwcvvht'\n537. 'vfqqghrb'\n538. 'postgres'\n539. 'bxtufnek'\n540. 'xbsjqbvv'\n541. 'amxekblj'\n542. 'lbfymghh'\n543. 'hzvxiwbx'\n544. 'kmezddbi'\n545. 'noqddglp'\n546. 'uojhfltr'\n547. 'bsmdtcly'\n548. 'wbargjod'\n549. 'vetgxzoh'\n550. 'xhzdqofi'\n551. 'qavyilms'\n552. 'xahcntyb'\n553. 'xkdsuhmk'\n554. 'ctfawdcp'\n555. 'uhgtmjih'\n556. 'qtjdokji'\n557. 'qirccbht'\n558. 'qqywdkfb'\n559. 'xjzgvkia'\n560. 'vevxdnux'\n561. 'evbnklxn'\n562. 'zrwvlvgv'\n563. 'bixzkdnm'\n564. 'ddbokrfa'\n565. 'xhmaylyv'\n566. 'lqziaxfa'\n567. 'alghleug'\n568. 'entogblq'\n569. 'zdostxxj'\n570. 'vqfpvwkz'\n571. 'rvuzyeoq'\n572. 'zlroflbh'\n573. 'gadcjcul'\n574. 'guyljdfw'\n575. 'xxofepig'\n576. 'gvvoyrku'\n577. 'gldroiki'\n578. 'gusleauu'\n579. 'ngujflci'\n580. 'uudgeysk'\n581. 'hplxilrv'\n582. 'hfasnidr'\n583. 'kdozbvxa'\n584. 'rdptdjsc'\n585. 'jxrqtqqg'\n586. 'mtahntnt'\n587. 'vlquqgao'\n588. 'fqlbcdry'\n589. 'lewiezzp'\n590. 'nokhxztc'\n591. 'jrxykzwj'\n592. 'hdhlyazj'\n593. 'iuxtztqk'\n594. 'wsozuavo'\n595. 'vbsyxyle'\n596. 'icrtqqyj'\n597. 'qdtalkhc'\n598. 'vzargzzf'\n599. 'axzjnlzu'\n600. 'jnvyonyu'\n601. 'fqmiufge'\n602. 'izdtfmxe'\n603. 'ihemdvjq'\n604. 'yfylvsaf'\n605. 'iryrxcoy'\n606. 'lhjpofdk'\n607. 'nvusqouu'\n608. 'ogckctik'\n609. 'nmqcxequ'\n610. 'axhumlnr'\n611. 'lqhdtczw'\n612. 'mrsrruwm'\n613. 'asfiyvae'\n614. 'cnelylqs'\n615. 'vzlewhbn'\n616. 'rjwvzokq'\n617. 'pkehgyha'\n618. 'rufxyqwn'\n619. 'upjonqqo'\n620. 'mzqelczd'\n621. 'kmlhnjsx'\n622. 'bjlkxsvy'\n623. 'kdfykiob'\n624. 'cztfnuzv'\n625. 'upiwmape'\n626. 'enniypgu'\n627. 'zybgxqfo'\n628. 'dpmlbtyr'\n629. 'vrmdvqja'\n630. 'emnpclqt'\n631. 'xztyhmyt'\n632. 'ruloofty'\n633. 'zbxunmmo'\n634. 'yaegylrw'\n635. 'whyvhbjd'\n636. 'kigxjalj'\n637. 'iewdhjos'\n638. 'osoffbjh'\n639. 'cupkssjs'\n640. 'jnqstahx'\n641. 'tjcnxzee'\n\n\n", 
                        "text/latex": "\\begin{enumerate*}\n\\item 'template1'\n\\item 'template0'\n\\item 'qhrlhjub'\n\\item 'dmdrgfkh'\n\\item 'hitkyrbb'\n\\item 'csjlrsrn'\n\\item 'gfcgpbmp'\n\\item 'pesqbntq'\n\\item 'isxflxan'\n\\item 'tciwytqw'\n\\item 'vbrbbqlz'\n\\item 'stnrbwbg'\n\\item 'ibcvrkdp'\n\\item 'kiczavdw'\n\\item 'erpkviqq'\n\\item 'hxxplgil'\n\\item 'mebyyfhn'\n\\item 'kvgcuugn'\n\\item 'ewxkbgbp'\n\\item 'ivhbftfp'\n\\item 'rzvrywdz'\n\\item 'qyhtpwrs'\n\\item 'noeoupse'\n\\item 'kyqhfqcc'\n\\item 'sslblurk'\n\\item 'zmizwogy'\n\\item 'efhpfvlz'\n\\item 'uyqpffth'\n\\item 'lmejkkfe'\n\\item 'lznlqbfm'\n\\item 'lozpcqvf'\n\\item 'cavssykz'\n\\item 'rqecnirg'\n\\item 'wvnjdpsh'\n\\item 'pwoxdake'\n\\item 'hrrqoeos'\n\\item 'lugcppzo'\n\\item 'xgolmari'\n\\item 'qlvrizxz'\n\\item 'izrvffgj'\n\\item 'slxnyrdh'\n\\item 'ueoioxlc'\n\\item 'vnepifvr'\n\\item 'urnyivcc'\n\\item 'aonrmntz'\n\\item 'fxaoigui'\n\\item 'cawrlsrj'\n\\item 'wgbikraq'\n\\item 'mmwydbpk'\n\\item 'drgjjnfu'\n\\item 'ghmvhxze'\n\\item 'bgpquqda'\n\\item 'fhqzrwzm'\n\\item 'alfqrejg'\n\\item 'rusdhhne'\n\\item 'phmbeawd'\n\\item 'gykauqjs'\n\\item 'rqhvdogj'\n\\item 'uinoaufa'\n\\item 'ajyubwtg'\n\\item 'brkezaqp'\n\\item 'vgxrztpn'\n\\item 'eocdzgqy'\n\\item 'ywgamtjc'\n\\item 'cxtbqzsi'\n\\item 'kpdcplxi'\n\\item 'daqougbn'\n\\item 'apidueru'\n\\item 'iqvstdjv'\n\\item 'hwlhtgmj'\n\\item 'ffnvoqxq'\n\\item 'zgbdrbpx'\n\\item 'wxasfubd'\n\\item 'agqzxrhf'\n\\item 'arkobzfr'\n\\item 'rnfaviiu'\n\\item 'eotqkzqc'\n\\item 'thowaxjw'\n\\item 'xuwbyrcu'\n\\item 'zvteqxdg'\n\\item 'fmusgkac'\n\\item 'mrkzanaw'\n\\item 'cvsxqqik'\n\\item 'eczfboas'\n\\item 'uannzbrp'\n\\item 'eeyqjswi'\n\\item 'rlnvjcrt'\n\\item 'htojcpxc'\n\\item 'xlgfxzpa'\n\\item 'kevjmcci'\n\\item 'wtnngzzy'\n\\item 'eukjokgu'\n\\item 'lukwngfo'\n\\item 'swjbgnne'\n\\item 'aqnoalsn'\n\\item 'xrgpqaee'\n\\item 'vvkjxjce'\n\\item 'wqnxbvue'\n\\item 'sugmvulo'\n\\item 'xesfggxt'\n\\item 'wbjosdcs'\n\\item 'bxvxhuzd'\n\\item 'jbrfcxmo'\n\\item 'osbllhtf'\n\\item 'sjmpquxu'\n\\item 'zmhmgryi'\n\\item 'kpgqisrf'\n\\item 'cidphtrv'\n\\item 'mmlsheyh'\n\\item 'pzvroxkc'\n\\item 'vnqplaqv'\n\\item 'jydfifna'\n\\item 'psozcgtf'\n\\item 'djsvwjso'\n\\item 'rebbldly'\n\\item 'rtyhkusj'\n\\item 'gtycpzhb'\n\\item 'zmqvypza'\n\\item 'jseujvly'\n\\item 'uqevsijv'\n\\item 'zifsplin'\n\\item 'bklkzwor'\n\\item 'njemvrea'\n\\item 'jvarnbqk'\n\\item 'suacduhj'\n\\item 'plsywcyh'\n\\item 'gzuqtcde'\n\\item 'uewybdsq'\n\\item 'talowkrn'\n\\item 'lnrwhxil'\n\\item 'usfaumdi'\n\\item 'ulynbjne'\n\\item 'xnfwrrzg'\n\\item 'pylfyxob'\n\\item 'abfhtxwo'\n\\item 'adplbzzy'\n\\item 'vdjwumlk'\n\\item 'mxevywmm'\n\\item 'zmwdfizx'\n\\item 'qzyjvuuu'\n\\item 'baixneqs'\n\\item 'dtpqreqt'\n\\item 'nshqrqsq'\n\\item 'mubjnhbl'\n\\item 'vmaehgdd'\n\\item 'juwbceby'\n\\item 'icvngilq'\n\\item 'xaphdmrh'\n\\item 'wywkzbmv'\n\\item 'zyiloiwq'\n\\item 'ikbqpefn'\n\\item 'ryumfutv'\n\\item 'deyypaan'\n\\item 'sddrzodz'\n\\item 'ycawmmmg'\n\\item 'xqkkhyrw'\n\\item 'qcbdtivh'\n\\item 'nyrorfst'\n\\item 'oabuzjaj'\n\\item 'okkzvzrq'\n\\item 'eiuvknpp'\n\\item 'pvzsajwe'\n\\item 'jwejbecs'\n\\item 'goorltcp'\n\\item 'gfrtmrok'\n\\item 'djkmwsvr'\n\\item 'pkavvdyc'\n\\item 'ymirfbiy'\n\\item 'shqmugsw'\n\\item 'coidjgzx'\n\\item 'gubxyfrc'\n\\item 'tjpznvoq'\n\\item 'bimeqbhn'\n\\item 'dtfflqvw'\n\\item 'vjclmwcz'\n\\item 'ilgpkcmm'\n\\item 'cugazknm'\n\\item 'xnofvrde'\n\\item 'jznbowrn'\n\\item 'lvnlitex'\n\\item 'ivfsjhci'\n\\item 'gjkxykrw'\n\\item 'xualkfdi'\n\\item 'cqurkqpy'\n\\item 'syysnrli'\n\\item 'cdycdlzt'\n\\item 'daahxehl'\n\\item 'xkbuiicw'\n\\item 'dnuedsjt'\n\\item 'tfhgspmk'\n\\item 'emdydllw'\n\\item 'hgykefuh'\n\\item 'qoajdlgb'\n\\item 'foxnhnyv'\n\\item 'pomkjwcu'\n\\item 'ieetjcal'\n\\item 'aeeznhvh'\n\\item 'uvgnogzl'\n\\item 'oomjvmbn'\n\\item 'mcizkwfw'\n\\item 'zcohvqvb'\n\\item 'ahhstkve'\n\\item 'jjxshbho'\n\\item 'dosicsln'\n\\item 'ituazben'\n\\item 'jtqofgvj'\n\\item 'kchbjdmh'\n\\item 'ddetmpst'\n\\item 'kgcqkfkn'\n\\item 'iwakllce'\n\\item 'fjrrtvlu'\n\\item 'hwzhmlvr'\n\\item 'cfqdfryi'\n\\item 'ahrbthol'\n\\item 'hthikklx'\n\\item 'htuqnllo'\n\\item 'qettkgxb'\n\\item 'tomabpfm'\n\\item 'fsrpqjdz'\n\\item 'gwwznybg'\n\\item 'znotmfkl'\n\\item 'qbhnixgt'\n\\item 'nzejatev'\n\\item 'ozqttcsr'\n\\item 'xagugyio'\n\\item 'hqbiafrk'\n\\item 'fmpzifzj'\n\\item 'erkbwcvp'\n\\item 'dugqqeri'\n\\item 'uzjmyglm'\n\\item 'nxxpkqam'\n\\item 'zvfotvrr'\n\\item 'lhodvydh'\n\\item 'pnbwgmtz'\n\\item 'srmsqutq'\n\\item 'alassxvj'\n\\item 'psejmcwd'\n\\item 'ejsikwmm'\n\\item 'uhqcrbcy'\n\\item 'odmrfxwt'\n\\item 'pzwgyfhz'\n\\item 'tyohgxra'\n\\item 'owlxzqtr'\n\\item 'wfboykzl'\n\\item 'mhrtcldh'\n\\item 'qlrijdwx'\n\\item 'iavtixom'\n\\item 'ddboqhjz'\n\\item 'ourvrkmr'\n\\item 'nkuzaajo'\n\\item 'odosfuwm'\n\\item 'hshvgphi'\n\\item 'oppiilnh'\n\\item 'gexiyalg'\n\\item 'wvpfuoal'\n\\item 'srsbyqek'\n\\item 'lmgpuizh'\n\\item 'bvstzqwi'\n\\item 'kdyryvhx'\n\\item 'xqmmnkvt'\n\\item 'uhlarqfq'\n\\item 'iuwttqak'\n\\item 'dqewvkev'\n\\item 'hpzpkgie'\n\\item 'zmisznzo'\n\\item 'eqbhskih'\n\\item 'zltduspr'\n\\item 'hwbnjqih'\n\\item 'gkzoocfc'\n\\item 'gonyifps'\n\\item 'jtcwnvsq'\n\\item 'lysrxmfk'\n\\item 'cqibtjve'\n\\item 'plulysxj'\n\\item 'lniyndps'\n\\item 'rssxbyjz'\n\\item 'hvyowaci'\n\\item 'fqojclxm'\n\\item 'dcoybxhh'\n\\item 'jutxpcqm'\n\\item 'pxgihbdm'\n\\item 'ueccfpfh'\n\\item 'inybustq'\n\\item 'btabsbju'\n\\item 'yjrluvts'\n\\item 'xcrttaqs'\n\\item 'imeunlnn'\n\\item 'mndzapdu'\n\\item 'kivehpow'\n\\item 'ckthmpvd'\n\\item 'dhjthadc'\n\\item 'rlndulbm'\n\\item 'udnxyrra'\n\\item 'pacmyvfb'\n\\item 'clsoabgs'\n\\item 'uejrmani'\n\\item 'povvlvyc'\n\\item 'lhecwuop'\n\\item 'ojmcfyxx'\n\\item 'vyahmkia'\n\\item 'dbdcoikv'\n\\item 'juaygglg'\n\\item 'lwdyhaak'\n\\item 'fzgxjiam'\n\\item 'kekmqjfo'\n\\item 'agxbpgkp'\n\\item 'kihwczpm'\n\\item 'lqgcmndx'\n\\item 'tzamegeb'\n\\item 'zpibqeko'\n\\item 'pgsvbxpu'\n\\item 'bhiwziur'\n\\item 'zjuvirhf'\n\\item 'ovdbteok'\n\\item 'hgidvavr'\n\\item 'tpvuvhuw'\n\\item 'ukbvxkjw'\n\\item 'pspciyxe'\n\\item 'dyincwoe'\n\\item 'tqslnrou'\n\\item 'ghgracsa'\n\\item 'ppgfpscc'\n\\item 'dtvjxeoc'\n\\item 'pwrcudmf'\n\\item 'tkmhfmrs'\n\\item 'gkbnbvjm'\n\\item 'yalvnnjj'\n\\item 'weqqugvi'\n\\item 'qverhlqa'\n\\item 'aktpjyft'\n\\item 'vsjrwtri'\n\\item 'jknvamdk'\n\\item 'krdrnzhg'\n\\item 'xbsitwul'\n\\item 'imunpnoy'\n\\item 'wdtzemyf'\n\\item 'jgnywghm'\n\\item 'jqzbrdob'\n\\item 'blobsdld'\n\\item 'oavpwktz'\n\\item 'lidycthz'\n\\item 'wefafrpi'\n\\item 'nrlevuec'\n\\item 'btcvuutt'\n\\item 'auenemcv'\n\\item 'qkchorpa'\n\\item 'yjeswaua'\n\\item 'yrklnnwp'\n\\item 'ozhzgnav'\n\\item 'fmdtzegf'\n\\item 'vbtkdjct'\n\\item 'wvimgloi'\n\\item 'mkqtrywq'\n\\item 'tbxvpebo'\n\\item 'mbfzkynp'\n\\item 'lftdevvf'\n\\item 'xnhcnhvm'\n\\item 'vbgugdsl'\n\\item 'xjtnvqad'\n\\item 'ccenrwio'\n\\item 'ulddbhjf'\n\\item 'bkreylrm'\n\\item 'rgbrhsxp'\n\\item 'hznswkyd'\n\\item 'tknoofwt'\n\\item 'jzdwiyck'\n\\item 'fxpasjaz'\n\\item 'ivnzcrjj'\n\\item 'ykvacnel'\n\\item 'ryovfden'\n\\item 'hfkjknqr'\n\\item 'ridgwzrf'\n\\item 'gygwedht'\n\\item 'elffptep'\n\\item 'sunyehsl'\n\\item 'hopffcay'\n\\item 'hcpqhdjn'\n\\item 'fewwjbym'\n\\item 'gmauabyr'\n\\item 'vyuqqdgt'\n\\item 'edwlugaz'\n\\item 'ngujjnrj'\n\\item 'afmjbtbu'\n\\item 'ztvbnuga'\n\\item 'cbkfbcbj'\n\\item 'iujmxiwy'\n\\item 'hinhkdhf'\n\\item 'mfqdfvgo'\n\\item 'jmnxskwu'\n\\item 'fcwpzjah'\n\\item 'lqjokehz'\n\\item 'nkdujexw'\n\\item 'flilnlej'\n\\item 'tcdhfigh'\n\\item 'qvbxzcqn'\n\\item 'eqrporzz'\n\\item 'zijakdmp'\n\\item 'woxasqjd'\n\\item 'ogaelsuy'\n\\item 'esukypst'\n\\item 'lxmmcjep'\n\\item 'kccboyww'\n\\item 'nacmafva'\n\\item 'ugditiki'\n\\item 'fkdqneqx'\n\\item 'xuwsgoqp'\n\\item 'qxrxgyzv'\n\\item 'ntoctzpi'\n\\item 'owoueamg'\n\\item 'uubmfzgd'\n\\item 'ufptzocr'\n\\item 'kpwojbav'\n\\item 'gvujhzsj'\n\\item 'ltftsfhe'\n\\item 'xpqkqhzh'\n\\item 'dnjhyjhr'\n\\item 'fmtclkcc'\n\\item 'bamldkzw'\n\\item 'duwjmwbt'\n\\item 'hvqmopjz'\n\\item 'wulszrlw'\n\\item 'rtmimmwy'\n\\item 'xuljkkwj'\n\\item 'jkhfwsli'\n\\item 'ukpfnaao'\n\\item 'blkwfqbj'\n\\item 'jfgxlqbe'\n\\item 'pcfrubaw'\n\\item 'znekxxhe'\n\\item 'zelrmmyw'\n\\item 'tkrzrikr'\n\\item 'fmhzrsvh'\n\\item 'izyqryky'\n\\item 'rjxwqrzt'\n\\item 'exzljibf'\n\\item 'cojdaojy'\n\\item 'yxcmekrt'\n\\item 'tciotcqn'\n\\item 'dashcebf'\n\\item 'rqqpekgy'\n\\item 'rounieet'\n\\item 'kmroychy'\n\\item 'pouvxrvb'\n\\item 'vidctpyx'\n\\item 'illutqiz'\n\\item 'tldtdcio'\n\\item 'mvezakwj'\n\\item 'vqqvqetv'\n\\item 'tkdeevgx'\n\\item 'pbmuopzk'\n\\item 'jqizwkbm'\n\\item 'elgstsao'\n\\item 'kpdebhgz'\n\\item 'jbiglheo'\n\\item 'lhsmlqhv'\n\\item 'venyyesr'\n\\item 'iadpzulh'\n\\item 'zwhowimt'\n\\item 'wrmrirpx'\n\\item 'kawwhbug'\n\\item 'hbktzoux'\n\\item 'dtvpiwxn'\n\\item 'rkjpgrxg'\n\\item 'ljxzrycr'\n\\item 'ngzjudna'\n\\item 'fnvsjyxq'\n\\item 'ijwwxjnw'\n\\item 'kxsyghym'\n\\item 'pbwrpthe'\n\\item 'orzhxbbj'\n\\item 'hixymryt'\n\\item 'myxwpnwn'\n\\item 'bxkbstxb'\n\\item 'hmzruslc'\n\\item 'cllqnuvl'\n\\item 'qmclxdnu'\n\\item 'oqdgplnp'\n\\item 'eopbmmzy'\n\\item 'wocuxyiw'\n\\item 'rojkwpfy'\n\\item 'cgevlmcf'\n\\item 'axtbsexe'\n\\item 'jsltrscz'\n\\item 'nqbharqa'\n\\item 'nqclzicc'\n\\item 'dkghuhjc'\n\\item 'haefmpof'\n\\item 'vgkyyxpi'\n\\item 'bcfeehdm'\n\\item 'qphyejbu'\n\\item 'uxeenczv'\n\\item 'iraqatwm'\n\\item 'nufdkzfl'\n\\item 'skmwpptz'\n\\item 'reldigbn'\n\\item 'feinvsxr'\n\\item 'oohbveku'\n\\item 'pojmczdw'\n\\item 'xgkghymi'\n\\item 'ewsztltq'\n\\item 'vkoiihzv'\n\\item 'jtndytqp'\n\\item 'knlfnmxj'\n\\item 'woofufga'\n\\item 'bfctbzrz'\n\\item 'pagrjpzj'\n\\item 'mcoabnrt'\n\\item 'citiglpf'\n\\item 'nvrczbof'\n\\item 'mefpzjfw'\n\\item 'zqqaikoe'\n\\item 'efgqztzj'\n\\item 'qhxywnjg'\n\\item 'friozyjo'\n\\item 'yayblmsk'\n\\item 'yhfodwbg'\n\\item 'itkrrdmk'\n\\item 'pbpljfze'\n\\item 'acnokrhk'\n\\item 'vzrzloym'\n\\item 'jxochzqk'\n\\item 'radcldap'\n\\item 'xgmmmytc'\n\\item 'sitiublq'\n\\item 'lphoqorg'\n\\item 'denjzshl'\n\\item 'bcgnoxbs'\n\\item 'ehthyvwp'\n\\item 'nbkteiik'\n\\item 'vayeiwzm'\n\\item 'ojvofsul'\n\\item 'mlmzbyhf'\n\\item 'nipbtdcx'\n\\item 'uwiclcyr'\n\\item 'yaxbsxhz'\n\\item 'wiwcvvht'\n\\item 'vfqqghrb'\n\\item 'postgres'\n\\item 'bxtufnek'\n\\item 'xbsjqbvv'\n\\item 'amxekblj'\n\\item 'lbfymghh'\n\\item 'hzvxiwbx'\n\\item 'kmezddbi'\n\\item 'noqddglp'\n\\item 'uojhfltr'\n\\item 'bsmdtcly'\n\\item 'wbargjod'\n\\item 'vetgxzoh'\n\\item 'xhzdqofi'\n\\item 'qavyilms'\n\\item 'xahcntyb'\n\\item 'xkdsuhmk'\n\\item 'ctfawdcp'\n\\item 'uhgtmjih'\n\\item 'qtjdokji'\n\\item 'qirccbht'\n\\item 'qqywdkfb'\n\\item 'xjzgvkia'\n\\item 'vevxdnux'\n\\item 'evbnklxn'\n\\item 'zrwvlvgv'\n\\item 'bixzkdnm'\n\\item 'ddbokrfa'\n\\item 'xhmaylyv'\n\\item 'lqziaxfa'\n\\item 'alghleug'\n\\item 'entogblq'\n\\item 'zdostxxj'\n\\item 'vqfpvwkz'\n\\item 'rvuzyeoq'\n\\item 'zlroflbh'\n\\item 'gadcjcul'\n\\item 'guyljdfw'\n\\item 'xxofepig'\n\\item 'gvvoyrku'\n\\item 'gldroiki'\n\\item 'gusleauu'\n\\item 'ngujflci'\n\\item 'uudgeysk'\n\\item 'hplxilrv'\n\\item 'hfasnidr'\n\\item 'kdozbvxa'\n\\item 'rdptdjsc'\n\\item 'jxrqtqqg'\n\\item 'mtahntnt'\n\\item 'vlquqgao'\n\\item 'fqlbcdry'\n\\item 'lewiezzp'\n\\item 'nokhxztc'\n\\item 'jrxykzwj'\n\\item 'hdhlyazj'\n\\item 'iuxtztqk'\n\\item 'wsozuavo'\n\\item 'vbsyxyle'\n\\item 'icrtqqyj'\n\\item 'qdtalkhc'\n\\item 'vzargzzf'\n\\item 'axzjnlzu'\n\\item 'jnvyonyu'\n\\item 'fqmiufge'\n\\item 'izdtfmxe'\n\\item 'ihemdvjq'\n\\item 'yfylvsaf'\n\\item 'iryrxcoy'\n\\item 'lhjpofdk'\n\\item 'nvusqouu'\n\\item 'ogckctik'\n\\item 'nmqcxequ'\n\\item 'axhumlnr'\n\\item 'lqhdtczw'\n\\item 'mrsrruwm'\n\\item 'asfiyvae'\n\\item 'cnelylqs'\n\\item 'vzlewhbn'\n\\item 'rjwvzokq'\n\\item 'pkehgyha'\n\\item 'rufxyqwn'\n\\item 'upjonqqo'\n\\item 'mzqelczd'\n\\item 'kmlhnjsx'\n\\item 'bjlkxsvy'\n\\item 'kdfykiob'\n\\item 'cztfnuzv'\n\\item 'upiwmape'\n\\item 'enniypgu'\n\\item 'zybgxqfo'\n\\item 'dpmlbtyr'\n\\item 'vrmdvqja'\n\\item 'emnpclqt'\n\\item 'xztyhmyt'\n\\item 'ruloofty'\n\\item 'zbxunmmo'\n\\item 'yaegylrw'\n\\item 'whyvhbjd'\n\\item 'kigxjalj'\n\\item 'iewdhjos'\n\\item 'osoffbjh'\n\\item 'cupkssjs'\n\\item 'jnqstahx'\n\\item 'tjcnxzee'\n\\end{enumerate*}\n", 
                        "text/html": "<ol class=list-inline>\n\t<li>'template1'</li>\n\t<li>'template0'</li>\n\t<li>'qhrlhjub'</li>\n\t<li>'dmdrgfkh'</li>\n\t<li>'hitkyrbb'</li>\n\t<li>'csjlrsrn'</li>\n\t<li>'gfcgpbmp'</li>\n\t<li>'pesqbntq'</li>\n\t<li>'isxflxan'</li>\n\t<li>'tciwytqw'</li>\n\t<li>'vbrbbqlz'</li>\n\t<li>'stnrbwbg'</li>\n\t<li>'ibcvrkdp'</li>\n\t<li>'kiczavdw'</li>\n\t<li>'erpkviqq'</li>\n\t<li>'hxxplgil'</li>\n\t<li>'mebyyfhn'</li>\n\t<li>'kvgcuugn'</li>\n\t<li>'ewxkbgbp'</li>\n\t<li>'ivhbftfp'</li>\n\t<li>'rzvrywdz'</li>\n\t<li>'qyhtpwrs'</li>\n\t<li>'noeoupse'</li>\n\t<li>'kyqhfqcc'</li>\n\t<li>'sslblurk'</li>\n\t<li>'zmizwogy'</li>\n\t<li>'efhpfvlz'</li>\n\t<li>'uyqpffth'</li>\n\t<li>'lmejkkfe'</li>\n\t<li>'lznlqbfm'</li>\n\t<li>'lozpcqvf'</li>\n\t<li>'cavssykz'</li>\n\t<li>'rqecnirg'</li>\n\t<li>'wvnjdpsh'</li>\n\t<li>'pwoxdake'</li>\n\t<li>'hrrqoeos'</li>\n\t<li>'lugcppzo'</li>\n\t<li>'xgolmari'</li>\n\t<li>'qlvrizxz'</li>\n\t<li>'izrvffgj'</li>\n\t<li>'slxnyrdh'</li>\n\t<li>'ueoioxlc'</li>\n\t<li>'vnepifvr'</li>\n\t<li>'urnyivcc'</li>\n\t<li>'aonrmntz'</li>\n\t<li>'fxaoigui'</li>\n\t<li>'cawrlsrj'</li>\n\t<li>'wgbikraq'</li>\n\t<li>'mmwydbpk'</li>\n\t<li>'drgjjnfu'</li>\n\t<li>'ghmvhxze'</li>\n\t<li>'bgpquqda'</li>\n\t<li>'fhqzrwzm'</li>\n\t<li>'alfqrejg'</li>\n\t<li>'rusdhhne'</li>\n\t<li>'phmbeawd'</li>\n\t<li>'gykauqjs'</li>\n\t<li>'rqhvdogj'</li>\n\t<li>'uinoaufa'</li>\n\t<li>'ajyubwtg'</li>\n\t<li>'brkezaqp'</li>\n\t<li>'vgxrztpn'</li>\n\t<li>'eocdzgqy'</li>\n\t<li>'ywgamtjc'</li>\n\t<li>'cxtbqzsi'</li>\n\t<li>'kpdcplxi'</li>\n\t<li>'daqougbn'</li>\n\t<li>'apidueru'</li>\n\t<li>'iqvstdjv'</li>\n\t<li>'hwlhtgmj'</li>\n\t<li>'ffnvoqxq'</li>\n\t<li>'zgbdrbpx'</li>\n\t<li>'wxasfubd'</li>\n\t<li>'agqzxrhf'</li>\n\t<li>'arkobzfr'</li>\n\t<li>'rnfaviiu'</li>\n\t<li>'eotqkzqc'</li>\n\t<li>'thowaxjw'</li>\n\t<li>'xuwbyrcu'</li>\n\t<li>'zvteqxdg'</li>\n\t<li>'fmusgkac'</li>\n\t<li>'mrkzanaw'</li>\n\t<li>'cvsxqqik'</li>\n\t<li>'eczfboas'</li>\n\t<li>'uannzbrp'</li>\n\t<li>'eeyqjswi'</li>\n\t<li>'rlnvjcrt'</li>\n\t<li>'htojcpxc'</li>\n\t<li>'xlgfxzpa'</li>\n\t<li>'kevjmcci'</li>\n\t<li>'wtnngzzy'</li>\n\t<li>'eukjokgu'</li>\n\t<li>'lukwngfo'</li>\n\t<li>'swjbgnne'</li>\n\t<li>'aqnoalsn'</li>\n\t<li>'xrgpqaee'</li>\n\t<li>'vvkjxjce'</li>\n\t<li>'wqnxbvue'</li>\n\t<li>'sugmvulo'</li>\n\t<li>'xesfggxt'</li>\n\t<li>'wbjosdcs'</li>\n\t<li>'bxvxhuzd'</li>\n\t<li>'jbrfcxmo'</li>\n\t<li>'osbllhtf'</li>\n\t<li>'sjmpquxu'</li>\n\t<li>'zmhmgryi'</li>\n\t<li>'kpgqisrf'</li>\n\t<li>'cidphtrv'</li>\n\t<li>'mmlsheyh'</li>\n\t<li>'pzvroxkc'</li>\n\t<li>'vnqplaqv'</li>\n\t<li>'jydfifna'</li>\n\t<li>'psozcgtf'</li>\n\t<li>'djsvwjso'</li>\n\t<li>'rebbldly'</li>\n\t<li>'rtyhkusj'</li>\n\t<li>'gtycpzhb'</li>\n\t<li>'zmqvypza'</li>\n\t<li>'jseujvly'</li>\n\t<li>'uqevsijv'</li>\n\t<li>'zifsplin'</li>\n\t<li>'bklkzwor'</li>\n\t<li>'njemvrea'</li>\n\t<li>'jvarnbqk'</li>\n\t<li>'suacduhj'</li>\n\t<li>'plsywcyh'</li>\n\t<li>'gzuqtcde'</li>\n\t<li>'uewybdsq'</li>\n\t<li>'talowkrn'</li>\n\t<li>'lnrwhxil'</li>\n\t<li>'usfaumdi'</li>\n\t<li>'ulynbjne'</li>\n\t<li>'xnfwrrzg'</li>\n\t<li>'pylfyxob'</li>\n\t<li>'abfhtxwo'</li>\n\t<li>'adplbzzy'</li>\n\t<li>'vdjwumlk'</li>\n\t<li>'mxevywmm'</li>\n\t<li>'zmwdfizx'</li>\n\t<li>'qzyjvuuu'</li>\n\t<li>'baixneqs'</li>\n\t<li>'dtpqreqt'</li>\n\t<li>'nshqrqsq'</li>\n\t<li>'mubjnhbl'</li>\n\t<li>'vmaehgdd'</li>\n\t<li>'juwbceby'</li>\n\t<li>'icvngilq'</li>\n\t<li>'xaphdmrh'</li>\n\t<li>'wywkzbmv'</li>\n\t<li>'zyiloiwq'</li>\n\t<li>'ikbqpefn'</li>\n\t<li>'ryumfutv'</li>\n\t<li>'deyypaan'</li>\n\t<li>'sddrzodz'</li>\n\t<li>'ycawmmmg'</li>\n\t<li>'xqkkhyrw'</li>\n\t<li>'qcbdtivh'</li>\n\t<li>'nyrorfst'</li>\n\t<li>'oabuzjaj'</li>\n\t<li>'okkzvzrq'</li>\n\t<li>'eiuvknpp'</li>\n\t<li>'pvzsajwe'</li>\n\t<li>'jwejbecs'</li>\n\t<li>'goorltcp'</li>\n\t<li>'gfrtmrok'</li>\n\t<li>'djkmwsvr'</li>\n\t<li>'pkavvdyc'</li>\n\t<li>'ymirfbiy'</li>\n\t<li>'shqmugsw'</li>\n\t<li>'coidjgzx'</li>\n\t<li>'gubxyfrc'</li>\n\t<li>'tjpznvoq'</li>\n\t<li>'bimeqbhn'</li>\n\t<li>'dtfflqvw'</li>\n\t<li>'vjclmwcz'</li>\n\t<li>'ilgpkcmm'</li>\n\t<li>'cugazknm'</li>\n\t<li>'xnofvrde'</li>\n\t<li>'jznbowrn'</li>\n\t<li>'lvnlitex'</li>\n\t<li>'ivfsjhci'</li>\n\t<li>'gjkxykrw'</li>\n\t<li>'xualkfdi'</li>\n\t<li>'cqurkqpy'</li>\n\t<li>'syysnrli'</li>\n\t<li>'cdycdlzt'</li>\n\t<li>'daahxehl'</li>\n\t<li>'xkbuiicw'</li>\n\t<li>'dnuedsjt'</li>\n\t<li>'tfhgspmk'</li>\n\t<li>'emdydllw'</li>\n\t<li>'hgykefuh'</li>\n\t<li>'qoajdlgb'</li>\n\t<li>'foxnhnyv'</li>\n\t<li>'pomkjwcu'</li>\n\t<li>'ieetjcal'</li>\n\t<li>'aeeznhvh'</li>\n\t<li>'uvgnogzl'</li>\n\t<li>'oomjvmbn'</li>\n\t<li>'mcizkwfw'</li>\n\t<li>'zcohvqvb'</li>\n\t<li>'ahhstkve'</li>\n\t<li>'jjxshbho'</li>\n\t<li>'dosicsln'</li>\n\t<li>'ituazben'</li>\n\t<li>'jtqofgvj'</li>\n\t<li>'kchbjdmh'</li>\n\t<li>'ddetmpst'</li>\n\t<li>'kgcqkfkn'</li>\n\t<li>'iwakllce'</li>\n\t<li>'fjrrtvlu'</li>\n\t<li>'hwzhmlvr'</li>\n\t<li>'cfqdfryi'</li>\n\t<li>'ahrbthol'</li>\n\t<li>'hthikklx'</li>\n\t<li>'htuqnllo'</li>\n\t<li>'qettkgxb'</li>\n\t<li>'tomabpfm'</li>\n\t<li>'fsrpqjdz'</li>\n\t<li>'gwwznybg'</li>\n\t<li>'znotmfkl'</li>\n\t<li>'qbhnixgt'</li>\n\t<li>'nzejatev'</li>\n\t<li>'ozqttcsr'</li>\n\t<li>'xagugyio'</li>\n\t<li>'hqbiafrk'</li>\n\t<li>'fmpzifzj'</li>\n\t<li>'erkbwcvp'</li>\n\t<li>'dugqqeri'</li>\n\t<li>'uzjmyglm'</li>\n\t<li>'nxxpkqam'</li>\n\t<li>'zvfotvrr'</li>\n\t<li>'lhodvydh'</li>\n\t<li>'pnbwgmtz'</li>\n\t<li>'srmsqutq'</li>\n\t<li>'alassxvj'</li>\n\t<li>'psejmcwd'</li>\n\t<li>'ejsikwmm'</li>\n\t<li>'uhqcrbcy'</li>\n\t<li>'odmrfxwt'</li>\n\t<li>'pzwgyfhz'</li>\n\t<li>'tyohgxra'</li>\n\t<li>'owlxzqtr'</li>\n\t<li>'wfboykzl'</li>\n\t<li>'mhrtcldh'</li>\n\t<li>'qlrijdwx'</li>\n\t<li>'iavtixom'</li>\n\t<li>'ddboqhjz'</li>\n\t<li>'ourvrkmr'</li>\n\t<li>'nkuzaajo'</li>\n\t<li>'odosfuwm'</li>\n\t<li>'hshvgphi'</li>\n\t<li>'oppiilnh'</li>\n\t<li>'gexiyalg'</li>\n\t<li>'wvpfuoal'</li>\n\t<li>'srsbyqek'</li>\n\t<li>'lmgpuizh'</li>\n\t<li>'bvstzqwi'</li>\n\t<li>'kdyryvhx'</li>\n\t<li>'xqmmnkvt'</li>\n\t<li>'uhlarqfq'</li>\n\t<li>'iuwttqak'</li>\n\t<li>'dqewvkev'</li>\n\t<li>'hpzpkgie'</li>\n\t<li>'zmisznzo'</li>\n\t<li>'eqbhskih'</li>\n\t<li>'zltduspr'</li>\n\t<li>'hwbnjqih'</li>\n\t<li>'gkzoocfc'</li>\n\t<li>'gonyifps'</li>\n\t<li>'jtcwnvsq'</li>\n\t<li>'lysrxmfk'</li>\n\t<li>'cqibtjve'</li>\n\t<li>'plulysxj'</li>\n\t<li>'lniyndps'</li>\n\t<li>'rssxbyjz'</li>\n\t<li>'hvyowaci'</li>\n\t<li>'fqojclxm'</li>\n\t<li>'dcoybxhh'</li>\n\t<li>'jutxpcqm'</li>\n\t<li>'pxgihbdm'</li>\n\t<li>'ueccfpfh'</li>\n\t<li>'inybustq'</li>\n\t<li>'btabsbju'</li>\n\t<li>'yjrluvts'</li>\n\t<li>'xcrttaqs'</li>\n\t<li>'imeunlnn'</li>\n\t<li>'mndzapdu'</li>\n\t<li>'kivehpow'</li>\n\t<li>'ckthmpvd'</li>\n\t<li>'dhjthadc'</li>\n\t<li>'rlndulbm'</li>\n\t<li>'udnxyrra'</li>\n\t<li>'pacmyvfb'</li>\n\t<li>'clsoabgs'</li>\n\t<li>'uejrmani'</li>\n\t<li>'povvlvyc'</li>\n\t<li>'lhecwuop'</li>\n\t<li>'ojmcfyxx'</li>\n\t<li>'vyahmkia'</li>\n\t<li>'dbdcoikv'</li>\n\t<li>'juaygglg'</li>\n\t<li>'lwdyhaak'</li>\n\t<li>'fzgxjiam'</li>\n\t<li>'kekmqjfo'</li>\n\t<li>'agxbpgkp'</li>\n\t<li>'kihwczpm'</li>\n\t<li>'lqgcmndx'</li>\n\t<li>'tzamegeb'</li>\n\t<li>'zpibqeko'</li>\n\t<li>'pgsvbxpu'</li>\n\t<li>'bhiwziur'</li>\n\t<li>'zjuvirhf'</li>\n\t<li>'ovdbteok'</li>\n\t<li>'hgidvavr'</li>\n\t<li>'tpvuvhuw'</li>\n\t<li>'ukbvxkjw'</li>\n\t<li>'pspciyxe'</li>\n\t<li>'dyincwoe'</li>\n\t<li>'tqslnrou'</li>\n\t<li>'ghgracsa'</li>\n\t<li>'ppgfpscc'</li>\n\t<li>'dtvjxeoc'</li>\n\t<li>'pwrcudmf'</li>\n\t<li>'tkmhfmrs'</li>\n\t<li>'gkbnbvjm'</li>\n\t<li>'yalvnnjj'</li>\n\t<li>'weqqugvi'</li>\n\t<li>'qverhlqa'</li>\n\t<li>'aktpjyft'</li>\n\t<li>'vsjrwtri'</li>\n\t<li>'jknvamdk'</li>\n\t<li>'krdrnzhg'</li>\n\t<li>'xbsitwul'</li>\n\t<li>'imunpnoy'</li>\n\t<li>'wdtzemyf'</li>\n\t<li>'jgnywghm'</li>\n\t<li>'jqzbrdob'</li>\n\t<li>'blobsdld'</li>\n\t<li>'oavpwktz'</li>\n\t<li>'lidycthz'</li>\n\t<li>'wefafrpi'</li>\n\t<li>'nrlevuec'</li>\n\t<li>'btcvuutt'</li>\n\t<li>'auenemcv'</li>\n\t<li>'qkchorpa'</li>\n\t<li>'yjeswaua'</li>\n\t<li>'yrklnnwp'</li>\n\t<li>'ozhzgnav'</li>\n\t<li>'fmdtzegf'</li>\n\t<li>'vbtkdjct'</li>\n\t<li>'wvimgloi'</li>\n\t<li>'mkqtrywq'</li>\n\t<li>'tbxvpebo'</li>\n\t<li>'mbfzkynp'</li>\n\t<li>'lftdevvf'</li>\n\t<li>'xnhcnhvm'</li>\n\t<li>'vbgugdsl'</li>\n\t<li>'xjtnvqad'</li>\n\t<li>'ccenrwio'</li>\n\t<li>'ulddbhjf'</li>\n\t<li>'bkreylrm'</li>\n\t<li>'rgbrhsxp'</li>\n\t<li>'hznswkyd'</li>\n\t<li>'tknoofwt'</li>\n\t<li>'jzdwiyck'</li>\n\t<li>'fxpasjaz'</li>\n\t<li>'ivnzcrjj'</li>\n\t<li>'ykvacnel'</li>\n\t<li>'ryovfden'</li>\n\t<li>'hfkjknqr'</li>\n\t<li>'ridgwzrf'</li>\n\t<li>'gygwedht'</li>\n\t<li>'elffptep'</li>\n\t<li>'sunyehsl'</li>\n\t<li>'hopffcay'</li>\n\t<li>'hcpqhdjn'</li>\n\t<li>'fewwjbym'</li>\n\t<li>'gmauabyr'</li>\n\t<li>'vyuqqdgt'</li>\n\t<li>'edwlugaz'</li>\n\t<li>'ngujjnrj'</li>\n\t<li>'afmjbtbu'</li>\n\t<li>'ztvbnuga'</li>\n\t<li>'cbkfbcbj'</li>\n\t<li>'iujmxiwy'</li>\n\t<li>'hinhkdhf'</li>\n\t<li>'mfqdfvgo'</li>\n\t<li>'jmnxskwu'</li>\n\t<li>'fcwpzjah'</li>\n\t<li>'lqjokehz'</li>\n\t<li>'nkdujexw'</li>\n\t<li>'flilnlej'</li>\n\t<li>'tcdhfigh'</li>\n\t<li>'qvbxzcqn'</li>\n\t<li>'eqrporzz'</li>\n\t<li>'zijakdmp'</li>\n\t<li>'woxasqjd'</li>\n\t<li>'ogaelsuy'</li>\n\t<li>'esukypst'</li>\n\t<li>'lxmmcjep'</li>\n\t<li>'kccboyww'</li>\n\t<li>'nacmafva'</li>\n\t<li>'ugditiki'</li>\n\t<li>'fkdqneqx'</li>\n\t<li>'xuwsgoqp'</li>\n\t<li>'qxrxgyzv'</li>\n\t<li>'ntoctzpi'</li>\n\t<li>'owoueamg'</li>\n\t<li>'uubmfzgd'</li>\n\t<li>'ufptzocr'</li>\n\t<li>'kpwojbav'</li>\n\t<li>'gvujhzsj'</li>\n\t<li>'ltftsfhe'</li>\n\t<li>'xpqkqhzh'</li>\n\t<li>'dnjhyjhr'</li>\n\t<li>'fmtclkcc'</li>\n\t<li>'bamldkzw'</li>\n\t<li>'duwjmwbt'</li>\n\t<li>'hvqmopjz'</li>\n\t<li>'wulszrlw'</li>\n\t<li>'rtmimmwy'</li>\n\t<li>'xuljkkwj'</li>\n\t<li>'jkhfwsli'</li>\n\t<li>'ukpfnaao'</li>\n\t<li>'blkwfqbj'</li>\n\t<li>'jfgxlqbe'</li>\n\t<li>'pcfrubaw'</li>\n\t<li>'znekxxhe'</li>\n\t<li>'zelrmmyw'</li>\n\t<li>'tkrzrikr'</li>\n\t<li>'fmhzrsvh'</li>\n\t<li>'izyqryky'</li>\n\t<li>'rjxwqrzt'</li>\n\t<li>'exzljibf'</li>\n\t<li>'cojdaojy'</li>\n\t<li>'yxcmekrt'</li>\n\t<li>'tciotcqn'</li>\n\t<li>'dashcebf'</li>\n\t<li>'rqqpekgy'</li>\n\t<li>'rounieet'</li>\n\t<li>'kmroychy'</li>\n\t<li>'pouvxrvb'</li>\n\t<li>'vidctpyx'</li>\n\t<li>'illutqiz'</li>\n\t<li>'tldtdcio'</li>\n\t<li>'mvezakwj'</li>\n\t<li>'vqqvqetv'</li>\n\t<li>'tkdeevgx'</li>\n\t<li>'pbmuopzk'</li>\n\t<li>'jqizwkbm'</li>\n\t<li>'elgstsao'</li>\n\t<li>'kpdebhgz'</li>\n\t<li>'jbiglheo'</li>\n\t<li>'lhsmlqhv'</li>\n\t<li>'venyyesr'</li>\n\t<li>'iadpzulh'</li>\n\t<li>'zwhowimt'</li>\n\t<li>'wrmrirpx'</li>\n\t<li>'kawwhbug'</li>\n\t<li>'hbktzoux'</li>\n\t<li>'dtvpiwxn'</li>\n\t<li>'rkjpgrxg'</li>\n\t<li>'ljxzrycr'</li>\n\t<li>'ngzjudna'</li>\n\t<li>'fnvsjyxq'</li>\n\t<li>'ijwwxjnw'</li>\n\t<li>'kxsyghym'</li>\n\t<li>'pbwrpthe'</li>\n\t<li>'orzhxbbj'</li>\n\t<li>'hixymryt'</li>\n\t<li>'myxwpnwn'</li>\n\t<li>'bxkbstxb'</li>\n\t<li>'hmzruslc'</li>\n\t<li>'cllqnuvl'</li>\n\t<li>'qmclxdnu'</li>\n\t<li>'oqdgplnp'</li>\n\t<li>'eopbmmzy'</li>\n\t<li>'wocuxyiw'</li>\n\t<li>'rojkwpfy'</li>\n\t<li>'cgevlmcf'</li>\n\t<li>'axtbsexe'</li>\n\t<li>'jsltrscz'</li>\n\t<li>'nqbharqa'</li>\n\t<li>'nqclzicc'</li>\n\t<li>'dkghuhjc'</li>\n\t<li>'haefmpof'</li>\n\t<li>'vgkyyxpi'</li>\n\t<li>'bcfeehdm'</li>\n\t<li>'qphyejbu'</li>\n\t<li>'uxeenczv'</li>\n\t<li>'iraqatwm'</li>\n\t<li>'nufdkzfl'</li>\n\t<li>'skmwpptz'</li>\n\t<li>'reldigbn'</li>\n\t<li>'feinvsxr'</li>\n\t<li>'oohbveku'</li>\n\t<li>'pojmczdw'</li>\n\t<li>'xgkghymi'</li>\n\t<li>'ewsztltq'</li>\n\t<li>'vkoiihzv'</li>\n\t<li>'jtndytqp'</li>\n\t<li>'knlfnmxj'</li>\n\t<li>'woofufga'</li>\n\t<li>'bfctbzrz'</li>\n\t<li>'pagrjpzj'</li>\n\t<li>'mcoabnrt'</li>\n\t<li>'citiglpf'</li>\n\t<li>'nvrczbof'</li>\n\t<li>'mefpzjfw'</li>\n\t<li>'zqqaikoe'</li>\n\t<li>'efgqztzj'</li>\n\t<li>'qhxywnjg'</li>\n\t<li>'friozyjo'</li>\n\t<li>'yayblmsk'</li>\n\t<li>'yhfodwbg'</li>\n\t<li>'itkrrdmk'</li>\n\t<li>'pbpljfze'</li>\n\t<li>'acnokrhk'</li>\n\t<li>'vzrzloym'</li>\n\t<li>'jxochzqk'</li>\n\t<li>'radcldap'</li>\n\t<li>'xgmmmytc'</li>\n\t<li>'sitiublq'</li>\n\t<li>'lphoqorg'</li>\n\t<li>'denjzshl'</li>\n\t<li>'bcgnoxbs'</li>\n\t<li>'ehthyvwp'</li>\n\t<li>'nbkteiik'</li>\n\t<li>'vayeiwzm'</li>\n\t<li>'ojvofsul'</li>\n\t<li>'mlmzbyhf'</li>\n\t<li>'nipbtdcx'</li>\n\t<li>'uwiclcyr'</li>\n\t<li>'yaxbsxhz'</li>\n\t<li>'wiwcvvht'</li>\n\t<li>'vfqqghrb'</li>\n\t<li>'postgres'</li>\n\t<li>'bxtufnek'</li>\n\t<li>'xbsjqbvv'</li>\n\t<li>'amxekblj'</li>\n\t<li>'lbfymghh'</li>\n\t<li>'hzvxiwbx'</li>\n\t<li>'kmezddbi'</li>\n\t<li>'noqddglp'</li>\n\t<li>'uojhfltr'</li>\n\t<li>'bsmdtcly'</li>\n\t<li>'wbargjod'</li>\n\t<li>'vetgxzoh'</li>\n\t<li>'xhzdqofi'</li>\n\t<li>'qavyilms'</li>\n\t<li>'xahcntyb'</li>\n\t<li>'xkdsuhmk'</li>\n\t<li>'ctfawdcp'</li>\n\t<li>'uhgtmjih'</li>\n\t<li>'qtjdokji'</li>\n\t<li>'qirccbht'</li>\n\t<li>'qqywdkfb'</li>\n\t<li>'xjzgvkia'</li>\n\t<li>'vevxdnux'</li>\n\t<li>'evbnklxn'</li>\n\t<li>'zrwvlvgv'</li>\n\t<li>'bixzkdnm'</li>\n\t<li>'ddbokrfa'</li>\n\t<li>'xhmaylyv'</li>\n\t<li>'lqziaxfa'</li>\n\t<li>'alghleug'</li>\n\t<li>'entogblq'</li>\n\t<li>'zdostxxj'</li>\n\t<li>'vqfpvwkz'</li>\n\t<li>'rvuzyeoq'</li>\n\t<li>'zlroflbh'</li>\n\t<li>'gadcjcul'</li>\n\t<li>'guyljdfw'</li>\n\t<li>'xxofepig'</li>\n\t<li>'gvvoyrku'</li>\n\t<li>'gldroiki'</li>\n\t<li>'gusleauu'</li>\n\t<li>'ngujflci'</li>\n\t<li>'uudgeysk'</li>\n\t<li>'hplxilrv'</li>\n\t<li>'hfasnidr'</li>\n\t<li>'kdozbvxa'</li>\n\t<li>'rdptdjsc'</li>\n\t<li>'jxrqtqqg'</li>\n\t<li>'mtahntnt'</li>\n\t<li>'vlquqgao'</li>\n\t<li>'fqlbcdry'</li>\n\t<li>'lewiezzp'</li>\n\t<li>'nokhxztc'</li>\n\t<li>'jrxykzwj'</li>\n\t<li>'hdhlyazj'</li>\n\t<li>'iuxtztqk'</li>\n\t<li>'wsozuavo'</li>\n\t<li>'vbsyxyle'</li>\n\t<li>'icrtqqyj'</li>\n\t<li>'qdtalkhc'</li>\n\t<li>'vzargzzf'</li>\n\t<li>'axzjnlzu'</li>\n\t<li>'jnvyonyu'</li>\n\t<li>'fqmiufge'</li>\n\t<li>'izdtfmxe'</li>\n\t<li>'ihemdvjq'</li>\n\t<li>'yfylvsaf'</li>\n\t<li>'iryrxcoy'</li>\n\t<li>'lhjpofdk'</li>\n\t<li>'nvusqouu'</li>\n\t<li>'ogckctik'</li>\n\t<li>'nmqcxequ'</li>\n\t<li>'axhumlnr'</li>\n\t<li>'lqhdtczw'</li>\n\t<li>'mrsrruwm'</li>\n\t<li>'asfiyvae'</li>\n\t<li>'cnelylqs'</li>\n\t<li>'vzlewhbn'</li>\n\t<li>'rjwvzokq'</li>\n\t<li>'pkehgyha'</li>\n\t<li>'rufxyqwn'</li>\n\t<li>'upjonqqo'</li>\n\t<li>'mzqelczd'</li>\n\t<li>'kmlhnjsx'</li>\n\t<li>'bjlkxsvy'</li>\n\t<li>'kdfykiob'</li>\n\t<li>'cztfnuzv'</li>\n\t<li>'upiwmape'</li>\n\t<li>'enniypgu'</li>\n\t<li>'zybgxqfo'</li>\n\t<li>'dpmlbtyr'</li>\n\t<li>'vrmdvqja'</li>\n\t<li>'emnpclqt'</li>\n\t<li>'xztyhmyt'</li>\n\t<li>'ruloofty'</li>\n\t<li>'zbxunmmo'</li>\n\t<li>'yaegylrw'</li>\n\t<li>'whyvhbjd'</li>\n\t<li>'kigxjalj'</li>\n\t<li>'iewdhjos'</li>\n\t<li>'osoffbjh'</li>\n\t<li>'cupkssjs'</li>\n\t<li>'jnqstahx'</li>\n\t<li>'tjcnxzee'</li>\n</ol>\n"
                    }, 
                    "metadata": {}
                }
            ], 
            "execution_count": 5
        }, 
        {
            "source": "## Create a table\n\nCreate a test table named Cars. The code below drops the Cars table if it already exists, and then creates the new table:", 
            "cell_type": "markdown", 
            "metadata": {}
        }, 
        {
            "source": "dbSendQuery(conn, \"DROP TABLE IF EXISTS Cars\")\ndbSendQuery(conn, \"CREATE TABLE Cars(Id INTEGER PRIMARY KEY, Name VARCHAR(20), Price INT)\")", 
            "cell_type": "code", 
            "metadata": {}, 
            "outputs": [
                {
                    "output_type": "display_data", 
                    "data": {
                        "text/plain": "<PostgreSQLResult>"
                    }, 
                    "metadata": {}
                }, 
                {
                    "output_type": "display_data", 
                    "data": {
                        "text/plain": "<PostgreSQLResult>"
                    }, 
                    "metadata": {}
                }
            ], 
            "execution_count": 6
        }, 
        {
            "source": "## Insert data into a table\n\nRun the following commands to create records in the new Cars table:", 
            "cell_type": "markdown", 
            "metadata": {}
        }, 
        {
            "source": "dbSendQuery(conn, \"INSERT INTO Cars VALUES(1,'Audi',52642)\")\ndbSendQuery(conn, \"INSERT INTO Cars VALUES(2,'Mercedes',57127)\")\ndbSendQuery(conn, \"INSERT INTO Cars VALUES(3,'Skoda',9000)\")\ndbSendQuery(conn, \"INSERT INTO Cars VALUES(4,'Volvo',29000)\")\ndbSendQuery(conn, \"INSERT INTO Cars VALUES(5,'Bentley',350000)\")\ndbSendQuery(conn, \"INSERT INTO Cars VALUES(6,'Citroen',21000)\")\ndbSendQuery(conn, \"INSERT INTO Cars VALUES(7,'Hummer',41400)\")\ndbSendQuery(conn, \"INSERT INTO Cars VALUES(8,'Volkswagen',21600)\")", 
            "cell_type": "code", 
            "metadata": {
                "scrolled": true
            }, 
            "outputs": [
                {
                    "output_type": "display_data", 
                    "data": {
                        "text/plain": "<PostgreSQLResult>"
                    }, 
                    "metadata": {}
                }, 
                {
                    "output_type": "display_data", 
                    "data": {
                        "text/plain": "<PostgreSQLResult>"
                    }, 
                    "metadata": {}
                }, 
                {
                    "output_type": "display_data", 
                    "data": {
                        "text/plain": "<PostgreSQLResult>"
                    }, 
                    "metadata": {}
                }, 
                {
                    "output_type": "display_data", 
                    "data": {
                        "text/plain": "<PostgreSQLResult>"
                    }, 
                    "metadata": {}
                }, 
                {
                    "output_type": "display_data", 
                    "data": {
                        "text/plain": "<PostgreSQLResult>"
                    }, 
                    "metadata": {}
                }, 
                {
                    "output_type": "display_data", 
                    "data": {
                        "text/plain": "<PostgreSQLResult>"
                    }, 
                    "metadata": {}
                }, 
                {
                    "output_type": "display_data", 
                    "data": {
                        "text/plain": "<PostgreSQLResult>"
                    }, 
                    "metadata": {}
                }, 
                {
                    "output_type": "display_data", 
                    "data": {
                        "text/plain": "<PostgreSQLResult>"
                    }, 
                    "metadata": {}
                }
            ], 
            "execution_count": 7
        }, 
        {
            "source": "## Query data\n\nThe following R code fetches records from the Cars table:", 
            "cell_type": "markdown", 
            "metadata": {}
        }, 
        {
            "source": "df <- dbGetQuery(conn, \"SELECT * FROM Cars\")", 
            "cell_type": "code", 
            "metadata": {}, 
            "outputs": [], 
            "execution_count": 8
        }, 
        {
            "source": "You can easily print the dataframe:", 
            "cell_type": "markdown", 
            "metadata": {}
        }, 
        {
            "source": "df", 
            "cell_type": "code", 
            "metadata": {}, 
            "outputs": [
                {
                    "output_type": "display_data", 
                    "data": {
                        "text/plain": "  id name       price \n1 1  Audi        52642\n2 2  Mercedes    57127\n3 3  Skoda        9000\n4 4  Volvo       29000\n5 5  Bentley    350000\n6 6  Citroen     21000\n7 7  Hummer      41400\n8 8  Volkswagen  21600", 
                        "text/markdown": "\nid | name | price | \n|---|---|---|---|---|---|---|---|\n| 1          | Audi       |  52642     | \n| 2          | Mercedes   |  57127     | \n| 3          | Skoda      |   9000     | \n| 4          | Volvo      |  29000     | \n| 5          | Bentley    | 350000     | \n| 6          | Citroen    |  21000     | \n| 7          | Hummer     |  41400     | \n| 8          | Volkswagen |  21600     | \n\n\n", 
                        "text/latex": "\\begin{tabular}{r|lll}\n id & name & price\\\\\n\\hline\n\t 1          & Audi       &  52642    \\\\\n\t 2          & Mercedes   &  57127    \\\\\n\t 3          & Skoda      &   9000    \\\\\n\t 4          & Volvo      &  29000    \\\\\n\t 5          & Bentley    & 350000    \\\\\n\t 6          & Citroen    &  21000    \\\\\n\t 7          & Hummer     &  41400    \\\\\n\t 8          & Volkswagen &  21600    \\\\\n\\end{tabular}\n", 
                        "text/html": "<table>\n<thead><tr><th scope=col>id</th><th scope=col>name</th><th scope=col>price</th></tr></thead>\n<tbody>\n\t<tr><td>1         </td><td>Audi      </td><td> 52642    </td></tr>\n\t<tr><td>2         </td><td>Mercedes  </td><td> 57127    </td></tr>\n\t<tr><td>3         </td><td>Skoda     </td><td>  9000    </td></tr>\n\t<tr><td>4         </td><td>Volvo     </td><td> 29000    </td></tr>\n\t<tr><td>5         </td><td>Bentley   </td><td>350000    </td></tr>\n\t<tr><td>6         </td><td>Citroen   </td><td> 21000    </td></tr>\n\t<tr><td>7         </td><td>Hummer    </td><td> 41400    </td></tr>\n\t<tr><td>8         </td><td>Volkswagen</td><td> 21600    </td></tr>\n</tbody>\n</table>\n"
                    }, 
                    "metadata": {}
                }
            ], 
            "execution_count": 9
        }, 
        {
            "source": "\nExport data using the *write.csv()* command:", 
            "cell_type": "markdown", 
            "metadata": {}
        }, 
        {
            "source": "write.csv(df, 'cars.csv')", 
            "cell_type": "code", 
            "metadata": {}, 
            "outputs": [], 
            "execution_count": 10
        }, 
        {
            "source": "You can see where your file was saved:", 
            "cell_type": "markdown", 
            "metadata": {}
        }, 
        {
            "source": "getwd()", 
            "cell_type": "code", 
            "metadata": {}, 
            "outputs": [
                {
                    "output_type": "display_data", 
                    "data": {
                        "text/plain": "[1] \"/home/dsxuser/work\"", 
                        "text/markdown": "'/home/dsxuser/work'", 
                        "text/latex": "'/home/dsxuser/work'", 
                        "text/html": "'/home/dsxuser/work'"
                    }, 
                    "metadata": {}
                }
            ], 
            "execution_count": 11
        }, 
        {
            "source": "list.files()", 
            "cell_type": "code", 
            "metadata": {}, 
            "outputs": [
                {
                    "output_type": "display_data", 
                    "data": {
                        "text/plain": "[1] \"cars.csv\"", 
                        "text/markdown": "'cars.csv'", 
                        "text/latex": "'cars.csv'", 
                        "text/html": "'cars.csv'"
                    }, 
                    "metadata": {}
                }
            ], 
            "execution_count": 12
        }, 
        {
            "source": "## Close the database connection\n\nIt is good practice to close your database connection after work is done:", 
            "cell_type": "markdown", 
            "metadata": {}
        }, 
        {
            "source": "dbDisconnect(conn)", 
            "cell_type": "code", 
            "metadata": {}, 
            "outputs": [
                {
                    "output_type": "display_data", 
                    "data": {
                        "text/plain": "[1] TRUE", 
                        "text/markdown": "TRUE", 
                        "text/latex": "TRUE", 
                        "text/html": "TRUE"
                    }, 
                    "metadata": {}
                }
            ], 
            "execution_count": 13
        }, 
        {
            "source": "## Summary\n\nThis notebook demonstrated how to establish a connection to a PostgreSQL database from R using the RPostgreSQL library. For more information about that library see the CRAN RPostgreSQL documentation: [RPostgreSQL: R interface to the PostgreSQL database system](https://cran.r-project.org/web/packages/RPostgreSQL/).", 
            "cell_type": "markdown", 
            "metadata": {}
        }, 
        {
            "source": "## Want to learn more?\n### Free courses on <a href=\"https://bigdatauniversity.com/courses/?utm_source=tutorial-dashdb-python&utm_medium=github&utm_campaign=bdu/\" rel=\"noopener noreferrer\" target=\"_blank\">Cognitive Class</a>: <a href=\"https://bigdatauniversity.com/courses/?utm_source=tutorial-dashdb-python&utm_medium=github&utm_campaign=bdu\" rel=\"noopener noreferrer\" target=\"_blank\"><img src = \"https://ibm.box.com/shared/static/xomeu7dacwufkoawbg3owc8wzuezltn6.png\" width=600px> </a>", 
            "cell_type": "markdown", 
            "metadata": {}
        }, 
        {
            "source": "### Authors\n\n**Saeed Aghabozorgi**, PhD, is a Data Scientist in IBM with a track record of developing enterprise-level applications that substantially increases clients' ability to turn data into actionable knowledge. He is a researcher in the data mining field and an expert in developing advanced analytic methods like machine learning and statistical modelling on large data sets.\n\n**Polong Lin** is a Data Scientist at IBM in Canada. Under the Emerging Technologies division, Polong is responsible for educating the next generation of data scientists through Big Data University. Polong is a regular speaker in conferences and meetups, and holds an M.Sc. in Cognitive Psychology.", 
            "cell_type": "markdown", 
            "metadata": {}
        }, 
        {
            "source": "Copyright \u00a9 2016, 2018 Cognitive Class. This notebook and its source code are released under the terms of the <a href=\"https://bigdatauniversity.com/mit-license/\" rel=\"noopener noreferrer\" target=\"_blank\">MIT License</a>.", 
            "cell_type": "markdown", 
            "metadata": {}
        }
    ], 
    "metadata": {
        "kernelspec": {
            "display_name": "R with Spark 2.1", 
            "name": "r-spark21", 
            "language": "R"
        }, 
        "language_info": {
            "mimetype": "text/x-r-source", 
            "version": "3.3.2", 
            "name": "R", 
            "pygments_lexer": "r", 
            "file_extension": ".r", 
            "codemirror_mode": "r"
        }
    }, 
    "nbformat": 4
}