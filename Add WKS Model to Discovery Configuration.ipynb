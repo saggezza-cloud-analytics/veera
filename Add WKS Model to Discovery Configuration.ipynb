{
    "nbformat_minor": 1, 
    "cells": [
        {
            "source": "## The purpose of this script is to add a WKS model to a Default Configuration in Watson Discovery Service", 
            "cell_type": "markdown", 
            "metadata": {}
        }, 
        {
            "source": "### Input Credentials/Define Variables", 
            "cell_type": "markdown", 
            "metadata": {}
        }, 
        {
            "execution_count": 2, 
            "cell_type": "code", 
            "metadata": {}, 
            "outputs": [], 
            "source": "# #put in Discovery credentilas\ndiscovery = DiscoveryV1(\n  username=\"1a8438d0-2ab5-49f9-bca1-90bfbffab2ec\",\n  password=\"yZ4tozhAwu6Z\",\n  version=\"2018-03-05\"\n)\n\n#custom model ID if applicable\n#you will get this id from deploying your WKS model within the WKS tooling\nmodel_id = \"\"\n\n\n#new configuration name (ie: wks_config)\nnew_config_name = \"\"\n\n#new configuration description (ie: This config has a WKS model.)\nnew_config_description = \"\"\n"
        }, 
        {
            "execution_count": 1, 
            "cell_type": "code", 
            "metadata": {}, 
            "outputs": [], 
            "source": "import sys\nimport os\nimport json\nfrom watson_developer_cloud import DiscoveryV1\nimport pandas as pd\nimport itertools\nimport json, re\nimport openpyxl\nfrom openpyxl import load_workbook\nimport datetime\n\n"
        }, 
        {
            "execution_count": 3, 
            "cell_type": "code", 
            "metadata": {}, 
            "outputs": [], 
            "source": "#get enviroment\nenvironments = discovery.list_environments()\nenvironment_id = environments[\"environments\"][1][\"environment_id\"]\n\n\n#get default config id\nconfigs = discovery.list_configurations(environment_id)\nconfiguration_id = configs[\"configurations\"][0][\"configuration_id\"]\n\n#pull degault config\nconfig = discovery.get_configuration(environment_id, configuration_id)\n# print(json.dumps(config, indent=2))\n\n#use the default config as your base\nnew_config = json\n\n#rename your configuration\nnew_config[\"name\"] = new_config_name\n\n#add in a new description \nnew_config[\"description\"]= new_config_description\n\n#add in your WKS model for entities\nnew_config[\"enrichments\"][0][\"options\"][\"features\"][\"entities\"] = {\"model\":model_id}\n\n\n# #add in your WKS model for relations if WKS model has relationships\n# new_config[\"enrichments\"][0][\"options\"][\"features\"][\"relations\"] = {\"model\":model_id}\n\n\n#add your configuration to your enviroment\nupdated_config = discovery.create_configuration(environment_id, new_config)\n# print(json.dumps(updated_config, indent=2))"
        }
    ], 
    "metadata": {
        "kernelspec": {
            "display_name": "Python 3.5 with Spark 2.0 (Deprecated)", 
            "name": "python3-spark20", 
            "language": "python"
        }, 
        "language_info": {
            "mimetype": "text/x-python", 
            "nbconvert_exporter": "python", 
            "version": "3.5.4", 
            "name": "python", 
            "file_extension": ".py", 
            "pygments_lexer": "ipython3", 
            "codemirror_mode": {
                "version": 3, 
                "name": "ipython"
            }
        }, 
        "anaconda-cloud": {}
    }, 
    "nbformat": 4
}